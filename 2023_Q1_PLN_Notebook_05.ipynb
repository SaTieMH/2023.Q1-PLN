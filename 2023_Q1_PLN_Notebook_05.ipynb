{
  "nbformat": 4,
  "nbformat_minor": 0,
  "metadata": {
    "colab": {
      "provenance": [],
      "authorship_tag": "ABX9TyOICYwotiv6geUzI4lnrR+4",
      "include_colab_link": true
    },
    "kernelspec": {
      "name": "python3",
      "display_name": "Python 3"
    }
  },
  "cells": [
    {
      "cell_type": "markdown",
      "metadata": {
        "id": "view-in-github",
        "colab_type": "text"
      },
      "source": [
        "<a href=\"https://colab.research.google.com/github/adalves-ufabc/2023.Q1-PLN/blob/main/2023_Q1_PLN_Notebook_05.ipynb\" target=\"_parent\"><img src=\"https://colab.research.google.com/assets/colab-badge.svg\" alt=\"Open In Colab\"/></a>"
      ]
    },
    {
      "cell_type": "markdown",
      "metadata": {
        "id": "Y6QILOdpOjwv"
      },
      "source": [
        "# **Processamento de Linguagem Natural [2023.Q1]**\n",
        "Prof. Alexandre Donizeti Alves"
      ]
    },
    {
      "cell_type": "markdown",
      "metadata": {
        "id": "nmK05FgcOzL2"
      },
      "source": [
        "## **Análise Exploratória de Dados**\n",
        "---\n",
        "\n"
      ]
    },
    {
      "cell_type": "markdown",
      "source": [
        "Antes de aplicar técnicas de PLN, é importante realizar uma análise exploratória dos dados para entender melhor sua natureza e qualidade. Algumas análises que podem ser realizadas incluem:"
      ],
      "metadata": {
        "id": "YKeqSx2qOxPW"
      }
    },
    {
      "cell_type": "markdown",
      "source": [
        "   * Análise da distribuição de palavras: contar a frequência de ocorrência de cada palavra nos dados brutos e verificar se há palavras comuns ou incomuns, além de identificar possíveis erros de digitação ou palavras mal escritas.\n",
        "\n",
        "   * Análise de comprimento de frases e documentos: contar o número de palavras em cada frase ou documento para entender a distribuição do comprimento e identificar possíveis documentos curtos ou longos demais.\n",
        "\n",
        "   * Análise de erros ortográficos: verificar a presença de erros ortográficos comuns nos dados brutos e corrigi-los se necessário.\n",
        "\n",
        "   * Análise da qualidade dos dados: verificar se há dados incompletos, inconsistentes ou duplicados nos dados brutos e removê-los se necessário."
      ],
      "metadata": {
        "id": "p9EP8XGw7pfS"
      }
    },
    {
      "cell_type": "markdown",
      "source": [
        "Essas análises preliminares podem ajudar a garantir que os dados estejam prontos para serem processados ​​por técnicas de PLN e que os resultados da análise sejam precisos e confiáveis."
      ],
      "metadata": {
        "id": "gBhSPaRH71Oq"
      }
    },
    {
      "cell_type": "markdown",
      "source": [
        "Aqui serão apresentados alguns exemplos de código em Python para realizar as análises preliminares mencionadas anteriormente:"
      ],
      "metadata": {
        "id": "KN3DAmqV75Ti"
      }
    },
    {
      "cell_type": "markdown",
      "source": [
        "**Análise da distribuição de palavras**"
      ],
      "metadata": {
        "id": "wQPayOLB8L_x"
      }
    },
    {
      "cell_type": "markdown",
      "source": [
        "Um exemplo interessante para análise da distribuição de palavras é a criação de uma nuvem de palavras, que é uma visualização gráfica que mostra as palavras mais frequentes em um conjunto de dados.\n",
        "\n",
        "Para criar uma nuvem de palavras, podemos usar a biblioteca `WordCloud` do Python. Aqui está um exemplo de código que usa essa biblioteca para criar uma nuvem de palavras a partir de um conjunto de dados:"
      ],
      "metadata": {
        "id": "oODZcjda9ErL"
      }
    },
    {
      "cell_type": "code",
      "source": [
        "import pandas as pd\n",
        "\n",
        "# Criar um dicionário com os dados\n",
        "dados = {\n",
        "    'texto': [\n",
        "        'O Brasil é um país tropical com muitas belezas naturais',\n",
        "        'A economia brasileira é uma das maiores da América Latina',\n",
        "        'O futebol é o esporte mais popular do Brasil',\n",
        "        'O Carnaval do Rio de Janeiro é um dos mais famosos do mundo',\n",
        "        'A Amazônia é uma região rica em biodiversidade',\n",
        "        'A música brasileira é conhecida internacionalmente'\n",
        "    ]\n",
        "}\n",
        "\n",
        "# Criar o DataFrame a partir do dicionário\n",
        "df = pd.DataFrame(dados)\n",
        "\n",
        "# Exibir o DataFrame\n",
        "print(df)"
      ],
      "metadata": {
        "colab": {
          "base_uri": "https://localhost:8080/"
        },
        "id": "gUeQwwDy-L9L",
        "outputId": "01d6c5e5-f5c9-467a-fba6-5f5be35593e3"
      },
      "execution_count": null,
      "outputs": [
        {
          "output_type": "stream",
          "name": "stdout",
          "text": [
            "                                               texto\n",
            "0  O Brasil é um país tropical com muitas belezas...\n",
            "1  A economia brasileira é uma das maiores da Amé...\n",
            "2       O futebol é o esporte mais popular do Brasil\n",
            "3  O Carnaval do Rio de Janeiro é um dos mais fam...\n",
            "4     A Amazônia é uma região rica em biodiversidade\n",
            "5  A música brasileira é conhecida internacionalm...\n"
          ]
        }
      ]
    },
    {
      "cell_type": "code",
      "source": [
        "from wordcloud import WordCloud\n",
        "import matplotlib.pyplot as plt\n",
        "\n",
        "# Concatenar todos os textos em uma única string\n",
        "texto = ' '.join(df['texto'].tolist())\n",
        "\n",
        "# Criar um objeto WordCloud com as configurações desejadas\n",
        "wc = WordCloud(background_color='white', max_words=1000, width=800, height=400)\n",
        "\n",
        "# Gerar a nuvem de palavras\n",
        "nuvem = wc.generate(texto)\n",
        "\n",
        "# Exibir a nuvem de palavras\n",
        "plt.imshow(nuvem, interpolation='bilinear')\n",
        "plt.axis('off')\n",
        "plt.show()"
      ],
      "metadata": {
        "colab": {
          "base_uri": "https://localhost:8080/",
          "height": 198
        },
        "id": "ubMvfQoz8P0a",
        "outputId": "bd1e0432-508b-46c3-ced4-b3a11373c60e"
      },
      "execution_count": null,
      "outputs": [
        {
          "output_type": "display_data",
          "data": {
            "text/plain": [
              "<Figure size 432x288 with 1 Axes>"
            ],
            "image/png": "[encoded data removed]"
          },
          "metadata": {
            "needs_background": "light"
          }
        }
      ]
    },
    {
      "cell_type": "markdown",
      "source": [
        "Há outras maneiras de fazer a análise da distribuição de palavras em um conjunto de dados. Uma delas é usando o método `value_counts()` da biblioteca `Pandas`. Esse método conta o número de ocorrências de cada valor em uma coluna de um DataFrame e retorna uma série com os valores contados em ordem decrescente. Podemos usar esse método para contar as palavras em uma coluna de texto e criar um gráfico de barras para visualizar a distribuição de palavras."
      ],
      "metadata": {
        "id": "AaiYbxxQ-2Ij"
      }
    },
    {
      "cell_type": "markdown",
      "source": [
        "Aqui está um exemplo de como fazer isso:"
      ],
      "metadata": {
        "id": "TLJ-NCsQ--F9"
      }
    },
    {
      "cell_type": "code",
      "source": [
        "# Dividir a string em palavras\n",
        "palavras = texto.split()\n",
        "\n",
        "# Contar as ocorrências de cada palavra\n",
        "contagem = pd.Series(palavras).value_counts()\n",
        "\n",
        "# Criar um gráfico de barras para visualizar a distribuição de palavras\n",
        "contagem.plot(kind='bar', figsize=(10, 6))\n",
        "plt.xlabel('Palavra')\n",
        "plt.ylabel('Frequência')\n",
        "plt.title('Distribuição de Palavras')\n",
        "plt.show()"
      ],
      "metadata": {
        "colab": {
          "base_uri": "https://localhost:8080/",
          "height": 492
        },
        "id": "5Giwtx7E--iH",
        "outputId": "fd1d0b3c-05e1-4810-a1c3-1c196d90721a"
      },
      "execution_count": null,
      "outputs": [
        {
          "output_type": "display_data",
          "data": {
            "text/plain": [
              "<Figure size 720x432 with 1 Axes>"
            ],
            "image/png": "[encoded data removed]"
          },
          "metadata": {
            "needs_background": "light"
          }
        }
      ]
    },
    {
      "cell_type": "markdown",
      "source": [
        "Para mostrar apenas as 10 maiores ocorrências de palavras, podemos usar o método `nlargest()` da série retornada pelo `value_counts()`. Este método retorna os n maiores valores em ordem decrescente.\n",
        "\n",
        "Aqui está um exemplo de como fazer isso:"
      ],
      "metadata": {
        "id": "pjnprRup_Rd2"
      }
    },
    {
      "cell_type": "code",
      "source": [
        "# Contar as ocorrências de cada palavra e mostrar as 10 maiores\n",
        "contagem = pd.Series(palavras).value_counts().nlargest(10)\n",
        "\n",
        "# Criar um gráfico de barras para visualizar as 10 palavras mais frequentes\n",
        "contagem.plot(kind='bar', figsize=(10, 6))\n",
        "plt.xlabel('Palavra')\n",
        "plt.ylabel('Frequência')\n",
        "plt.title('Distribuição das 10 Palavras Mais Frequentes')\n",
        "plt.show()"
      ],
      "metadata": {
        "colab": {
          "base_uri": "https://localhost:8080/",
          "height": 441
        },
        "id": "8Z9UXF59_UKd",
        "outputId": "b23a133c-cee5-4add-84d0-fe2a323a32b6"
      },
      "execution_count": null,
      "outputs": [
        {
          "output_type": "display_data",
          "data": {
            "text/plain": [
              "<Figure size 720x432 with 1 Axes>"
            ],
            "image/png": "[encoded data removed]"
          },
          "metadata": {
            "needs_background": "light"
          }
        }
      ]
    },
    {
      "cell_type": "markdown",
      "source": [
        "Há outras maneiras de fazer a análise da distribuição de palavras. Aqui estão algumas outras abordagens:"
      ],
      "metadata": {
        "id": "dHH-hgkA_nhp"
      }
    },
    {
      "cell_type": "markdown",
      "source": [
        "1. Usando o pacote `collections` do Python\n",
        "\n",
        "\n"
      ],
      "metadata": {
        "id": "1TIPbm4h_o01"
      }
    },
    {
      "cell_type": "code",
      "source": [
        "from collections import Counter\n",
        "\n",
        "# Dividir a string em palavras\n",
        "palavras = texto.split()\n",
        "\n",
        "contagem = Counter(palavras)\n",
        "print(contagem.most_common(10))"
      ],
      "metadata": {
        "colab": {
          "base_uri": "https://localhost:8080/"
        },
        "id": "c2lgY1mQ_44x",
        "outputId": "19bf4110-97cd-4cd4-e52c-633edcbfad46"
      },
      "execution_count": null,
      "outputs": [
        {
          "output_type": "stream",
          "name": "stdout",
          "text": [
            "[('é', 6), ('O', 3), ('A', 3), ('do', 3), ('Brasil', 2), ('um', 2), ('brasileira', 2), ('uma', 2), ('mais', 2), ('país', 1)]\n"
          ]
        }
      ]
    },
    {
      "cell_type": "markdown",
      "source": [
        "2. Usando a biblioteca `NLTK` do Python"
      ],
      "metadata": {
        "id": "xD-Mti20AeOx"
      }
    },
    {
      "cell_type": "code",
      "source": [
        "import nltk\n",
        "nltk.download('punkt')"
      ],
      "metadata": {
        "colab": {
          "base_uri": "https://localhost:8080/"
        },
        "id": "opcTcZ5nArVu",
        "outputId": "36bbebbe-d955-4259-e1e7-c695ea8b9b44"
      },
      "execution_count": null,
      "outputs": [
        {
          "output_type": "stream",
          "name": "stderr",
          "text": [
            "[nltk_data] Downloading package punkt to /root/nltk_data...\n",
            "[nltk_data]   Unzipping tokenizers/punkt.zip.\n"
          ]
        },
        {
          "output_type": "execute_result",
          "data": {
            "text/plain": [
              "True"
            ]
          },
          "metadata": {},
          "execution_count": 12
        }
      ]
    },
    {
      "cell_type": "code",
      "source": [
        "import nltk\n",
        "from nltk.tokenize import word_tokenize\n",
        "from nltk.probability import FreqDist\n",
        "\n",
        "palavras = word_tokenize(texto)\n",
        "\n",
        "frequencia = FreqDist(palavras)\n",
        "print(frequencia.most_common(10))"
      ],
      "metadata": {
        "colab": {
          "base_uri": "https://localhost:8080/"
        },
        "id": "A9PijqW6Ah9K",
        "outputId": "5705419d-ebc4-4276-ff19-a656d7a26bee"
      },
      "execution_count": null,
      "outputs": [
        {
          "output_type": "stream",
          "name": "stdout",
          "text": [
            "[('é', 6), ('O', 3), ('A', 3), ('do', 3), ('Brasil', 2), ('um', 2), ('brasileira', 2), ('uma', 2), ('mais', 2), ('país', 1)]\n"
          ]
        }
      ]
    },
    {
      "cell_type": "markdown",
      "source": [
        "3. Usando a biblioteca `spaCy` do Python:"
      ],
      "metadata": {
        "id": "-5Rnwf4eAzLY"
      }
    },
    {
      "cell_type": "code",
      "source": [
        "!spacy download pt_core_news_sm"
      ],
      "metadata": {
        "colab": {
          "base_uri": "https://localhost:8080/"
        },
        "id": "eI99UDqsBJiq",
        "outputId": "8718deb9-6698-4947-c09a-7b9db7ae2044"
      },
      "execution_count": null,
      "outputs": [
        {
          "output_type": "stream",
          "name": "stdout",
          "text": [
            "/usr/local/lib/python3.8/dist-packages/torch/cuda/__init__.py:497: UserWarning: Can't initialize NVML\n",
            "  warnings.warn(\"Can't initialize NVML\")\n",
            "2023-03-01 21:12:37.592769: W tensorflow/compiler/xla/stream_executor/platform/default/dso_loader.cc:64] Could not load dynamic library 'libnvinfer.so.7'; dlerror: libnvinfer.so.7: cannot open shared object file: No such file or directory; LD_LIBRARY_PATH: /usr/local/nvidia/lib:/usr/local/nvidia/lib64\n",
            "2023-03-01 21:12:37.592930: W tensorflow/compiler/xla/stream_executor/platform/default/dso_loader.cc:64] Could not load dynamic library 'libnvinfer_plugin.so.7'; dlerror: libnvinfer_plugin.so.7: cannot open shared object file: No such file or directory; LD_LIBRARY_PATH: /usr/local/nvidia/lib:/usr/local/nvidia/lib64\n",
            "2023-03-01 21:12:37.592960: W tensorflow/compiler/tf2tensorrt/utils/py_utils.cc:38] TF-TRT Warning: Cannot dlopen some TensorRT libraries. If you would like to use Nvidia GPU with TensorRT, please make sure the missing libraries mentioned above are installed properly.\n",
            "2023-03-01 21:12:42.278338: E tensorflow/compiler/xla/stream_executor/cuda/cuda_driver.cc:267] failed call to cuInit: CUDA_ERROR_NO_DEVICE: no CUDA-capable device is detected\n",
            "Looking in indexes: https://pypi.org/simple, https://us-python.pkg.dev/colab-wheels/public/simple/\n",
            "Collecting pt-core-news-sm==3.4.0\n",
            "  Using cached https://github.com/explosion/spacy-models/releases/download/pt_core_news_sm-3.4.0/pt_core_news_sm-3.4.0-py3-none-any.whl (13.0 MB)\n",
            "Requirement already satisfied: spacy<3.5.0,>=3.4.0 in /usr/local/lib/python3.8/dist-packages (from pt-core-news-sm==3.4.0) (3.4.4)\n",
            "Requirement already satisfied: setuptools in /usr/local/lib/python3.8/dist-packages (from spacy<3.5.0,>=3.4.0->pt-core-news-sm==3.4.0) (57.4.0)\n",
            "Requirement already satisfied: smart-open<7.0.0,>=5.2.1 in /usr/local/lib/python3.8/dist-packages (from spacy<3.5.0,>=3.4.0->pt-core-news-sm==3.4.0) (6.3.0)\n",
            "Requirement already satisfied: preshed<3.1.0,>=3.0.2 in /usr/local/lib/python3.8/dist-packages (from spacy<3.5.0,>=3.4.0->pt-core-news-sm==3.4.0) (3.0.8)\n",
            "Requirement already satisfied: tqdm<5.0.0,>=4.38.0 in /usr/local/lib/python3.8/dist-packages (from spacy<3.5.0,>=3.4.0->pt-core-news-sm==3.4.0) (4.64.1)\n",
            "Requirement already satisfied: spacy-legacy<3.1.0,>=3.0.10 in /usr/local/lib/python3.8/dist-packages (from spacy<3.5.0,>=3.4.0->pt-core-news-sm==3.4.0) (3.0.12)\n",
            "Requirement already satisfied: pathy>=0.3.5 in /usr/local/lib/python3.8/dist-packages (from spacy<3.5.0,>=3.4.0->pt-core-news-sm==3.4.0) (0.10.1)\n",
            "Requirement already satisfied: packaging>=20.0 in /usr/local/lib/python3.8/dist-packages (from spacy<3.5.0,>=3.4.0->pt-core-news-sm==3.4.0) (23.0)\n",
            "Requirement already satisfied: thinc<8.2.0,>=8.1.0 in /usr/local/lib/python3.8/dist-packages (from spacy<3.5.0,>=3.4.0->pt-core-news-sm==3.4.0) (8.1.7)\n",
            "Requirement already satisfied: catalogue<2.1.0,>=2.0.6 in /usr/local/lib/python3.8/dist-packages (from spacy<3.5.0,>=3.4.0->pt-core-news-sm==3.4.0) (2.0.8)\n",
            "Requirement already satisfied: srsly<3.0.0,>=2.4.3 in /usr/local/lib/python3.8/dist-packages (from spacy<3.5.0,>=3.4.0->pt-core-news-sm==3.4.0) (2.4.5)\n",
            "Requirement already satisfied: requests<3.0.0,>=2.13.0 in /usr/local/lib/python3.8/dist-packages (from spacy<3.5.0,>=3.4.0->pt-core-news-sm==3.4.0) (2.25.1)\n",
            "Requirement already satisfied: murmurhash<1.1.0,>=0.28.0 in /usr/local/lib/python3.8/dist-packages (from spacy<3.5.0,>=3.4.0->pt-core-news-sm==3.4.0) (1.0.9)\n",
            "Requirement already satisfied: spacy-loggers<2.0.0,>=1.0.0 in /usr/local/lib/python3.8/dist-packages (from spacy<3.5.0,>=3.4.0->pt-core-news-sm==3.4.0) (1.0.4)\n",
            "Requirement already satisfied: wasabi<1.1.0,>=0.9.1 in /usr/local/lib/python3.8/dist-packages (from spacy<3.5.0,>=3.4.0->pt-core-news-sm==3.4.0) (0.10.1)\n",
            "Requirement already satisfied: typer<0.8.0,>=0.3.0 in /usr/local/lib/python3.8/dist-packages (from spacy<3.5.0,>=3.4.0->pt-core-news-sm==3.4.0) (0.7.0)\n",
            "Requirement already satisfied: pydantic!=1.8,!=1.8.1,<1.11.0,>=1.7.4 in /usr/local/lib/python3.8/dist-packages (from spacy<3.5.0,>=3.4.0->pt-core-news-sm==3.4.0) (1.10.5)\n",
            "Requirement already satisfied: jinja2 in /usr/local/lib/python3.8/dist-packages (from spacy<3.5.0,>=3.4.0->pt-core-news-sm==3.4.0) (3.1.2)\n",
            "Requirement already satisfied: cymem<2.1.0,>=2.0.2 in /usr/local/lib/python3.8/dist-packages (from spacy<3.5.0,>=3.4.0->pt-core-news-sm==3.4.0) (2.0.7)\n",
            "Requirement already satisfied: numpy>=1.15.0 in /usr/local/lib/python3.8/dist-packages (from spacy<3.5.0,>=3.4.0->pt-core-news-sm==3.4.0) (1.22.4)\n",
            "Requirement already satisfied: langcodes<4.0.0,>=3.2.0 in /usr/local/lib/python3.8/dist-packages (from spacy<3.5.0,>=3.4.0->pt-core-news-sm==3.4.0) (3.3.0)\n",
            "Requirement already satisfied: typing-extensions>=4.2.0 in /usr/local/lib/python3.8/dist-packages (from pydantic!=1.8,!=1.8.1,<1.11.0,>=1.7.4->spacy<3.5.0,>=3.4.0->pt-core-news-sm==3.4.0) (4.5.0)\n",
            "Requirement already satisfied: idna<3,>=2.5 in /usr/local/lib/python3.8/dist-packages (from requests<3.0.0,>=2.13.0->spacy<3.5.0,>=3.4.0->pt-core-news-sm==3.4.0) (2.10)\n",
            "Requirement already satisfied: certifi>=2017.4.17 in /usr/local/lib/python3.8/dist-packages (from requests<3.0.0,>=2.13.0->spacy<3.5.0,>=3.4.0->pt-core-news-sm==3.4.0) (2022.12.7)\n",
            "Requirement already satisfied: chardet<5,>=3.0.2 in /usr/local/lib/python3.8/dist-packages (from requests<3.0.0,>=2.13.0->spacy<3.5.0,>=3.4.0->pt-core-news-sm==3.4.0) (4.0.0)\n",
            "Requirement already satisfied: urllib3<1.27,>=1.21.1 in /usr/local/lib/python3.8/dist-packages (from requests<3.0.0,>=2.13.0->spacy<3.5.0,>=3.4.0->pt-core-news-sm==3.4.0) (1.26.14)\n",
            "Requirement already satisfied: blis<0.8.0,>=0.7.8 in /usr/local/lib/python3.8/dist-packages (from thinc<8.2.0,>=8.1.0->spacy<3.5.0,>=3.4.0->pt-core-news-sm==3.4.0) (0.7.9)\n",
            "Requirement already satisfied: confection<1.0.0,>=0.0.1 in /usr/local/lib/python3.8/dist-packages (from thinc<8.2.0,>=8.1.0->spacy<3.5.0,>=3.4.0->pt-core-news-sm==3.4.0) (0.0.4)\n",
            "Requirement already satisfied: click<9.0.0,>=7.1.1 in /usr/local/lib/python3.8/dist-packages (from typer<0.8.0,>=0.3.0->spacy<3.5.0,>=3.4.0->pt-core-news-sm==3.4.0) (8.1.3)\n",
            "Requirement already satisfied: MarkupSafe>=2.0 in /usr/local/lib/python3.8/dist-packages (from jinja2->spacy<3.5.0,>=3.4.0->pt-core-news-sm==3.4.0) (2.1.2)\n",
            "\u001b[38;5;2m✔ Download and installation successful\u001b[0m\n",
            "You can now load the package via spacy.load('pt_core_news_sm')\n"
          ]
        }
      ]
    },
    {
      "cell_type": "code",
      "source": [
        "import spacy\n",
        "from collections import Counter\n",
        "\n",
        "nlp = spacy.load(\"pt_core_news_sm\")\n",
        "\n",
        "doc = nlp(texto)\n",
        "palavras = [token.text for token in doc if token.is_alpha]\n",
        "contagem = Counter(palavras)\n",
        "\n",
        "print(contagem.most_common(10))"
      ],
      "metadata": {
        "colab": {
          "base_uri": "https://localhost:8080/"
        },
        "id": "qkZ0g25rA1p6",
        "outputId": "cb770516-c8ff-4318-b645-20cd399a3d55"
      },
      "execution_count": null,
      "outputs": [
        {
          "output_type": "stream",
          "name": "stdout",
          "text": [
            "[('é', 6), ('O', 3), ('A', 3), ('do', 3), ('Brasil', 2), ('um', 2), ('brasileira', 2), ('uma', 2), ('mais', 2), ('país', 1)]\n"
          ]
        }
      ]
    },
    {
      "cell_type": "markdown",
      "source": [
        "**Análise de comprimento de frases e documentos**"
      ],
      "metadata": {
        "id": "kY2-WlwoFpFK"
      }
    },
    {
      "cell_type": "markdown",
      "source": [
        "A análise de comprimento de frases e documentos é útil para entender o tamanho médio de uma frase ou documento, o que pode ser importante para a compreensão da legibilidade ou complexidade do texto. Aqui está um exemplo de código em Python para essa análise:"
      ],
      "metadata": {
        "id": "AaZq-OOmFvue"
      }
    },
    {
      "cell_type": "code",
      "source": [
        "import pandas as pd\n",
        "import matplotlib.pyplot as plt\n",
        "\n",
        "# Define os dados\n",
        "dados = {\n",
        "    'texto': [\n",
        "        'O Brasil é um país tropical com muitas belezas naturais',\n",
        "        'A economia brasileira é uma das maiores da América Latina',\n",
        "        'O futebol é o esporte mais popular do Brasil',\n",
        "        'O Carnaval do Rio de Janeiro é um dos mais famosos do mundo',\n",
        "        'A Amazônia é uma região rica em biodiversidade',\n",
        "        'A música brasileira é conhecida internacionalmente'\n",
        "    ]\n",
        "}\n",
        "\n",
        "# Cria o dataframe\n",
        "df = pd.DataFrame(dados)\n",
        "\n",
        "# Adiciona uma coluna com o comprimento de cada frase\n",
        "df['comprimento'] = df['texto'].apply(lambda x: len(x.split()))\n",
        "\n",
        "# Cria um gráfico de barras com o comprimento das frases\n",
        "df.plot(kind='bar', y='comprimento')\n",
        "plt.xticks(rotation=45)\n",
        "plt.title('Comprimento das Frases')\n",
        "plt.ylabel('Comprimento')\n",
        "plt.show()\n",
        "\n",
        "# Calcula a média e desvio padrão dos comprimentos das frases\n",
        "media = df['comprimento'].mean()\n",
        "desvio_padrao = df['comprimento'].std()\n",
        "\n",
        "print(f'Média do comprimento das frases: {media:.2f}')\n",
        "print(f'Desvio padrão do comprimento das frases: {desvio_padrao:.2f}')"
      ],
      "metadata": {
        "colab": {
          "base_uri": "https://localhost:8080/",
          "height": 318
        },
        "id": "hj85UpIeEY2q",
        "outputId": "07b6878e-a567-480b-a5cb-a3cce0f13de2"
      },
      "execution_count": null,
      "outputs": [
        {
          "output_type": "display_data",
          "data": {
            "text/plain": [
              "<Figure size 432x288 with 1 Axes>"
            ],
            "image/png": "[encoded data removed]"
          },
          "metadata": {
            "needs_background": "light"
          }
        },
        {
          "output_type": "stream",
          "name": "stdout",
          "text": [
            "Média do comprimento das frases: 9.33\n",
            "Desvio padrão do comprimento das frases: 2.34\n"
          ]
        }
      ]
    },
    {
      "cell_type": "code",
      "source": [
        "# Plota o histograma de comprimento das frases\n",
        "plt.hist(df['comprimento'], bins=range(0, 20, 2))\n",
        "plt.xlabel('Comprimento da frase')\n",
        "plt.ylabel('Frequência')\n",
        "plt.title('Distribuição do comprimento das frases')\n",
        "plt.show()"
      ],
      "metadata": {
        "colab": {
          "base_uri": "https://localhost:8080/",
          "height": 295
        },
        "id": "TcwsoNH0G3Tx",
        "outputId": "a20f63d8-33e0-40f1-8214-052a314fca31"
      },
      "execution_count": null,
      "outputs": [
        {
          "output_type": "display_data",
          "data": {
            "text/plain": [
              "<Figure size 432x288 with 1 Axes>"
            ],
            "image/png": "[encoded data removed]"
          },
          "metadata": {
            "needs_background": "light"
          }
        }
      ]
    },
    {
      "cell_type": "code",
      "source": [
        "# Cria um gráfico de barra horizontal com o comprimento das frases\n",
        "plt.barh(df.index, df['comprimento'])\n",
        "plt.yticks(df.index, df['texto'])\n",
        "plt.xlabel('Comprimento')\n",
        "plt.ylabel('Texto')\n",
        "plt.title('Comprimento das Frases')\n",
        "plt.show()"
      ],
      "metadata": {
        "colab": {
          "base_uri": "https://localhost:8080/",
          "height": 295
        },
        "id": "qP52w_KxHupi",
        "outputId": "0dc72485-d754-4a1b-d551-6bbd306e7a8c"
      },
      "execution_count": null,
      "outputs": [
        {
          "output_type": "display_data",
          "data": {
            "text/plain": [
              "<Figure size 432x288 with 1 Axes>"
            ],
            "image/png": "[encoded data removed]"
          },
          "metadata": {
            "needs_background": "light"
          }
        }
      ]
    },
    {
      "cell_type": "markdown",
      "source": [
        "Aqui está um exemplo de análise de comprimento de frases usando um histograma de densidade:"
      ],
      "metadata": {
        "id": "JakKb32vIjch"
      }
    },
    {
      "cell_type": "code",
      "source": [
        "import seaborn as sns\n",
        "\n",
        "# plotar o histograma de densidade do número de palavras\n",
        "sns.histplot(df, x='comprimento', kde=True)\n",
        "\n",
        "# ajustar os eixos e adicionar um título\n",
        "plt.xlabel('Número de Palavras')\n",
        "plt.ylabel('Densidade')\n",
        "plt.title('Distribuição do Comprimento das Frases')\n",
        "\n",
        "# exibir o gráfico\n",
        "plt.show()"
      ],
      "metadata": {
        "colab": {
          "base_uri": "https://localhost:8080/",
          "height": 295
        },
        "id": "qGWCr1i8H_9F",
        "outputId": "23fbc3a4-911e-48c1-c624-10c5253d339e"
      },
      "execution_count": null,
      "outputs": [
        {
          "output_type": "display_data",
          "data": {
            "text/plain": [
              "<Figure size 432x288 with 1 Axes>"
            ],
            "image/png": "[encoded data removed]"
          },
          "metadata": {
            "needs_background": "light"
          }
        }
      ]
    },
    {
      "cell_type": "code",
      "source": [
        "# imprimir estatísticas descritivas\n",
        "print(df['comprimento'].describe())\n",
        "\n",
        "# criar boxplot de comprimento de frases\n",
        "plt.boxplot(df['comprimento'])\n",
        "plt.ylabel('Comprimento')\n",
        "plt.title('Boxplot de Comprimento de Frases')\n",
        "plt.show()"
      ],
      "metadata": {
        "colab": {
          "base_uri": "https://localhost:8080/",
          "height": 437
        },
        "id": "R-htcXyGJVSh",
        "outputId": "77ea299b-0270-4a22-b932-99611c3ff474"
      },
      "execution_count": null,
      "outputs": [
        {
          "output_type": "stream",
          "name": "stdout",
          "text": [
            "count     6.000000\n",
            "mean      9.333333\n",
            "std       2.338090\n",
            "min       6.000000\n",
            "25%       8.250000\n",
            "50%       9.500000\n",
            "75%      10.000000\n",
            "max      13.000000\n",
            "Name: comprimento, dtype: float64\n"
          ]
        },
        {
          "output_type": "display_data",
          "data": {
            "text/plain": [
              "<Figure size 432x288 with 1 Axes>"
            ],
            "image/png": "[encoded data removed]"
          },
          "metadata": {
            "needs_background": "light"
          }
        }
      ]
    },
    {
      "cell_type": "markdown",
      "source": [
        "**Número de caracteres**"
      ],
      "metadata": {
        "id": "fiyjcwWo2Ur7"
      }
    },
    {
      "cell_type": "markdown",
      "source": [
        "Contar o número de caracteres das frases em um conjunto de dados pode ser útil por várias razões, dependendo do contexto específico. Algumas das razões pelas quais contar o número de caracteres pode ser importante incluem:\n",
        "\n",
        "   * Análise de comprimento de texto: contar o número de caracteres em cada frase pode fornecer uma medida simples do comprimento do texto em um conjunto de dados. Isso pode ser útil para comparar o comprimento de diferentes textos ou para avaliar como o comprimento do texto muda ao longo do tempo ou em diferentes contextos.\n",
        "\n",
        "   * Identificação de anomalias: contar o número de caracteres também pode ajudar a identificar anomalias ou erros nos dados. Por exemplo, se a maioria das frases em um conjunto de dados tiver entre 50 e 100 caracteres, mas algumas frases tiverem apenas alguns caracteres ou milhares de caracteres, isso pode indicar erros ou problemas com o conjunto de dados.\n",
        "\n",
        "   * Pré-processamento de texto: contar o número de caracteres também pode ser útil no pré-processamento de texto antes de análises mais complexas. Por exemplo, se um modelo de análise de sentimentos precisar de um comprimento de frase específico para funcionar corretamente, contar o número de caracteres em cada frase pode ajudar a filtrar as frases que não atendem a esse requisito.\n",
        "\n",
        "   * Avaliação de qualidade: contar o número de caracteres também pode ser uma medida de qualidade do texto em um conjunto de dados. Por exemplo, se o texto contiver muitas frases com poucos caracteres ou muitas frases muito longas, isso pode indicar que o texto não é de alta qualidade ou que não foi bem escrito.\n",
        "\n",
        "Em resumo, contar o número de caracteres das frases em um conjunto de dados pode fornecer informações valiosas sobre o comprimento do texto, a qualidade do texto e possíveis anomalias nos dados."
      ],
      "metadata": {
        "id": "8qvMPIuG32qE"
      }
    },
    {
      "cell_type": "markdown",
      "source": [
        "Aqui está um exemplo de código em Python usando a biblioteca `Pandas` para analisar o número de caracteres de cada frase em um `DataFrame` com dados de texto:"
      ],
      "metadata": {
        "id": "evLuYAmv2Xri"
      }
    },
    {
      "cell_type": "code",
      "source": [
        "import pandas as pd\n",
        "\n",
        "# Criar um DataFrame com dados de texto\n",
        "df = pd.DataFrame({'Frases': ['O cachorro correu no parque.',\n",
        "                              'Eu adoro comer pizza de pepperoni.',\n",
        "                              'O sol está brilhando hoje.']})\n",
        "\n",
        "# Definir uma função para contar o número de caracteres em cada frase\n",
        "def contar_caracteres(frase):\n",
        "    return len(frase)\n",
        "\n",
        "# Aplicar a função ao DataFrame\n",
        "df['Num Caracteres'] = df['Frases'].apply(contar_caracteres)\n",
        "\n",
        "# Exibir o resultado\n",
        "print(df)"
      ],
      "metadata": {
        "colab": {
          "base_uri": "https://localhost:8080/"
        },
        "id": "Fp_Ukn4l2yeU",
        "outputId": "0063340a-0ab1-44ab-b411-a44e0ae3ea8e"
      },
      "execution_count": null,
      "outputs": [
        {
          "output_type": "stream",
          "name": "stdout",
          "text": [
            "                               Frases  Num Caracteres\n",
            "0        O cachorro correu no parque.              28\n",
            "1  Eu adoro comer pizza de pepperoni.              34\n",
            "2          O sol está brilhando hoje.              26\n"
          ]
        }
      ]
    },
    {
      "cell_type": "markdown",
      "source": [
        "Aqui está um exemplo de código que utiliza a biblioteca `Pandas` em Python para contar o número de caracteres em cada avaliação de filme no `DataFrame`:"
      ],
      "metadata": {
        "id": "ciMzH3a55H99"
      }
    },
    {
      "cell_type": "code",
      "source": [
        "import pandas as pd\n",
        "\n",
        "# Criar um dicionário com as avaliações\n",
        "avaliacoes = {\n",
        "    'filme': ['Matrix', 'O Poderoso Chefão', 'De Volta para o Futuro', 'Pulp Fiction', 'Star Wars'],\n",
        "    'avaliacao': ['Um dos melhores filmes de ação já feitos', 'Um clássico do cinema', \n",
        "                  'Uma viagem no tempo incrível', 'Um filme que nunca envelhece', 'Uma saga épica']\n",
        "}\n",
        "\n",
        "# Criar o DataFrame\n",
        "df = pd.DataFrame(avaliacoes)\n",
        "\n",
        "# Adicionar uma nova coluna com o número de caracteres em cada avaliação\n",
        "df['num_caracteres'] = df['avaliacao'].apply(lambda x: len(x))\n",
        "\n",
        "# Exibir o DataFrame com a nova coluna\n",
        "print(df)"
      ],
      "metadata": {
        "colab": {
          "base_uri": "https://localhost:8080/"
        },
        "id": "F9zr17374zLM",
        "outputId": "ae5c2744-c8e5-4a93-8b6c-dc80a7019b71"
      },
      "execution_count": null,
      "outputs": [
        {
          "output_type": "stream",
          "name": "stdout",
          "text": [
            "                    filme                                 avaliacao  \\\n",
            "0                  Matrix  Um dos melhores filmes de ação já feitos   \n",
            "1       O Poderoso Chefão                     Um clássico do cinema   \n",
            "2  De Volta para o Futuro              Uma viagem no tempo incrível   \n",
            "3            Pulp Fiction              Um filme que nunca envelhece   \n",
            "4               Star Wars                            Uma saga épica   \n",
            "\n",
            "   num_caracteres  \n",
            "0              40  \n",
            "1              21  \n",
            "2              28  \n",
            "3              28  \n",
            "4              14  \n"
          ]
        }
      ]
    },
    {
      "cell_type": "markdown",
      "source": [
        " Aqui está um exemplo de como criar um gráfico de dispersão para mostrar o número de caracteres de cada avaliação no `DataFrame` criado no exemplo anterior:"
      ],
      "metadata": {
        "id": "Xlvjmth45aPO"
      }
    },
    {
      "cell_type": "code",
      "source": [
        "import matplotlib.pyplot as plt\n",
        "\n",
        "# Criar o gráfico de dispersão\n",
        "plt.scatter(df.index, df['num_caracteres'])\n",
        "#plt.scatter(df['usuario'], df['num_caracteres'])\n",
        "\n",
        "# Definir o título e os rótulos dos eixos\n",
        "plt.title('Número de caracteres em cada avaliação de filme')\n",
        "plt.xlabel('Avaliação')\n",
        "plt.ylabel('Número de caracteres')\n",
        "\n",
        "# Exibir o gráfico\n",
        "plt.show()"
      ],
      "metadata": {
        "colab": {
          "base_uri": "https://localhost:8080/",
          "height": 295
        },
        "id": "S92EQ_OD5Ot_",
        "outputId": "ae277974-98d7-453f-c9cc-00117c0c4ac2"
      },
      "execution_count": null,
      "outputs": [
        {
          "output_type": "display_data",
          "data": {
            "text/plain": [
              "<Figure size 432x288 with 1 Axes>"
            ],
            "image/png": "[encoded data removed]"
          },
          "metadata": {
            "needs_background": "light"
          }
        }
      ]
    },
    {
      "cell_type": "markdown",
      "source": [
        "Este código gerou um gráfico de dispersão com o número de caracteres em cada avaliação de filme no `DataFrame`. A saída do código será um gráfico com os pontos representando cada avaliação, onde o eixo x é o índice de cada avaliação e o eixo y é o número de caracteres."
      ],
      "metadata": {
        "id": "KXdONqyi5wzP"
      }
    },
    {
      "cell_type": "markdown",
      "source": [
        "Aqui está um exemplo de como criar um gráfico de linhas para mostrar como o número de caracteres nas avaliações de filme muda ao longo do tempo, supondo que haja informações sobre a data em que as avaliações foram feitas:"
      ],
      "metadata": {
        "id": "u8DFchyg6dND"
      }
    },
    {
      "cell_type": "code",
      "source": [
        "import pandas as pd\n",
        "import matplotlib.pyplot as plt\n",
        "\n",
        "# Criar um dicionário com as avaliações e as datas em que foram feitas\n",
        "avaliacoes = {\n",
        "    'filme': ['Matrix', 'O Poderoso Chefão', 'De Volta para o Futuro', 'Pulp Fiction', 'Star Wars'],\n",
        "    'avaliacao': ['Um dos melhores filmes de ação já feitos', 'Um clássico do cinema', \n",
        "                  'Uma viagem no tempo incrível', 'Um filme que nunca envelhece', 'Uma saga épica'],\n",
        "    'data': ['2022-01-01', '2022-02-15', '2022-03-01', '2022-04-10', '2022-05-20']\n",
        "}\n",
        "\n",
        "# Criar o DataFrame\n",
        "df = pd.DataFrame(avaliacoes)\n",
        "\n",
        "# Converter a coluna de datas para o tipo datetime\n",
        "df['data'] = pd.to_datetime(df['data'])\n",
        "\n",
        "# Ordenar o DataFrame pela coluna de datas\n",
        "df = df.sort_values('data')\n",
        "\n",
        "# Adicionar uma nova coluna com o número de caracteres em cada avaliação\n",
        "df['num_caracteres'] = df['avaliacao'].apply(lambda x: len(x))\n",
        "\n",
        "# Criar o gráfico de linhas\n",
        "plt.plot(df['data'], df['num_caracteres'])\n",
        "\n",
        "# Definir o título e os rótulos dos eixos\n",
        "plt.title('Número de caracteres em cada avaliação de filme ao longo do tempo')\n",
        "plt.xlabel('Data')\n",
        "plt.ylabel('Número de caracteres')\n",
        "\n",
        "# Exibir o gráfico\n",
        "plt.show()"
      ],
      "metadata": {
        "colab": {
          "base_uri": "https://localhost:8080/",
          "height": 295
        },
        "id": "OxEKiLgp6fH8",
        "outputId": "b1106243-a50c-48e4-c742-8a4365f75e28"
      },
      "execution_count": null,
      "outputs": [
        {
          "output_type": "display_data",
          "data": {
            "text/plain": [
              "<Figure size 432x288 with 1 Axes>"
            ],
            "image/png": "[encoded data removed]"
          },
          "metadata": {
            "needs_background": "light"
          }
        }
      ]
    },
    {
      "cell_type": "markdown",
      "source": [
        "A saída do código será um gráfico com uma linha que conecta os pontos que representam o número de caracteres em cada avaliação de filme, onde o eixo x é a data em que as avaliações foram feitas e o eixo y é o número de caracteres."
      ],
      "metadata": {
        "id": "lVkvKWFq7BV0"
      }
    },
    {
      "cell_type": "markdown",
      "source": [
        "O gráfico pode ser útil para visualizar como o número de caracteres nas avaliações de filme muda ao longo do tempo e identificar quais filmes receberam as avaliações com mais caracteres."
      ],
      "metadata": {
        "id": "hwE52gLo7KDu"
      }
    },
    {
      "cell_type": "markdown",
      "source": [
        "**Análise de erros ortográficos**"
      ],
      "metadata": {
        "id": "9rB1fXzlKtwr"
      }
    },
    {
      "cell_type": "markdown",
      "source": [
        "A análise de erros ortográficos em um conjunto de dados é importante para garantir a qualidade dos dados. Erros ortográficos podem levar a interpretações erradas e imprecisões nos resultados da análise. A correção ortográfica também pode melhorar a legibilidade e a clareza dos dados, tornando mais fácil para os usuários entenderem e interpretarem as informações. Em resumo, a análise e correção de erros ortográficos é importante para garantir a qualidade e precisão dos dados em qualquer tipo de análise ou processamento de dados.\n",
        "\n",
        "Em alguns casos, como em análises de sentimentos, a correção ortográfica pode ser crucial para garantir a precisão dos resultados, pois uma única palavra escrita incorretamente pode mudar completamente o sentido de uma frase."
      ],
      "metadata": {
        "id": "CedwpUGUMo6X"
      }
    },
    {
      "cell_type": "code",
      "source": [
        "import pandas as pd\n",
        "from textblob import TextBlob\n",
        "\n",
        "# dados com erros de ortografia\n",
        "dados = {\n",
        "    'texto': [\n",
        "        'O Braasil é um pais trropikal com mutias belezas naturaais',\n",
        "        'A economia brasileira é uma das maiores da América Latina',\n",
        "        'O futebol é o esporte mais populaar do Brasil',\n",
        "        'O Carnavall do Rio de Janeiro é um dos mais famozos do mundo',\n",
        "        'A Amazonia é uma região rica em biodiversidade',\n",
        "        'A musika brasileira é conhecida internacionalmente'\n",
        "    ]\n",
        "}\n",
        "\n",
        "# criar dataframe\n",
        "df = pd.DataFrame(dados)\n",
        "\n",
        "# função para contar erros de ortografia em um texto\n",
        "def contar_erros(texto):\n",
        "    blob = TextBlob(texto)\n",
        "    erros = 0\n",
        "    for word in blob.words:\n",
        "        if not word.spellcheck()[0][0] == word:\n",
        "            erros += 1\n",
        "    return erros\n",
        "\n",
        "# aplicar a função ao dataframe\n",
        "df['erros_ortografia'] = df['texto'].apply(contar_erros)\n",
        "\n",
        "# exibir dataframe\n",
        "print(df)"
      ],
      "metadata": {
        "colab": {
          "base_uri": "https://localhost:8080/"
        },
        "id": "L1ATrUCWLM-x",
        "outputId": "acc3c9da-a644-4423-8c20-341acafe29c8"
      },
      "execution_count": null,
      "outputs": [
        {
          "output_type": "stream",
          "name": "stdout",
          "text": [
            "                                               texto  erros_ortografia\n",
            "0  O Braasil é um pais trropikal com mutias belez...                 4\n",
            "1  A economia brasileira é uma das maiores da Amé...                 5\n",
            "2      O futebol é o esporte mais populaar do Brasil                 3\n",
            "3  O Carnavall do Rio de Janeiro é um dos mais fa...                 4\n",
            "4     A Amazonia é uma região rica em biodiversidade                 3\n",
            "5  A musika brasileira é conhecida internacionalm...                 1\n"
          ]
        }
      ]
    },
    {
      "cell_type": "markdown",
      "source": [
        "Para corrigir os erros de ortografia, é possível usar uma biblioteca como o `pyspellchecker`."
      ],
      "metadata": {
        "id": "0E4BshbFKvLr"
      }
    },
    {
      "cell_type": "code",
      "source": [
        "!pip install pyspellchecker"
      ],
      "metadata": {
        "colab": {
          "base_uri": "https://localhost:8080/"
        },
        "id": "roYVQxSdMga1",
        "outputId": "2cb8b770-13c4-41b5-ffa1-f3fb17d9f9b4"
      },
      "execution_count": null,
      "outputs": [
        {
          "output_type": "stream",
          "name": "stdout",
          "text": [
            "Looking in indexes: https://pypi.org/simple, https://us-python.pkg.dev/colab-wheels/public/simple/\n",
            "Requirement already satisfied: pyspellchecker in /usr/local/lib/python3.8/dist-packages (0.7.1)\n"
          ]
        }
      ]
    },
    {
      "cell_type": "code",
      "source": [
        "import pandas as pd\n",
        "from spellchecker import SpellChecker\n",
        "\n",
        "# criar o dataframe com os dados\n",
        "dados = {\n",
        "    'texto': [\n",
        "        'O Braasil é um pais trropikal com mutias belezas naturaais',\n",
        "        'A economia brasileira é uma das maiores da América Latina',\n",
        "        'O futebol é o esporte mais populaar do Brasil',\n",
        "        'O Carnavall do Rio de Janeiro é um dos mais famozos do mundo',\n",
        "        'A Amazonia é uma região rica em biodiversidade',\n",
        "        'A musika brasileira é conhecida internacionalmente'\n",
        "    ]\n",
        "}\n",
        "df = pd.DataFrame(dados)\n",
        "\n",
        "# criar o objeto spellchecker\n",
        "spell = SpellChecker(language='pt')\n",
        "\n",
        "# função para corrigir erros ortográficos em uma frase\n",
        "def corrigir_ortografia(frase):\n",
        "    palavras = frase.split()\n",
        "    palavras_corrigidas = [spell.correction(palavra) for palavra in palavras]\n",
        "    return ' '.join(palavras_corrigidas)\n",
        "\n",
        "# aplicar a correção ortográfica em cada linha do dataframe\n",
        "df['texto_corrigido'] = df['texto'].apply(corrigir_ortografia)\n",
        "\n",
        "# imprimir o dataframe original e o dataframe com os textos corrigidos\n",
        "print(\"Dataframe Original:\")\n",
        "print(df['texto'])\n",
        "print(\"\\nDataframe com os textos corrigidos:\")\n",
        "print(df['texto_corrigido'])"
      ],
      "metadata": {
        "colab": {
          "base_uri": "https://localhost:8080/"
        },
        "id": "LnNicHoGLIdC",
        "outputId": "35c4484e-9519-4071-df42-c55610e7588d"
      },
      "execution_count": null,
      "outputs": [
        {
          "output_type": "stream",
          "name": "stdout",
          "text": [
            "Dataframe Original:\n",
            "0    O Braasil é um pais trropikal com mutias belez...\n",
            "1    A economia brasileira é uma das maiores da Amé...\n",
            "2        O futebol é o esporte mais populaar do Brasil\n",
            "3    O Carnavall do Rio de Janeiro é um dos mais fa...\n",
            "4       A Amazonia é uma região rica em biodiversidade\n",
            "5    A musika brasileira é conhecida internacionalm...\n",
            "Name: texto, dtype: object\n",
            "\n",
            "Dataframe com os textos corrigidos:\n",
            "0    O brasil é um pais tropical com muitas belezas...\n",
            "1    A economia brasileira é uma das maiores da Amé...\n",
            "2         O futebol é o esporte mais popular do Brasil\n",
            "3    O carnaval do Rio de Janeiro é um dos mais fam...\n",
            "4        A amazona é uma região rica em biodiversidade\n",
            "5    A musica brasileira é conhecida internacionalm...\n",
            "Name: texto_corrigido, dtype: object\n"
          ]
        }
      ]
    },
    {
      "cell_type": "markdown",
      "source": [
        "Para corrigir os erros ortográficos em um dataframe com dados em inglês, podemos usar a biblioteca `textblob` que tem uma função para correção automática de texto."
      ],
      "metadata": {
        "id": "2j6zd-yZOqqA"
      }
    },
    {
      "cell_type": "code",
      "source": [
        "from textblob import TextBlob, Word\n",
        "import pandas as pd\n",
        "\n",
        "data = {\n",
        "    'text': [\n",
        "        'I havv a gud palnn fur th wekeend.',\n",
        "        'Thir are meny peple in the park todaay.',\n",
        "        'The weathar is bautiful this weak.',\n",
        "        'I am intersted in lerning mew things.'\n",
        "    ]\n",
        "}\n",
        "\n",
        "df = pd.DataFrame(data)\n",
        "\n",
        "# Corrigir cada palavra do texto\n",
        "corrected_text = []\n",
        "for text in df['text']:\n",
        "    sentence = TextBlob(text)\n",
        "    corrected_words = []\n",
        "    for word in sentence.words:\n",
        "        corrected_words.append(Word(word).correct())\n",
        "    corrected_text.append(' '.join(corrected_words))\n",
        "\n",
        "df['corrected_text'] = corrected_text\n",
        "\n",
        "print(df)"
      ],
      "metadata": {
        "colab": {
          "base_uri": "https://localhost:8080/"
        },
        "id": "9iiTGwPEOwwa",
        "outputId": "3d891c2d-d251-446d-9c94-19f266599476"
      },
      "execution_count": null,
      "outputs": [
        {
          "output_type": "stream",
          "name": "stdout",
          "text": [
            "                                      text  \\\n",
            "0       I havv a gud palnn fur th wekeend.   \n",
            "1  Thir are meny peple in the park todaay.   \n",
            "2       The weathar is bautiful this weak.   \n",
            "3    I am intersted in lerning mew things.   \n",
            "\n",
            "                         corrected_text  \n",
            "0      I have a god pain fur th weekend  \n",
            "1  His are men people in the park today  \n",
            "2    The weather is beautiful this weak  \n",
            "3  I am interested in leaning me things  \n"
          ]
        }
      ]
    },
    {
      "cell_type": "code",
      "source": [
        "from spellchecker import SpellChecker\n",
        "import pandas as pd\n",
        "\n",
        "# Criando um DataFrame com alguns erros de ortografia em inglês\n",
        "data = {\n",
        "    'text': [\n",
        "        'I havv a gud palnn fur th wekeend.',\n",
        "        'Thir are meny peple in the park todaay.',\n",
        "        'The weathar is bautiful this weak.',\n",
        "        'I am intersted in lerning mew things.'\n",
        "    ]\n",
        "}\n",
        "df = pd.DataFrame(data)\n",
        "\n",
        "# Criando um objeto SpellChecker e adicionando palavras ao dicionário\n",
        "spell = SpellChecker(language='en')\n",
        "\n",
        "# Criando uma função para corrigir os erros ortográficos em um texto\n",
        "def correct_spelling(text):\n",
        "    words = text.split()\n",
        "    corrected_words = []\n",
        "    for word in words:\n",
        "        corrected_word = spell.correction(word)\n",
        "        corrected_words.append(corrected_word)\n",
        "    corrected_text = ' '.join(corrected_words)\n",
        "    return corrected_text\n",
        "\n",
        "# Aplicando a função ao DataFrame\n",
        "df['corrected_text'] = df['text'].apply(correct_spelling)\n",
        "\n",
        "# Exibindo o DataFrame com os textos corrigidos\n",
        "print(df)"
      ],
      "metadata": {
        "colab": {
          "base_uri": "https://localhost:8080/"
        },
        "id": "3F_HvXWRPJKq",
        "outputId": "45405cb0-1f60-453d-a82c-59e82e326601"
      },
      "execution_count": null,
      "outputs": [
        {
          "output_type": "stream",
          "name": "stdout",
          "text": [
            "                                      text  \\\n",
            "0       I havv a gud palnn fur th wekeend.   \n",
            "1  Thir are meny peple in the park todaay.   \n",
            "2       The weathar is bautiful this weak.   \n",
            "3    I am intersted in lerning mew things.   \n",
            "\n",
            "                           corrected_text  \n",
            "0       I have a gud plan fur the weekend  \n",
            "1  this are many people in the park today  \n",
            "2      The weather is beautiful this weak  \n",
            "3  I am interested in learning mew things  \n"
          ]
        }
      ]
    },
    {
      "cell_type": "markdown",
      "source": [
        "**Análise da qualidade dos dados**"
      ],
      "metadata": {
        "id": "DWmw_oQ0RjvM"
      }
    },
    {
      "cell_type": "markdown",
      "source": [
        "Para a análise da qualidade dos dados, podemos considerar diferentes aspectos, como a integridade, consistência, precisão, atualidade, entre outros. No exemplo a seguir, vamos avaliar a integridade dos dados, ou seja, verificar se existem valores ausentes ou nulos no nosso conjunto de dados."
      ],
      "metadata": {
        "id": "E8sSq3OzRlfT"
      }
    },
    {
      "cell_type": "markdown",
      "source": [
        "Para isso, vamos criar um dataframe parecido com o dos exemplos anteriores:"
      ],
      "metadata": {
        "id": "j7EkXABaRvcA"
      }
    },
    {
      "cell_type": "code",
      "source": [
        "import pandas as pd\n",
        "\n",
        "dados = {\n",
        "    'texto': [\n",
        "        'O Brasil é um país tropical com muitas belezas naturais',\n",
        "        'A economia brasileira é uma das maiores da América Latina',\n",
        "        'O futebol é o esporte mais popular do Brasil',\n",
        "        'O Carnaval do Rio de Janeiro é um dos mais famosos do mundo',\n",
        "        'A Amazônia é uma região rica em biodiversidade',\n",
        "        'A música brasileira é conhecida internacionalmente'\n",
        "    ],\n",
        "    'categoria': [\n",
        "        'turismo',\n",
        "        'economia',\n",
        "        'esporte',\n",
        "        'cultura',\n",
        "        'meio ambiente',\n",
        "        'cultura'\n",
        "    ]\n",
        "}\n",
        "\n",
        "df = pd.DataFrame(dados)"
      ],
      "metadata": {
        "id": "5ZhNxClsRqSj"
      },
      "execution_count": null,
      "outputs": []
    },
    {
      "cell_type": "markdown",
      "source": [
        "Para verificar se existem valores nulos no nosso conjunto de dados, podemos usar o método `isnull()` do `Pandas`, que retorna uma matriz booleana indicando quais valores são nulos ou não. Podemos então usar o método `sum()` para somar os valores nulos em cada coluna:"
      ],
      "metadata": {
        "id": "EsQ77Wi_R5fv"
      }
    },
    {
      "cell_type": "code",
      "source": [
        "# Verifica valores nulos por coluna\n",
        "print(df.isnull().sum())"
      ],
      "metadata": {
        "colab": {
          "base_uri": "https://localhost:8080/"
        },
        "id": "ba8vRldfR-Ri",
        "outputId": "8c18e869-cff8-432c-b811-4a6224aa573c"
      },
      "execution_count": null,
      "outputs": [
        {
          "output_type": "stream",
          "name": "stdout",
          "text": [
            "texto        0\n",
            "categoria    0\n",
            "dtype: int64\n"
          ]
        }
      ]
    },
    {
      "cell_type": "markdown",
      "source": [
        "Nesse caso, não existem valores nulos em nosso conjunto de dados. Se houvesse valores nulos, teríamos que decidir como tratá-los, seja removendo as linhas ou preenchendo os valores com algum valor padrão. A verificação da integridade dos dados é uma etapa importante para garantir que estamos trabalhando com informações confiáveis e precisas."
      ],
      "metadata": {
        "id": "6_zEWDTLSEcQ"
      }
    },
    {
      "cell_type": "markdown",
      "source": [
        "Se o campo nulo está representado por uma string vazia, podemos remove-lo da seguinte maneira:"
      ],
      "metadata": {
        "id": "qydhwSSokRFu"
      }
    },
    {
      "cell_type": "code",
      "source": [
        "import pandas as pd\n",
        "\n",
        "dados = {'texto': ['O Brasil é um país tropical com muitas belezas naturais', \n",
        "                   'A economia brasileira é uma das maiores da América Latina', \n",
        "                   '', \n",
        "                   'O Carnaval do Rio de Janeiro é um dos mais famosos do mundo', \n",
        "                   'A Amazônia é uma região rica em biodiversidade', \n",
        "                   '',\n",
        "                   'A música brasileira é conhecida internacionalmente']}\n",
        "\n",
        "df = pd.DataFrame(dados)\n",
        "\n",
        "# substituindo valores vazios por NaN\n",
        "df = df.replace('', pd.NaT)\n",
        "\n",
        "# removendo valores nulos\n",
        "df = df.dropna()\n",
        "\n",
        "# exibindo o resultado\n",
        "print(df)"
      ],
      "metadata": {
        "colab": {
          "base_uri": "https://localhost:8080/"
        },
        "id": "0QW40LqyjMc_",
        "outputId": "394e6637-8e0f-4db0-ac5a-85c8c06b810b"
      },
      "execution_count": null,
      "outputs": [
        {
          "output_type": "stream",
          "name": "stdout",
          "text": [
            "                                               texto\n",
            "0  O Brasil é um país tropical com muitas belezas...\n",
            "1  A economia brasileira é uma das maiores da Amé...\n",
            "3  O Carnaval do Rio de Janeiro é um dos mais fam...\n",
            "4     A Amazônia é uma região rica em biodiversidade\n",
            "6  A música brasileira é conhecida internacionalm...\n"
          ]
        }
      ]
    },
    {
      "cell_type": "code",
      "source": [
        "print(df)"
      ],
      "metadata": {
        "colab": {
          "base_uri": "https://localhost:8080/"
        },
        "id": "IMFRbH9GjUKs",
        "outputId": "06b2bd42-55b2-4654-b3ec-fbe43eca5d9d"
      },
      "execution_count": null,
      "outputs": [
        {
          "output_type": "stream",
          "name": "stdout",
          "text": [
            "                                               texto\n",
            "0  O Brasil é um país tropical com muitas belezas...\n",
            "1  A economia brasileira é uma das maiores da Amé...\n",
            "2                                                   \n",
            "3  O Carnaval do Rio de Janeiro é um dos mais fam...\n",
            "4     A Amazônia é uma região rica em biodiversidade\n",
            "5                                                   \n",
            "6  A música brasileira é conhecida internacionalm...\n"
          ]
        }
      ]
    },
    {
      "cell_type": "markdown",
      "source": [
        "Se o conjunto de dados tiver um campo numérico com valores nulos, podemos usar a mesma abordagem de substituição por um valor padrão ou por uma média, mediana ou moda dos valores não nulos."
      ],
      "metadata": {
        "id": "_moCfURKlPJg"
      }
    },
    {
      "cell_type": "code",
      "source": [
        "import pandas as pd\n",
        "\n",
        "df = pd.DataFrame({\n",
        "    'texto': ['O Brasil é um país tropical com muitas belezas naturais', \n",
        "              'A economia brasileira é uma das maiores da América Latina', \n",
        "              'O futebol é o esporte mais popular do Brasil', \n",
        "              'O Carnaval do Rio de Janeiro é um dos mais famosos do mundo', \n",
        "              'A Amazônia é uma região rica em biodiversidade', \n",
        "              'A música brasileira é conhecida internacionalmente'], \n",
        "    'idade': [20, 30, 25, None, 40, None]\n",
        "})\n",
        "\n",
        "# Substituir os valores nulos por 0\n",
        "df['idade'].fillna(0, inplace=True)\n",
        "\n",
        "print(df)"
      ],
      "metadata": {
        "colab": {
          "base_uri": "https://localhost:8080/"
        },
        "id": "TuVjGoWgktoz",
        "outputId": "b58dd534-34d3-4da0-82f9-71c21a62981c"
      },
      "execution_count": null,
      "outputs": [
        {
          "output_type": "stream",
          "name": "stdout",
          "text": [
            "                                               texto  idade\n",
            "0  O Brasil é um país tropical com muitas belezas...   20.0\n",
            "1  A economia brasileira é uma das maiores da Amé...   30.0\n",
            "2       O futebol é o esporte mais popular do Brasil   25.0\n",
            "3  O Carnaval do Rio de Janeiro é um dos mais fam...    0.0\n",
            "4     A Amazônia é uma região rica em biodiversidade   40.0\n",
            "5  A música brasileira é conhecida internacionalm...    0.0\n"
          ]
        }
      ]
    },
    {
      "cell_type": "code",
      "source": [
        "import pandas as pd\n",
        "\n",
        "df = pd.DataFrame({\n",
        "    'texto': ['O Brasil é um país tropical com muitas belezas naturais', \n",
        "              'A economia brasileira é uma das maiores da América Latina', \n",
        "              'O futebol é o esporte mais popular do Brasil', \n",
        "              'O Carnaval do Rio de Janeiro é um dos mais famosos do mundo', \n",
        "              'A Amazônia é uma região rica em biodiversidade', \n",
        "              'A música brasileira é conhecida internacionalmente'], \n",
        "    'idade': [20, 30, 25, None, 40, None]\n",
        "})\n",
        "\n",
        "# Substituir os valores nulos pela média dos valores não nulos\n",
        "mean_age = df['idade'].mean()\n",
        "df['idade'].fillna(mean_age, inplace=True)\n",
        "\n",
        "print(df)"
      ],
      "metadata": {
        "colab": {
          "base_uri": "https://localhost:8080/"
        },
        "id": "FzeCcYldlVWT",
        "outputId": "56c3abd1-0197-4d7f-e609-a155bc4e41bd"
      },
      "execution_count": null,
      "outputs": [
        {
          "output_type": "stream",
          "name": "stdout",
          "text": [
            "                                               texto  idade\n",
            "0  O Brasil é um país tropical com muitas belezas...  20.00\n",
            "1  A economia brasileira é uma das maiores da Amé...  30.00\n",
            "2       O futebol é o esporte mais popular do Brasil  25.00\n",
            "3  O Carnaval do Rio de Janeiro é um dos mais fam...  28.75\n",
            "4     A Amazônia é uma região rica em biodiversidade  40.00\n",
            "5  A música brasileira é conhecida internacionalm...  28.75\n"
          ]
        }
      ]
    },
    {
      "cell_type": "code",
      "source": [
        "import pandas as pd\n",
        "\n",
        "df = pd.DataFrame({\n",
        "    'texto': ['O Brasil é um país tropical com muitas belezas naturais', \n",
        "              'A economia brasileira é uma das maiores da América Latina', \n",
        "              'O futebol é o esporte mais popular do Brasil', \n",
        "              'O Carnaval do Rio de Janeiro é um dos mais famosos do mundo', \n",
        "              'A Amazônia é uma região rica em biodiversidade', \n",
        "              'A música brasileira é conhecida internacionalmente'], \n",
        "    'idade': [20, 30, 25, None, 40, None]\n",
        "})\n",
        "\n",
        "# Substituir os valores nulos pela mediana dos valores não nulos\n",
        "median_age = df['idade'].median()\n",
        "df['idade'].fillna(median_age, inplace=True)\n",
        "\n",
        "print(df)"
      ],
      "metadata": {
        "colab": {
          "base_uri": "https://localhost:8080/"
        },
        "id": "Aew5bIxqlZCF",
        "outputId": "7743b41d-ba32-4a6c-abf4-a9d2d0fa4863"
      },
      "execution_count": null,
      "outputs": [
        {
          "output_type": "stream",
          "name": "stdout",
          "text": [
            "                                               texto  idade\n",
            "0  O Brasil é um país tropical com muitas belezas...   20.0\n",
            "1  A economia brasileira é uma das maiores da Amé...   30.0\n",
            "2       O futebol é o esporte mais popular do Brasil   25.0\n",
            "3  O Carnaval do Rio de Janeiro é um dos mais fam...   27.5\n",
            "4     A Amazônia é uma região rica em biodiversidade   40.0\n",
            "5  A música brasileira é conhecida internacionalm...   27.5\n"
          ]
        }
      ]
    },
    {
      "cell_type": "code",
      "source": [
        "import pandas as pd\n",
        "\n",
        "df = pd.DataFrame({\n",
        "    'texto': ['O Brasil é um país tropical com muitas belezas naturais', \n",
        "              'A economia brasileira é uma das maiores da América Latina', \n",
        "              'O futebol é o esporte mais popular do Brasil', \n",
        "              'O Carnaval do Rio de Janeiro é um dos mais famosos do mundo', \n",
        "              'A Amazônia é uma região rica em biodiversidade', \n",
        "              'A música brasileira é conhecida internacionalmente'], \n",
        "    'idade': [20, 30, 25, None, 40, None]\n",
        "})\n",
        "\n",
        "# Substituir os valores nulos pela moda dos valores não nulos\n",
        "mode_age = df['idade'].mode()[0]\n",
        "df['idade'].fillna(mode_age, inplace=True)\n",
        "\n",
        "print(df)"
      ],
      "metadata": {
        "colab": {
          "base_uri": "https://localhost:8080/"
        },
        "id": "lRDsAAqPlceV",
        "outputId": "0be4a64a-36b4-4383-ba2d-4d4b86434f51"
      },
      "execution_count": null,
      "outputs": [
        {
          "output_type": "stream",
          "name": "stdout",
          "text": [
            "                                               texto  idade\n",
            "0  O Brasil é um país tropical com muitas belezas...   20.0\n",
            "1  A economia brasileira é uma das maiores da Amé...   30.0\n",
            "2       O futebol é o esporte mais popular do Brasil   25.0\n",
            "3  O Carnaval do Rio de Janeiro é um dos mais fam...   20.0\n",
            "4     A Amazônia é uma região rica em biodiversidade   40.0\n",
            "5  A música brasileira é conhecida internacionalm...   20.0\n"
          ]
        }
      ]
    },
    {
      "cell_type": "markdown",
      "source": [
        "Nestes exemplos, estamos substituindo os valores nulos pela média, mediana ou moda dos valores não nulos. O método `fillna()` é usado para fazer essa substituição. O parâmetro `inplace=True` é usado para modificar o dataframe original em vez de criar uma cópia."
      ],
      "metadata": {
        "id": "kipqL1PjlpJj"
      }
    },
    {
      "cell_type": "markdown",
      "source": [
        "Se quisermos remover apenas os dados nulos em uma coluna numérica de um dataframe, podemos usar o método `dropna()` especificando a coluna desejada e o parâmetro `subset`. "
      ],
      "metadata": {
        "id": "syZb8sbVm3l3"
      }
    },
    {
      "cell_type": "code",
      "source": [
        "import pandas as pd\n",
        "\n",
        "df = pd.DataFrame({\n",
        "    'texto': ['O Brasil é um país tropical com muitas belezas naturais', \n",
        "              'A economia brasileira é uma das maiores da América Latina', \n",
        "              'O futebol é o esporte mais popular do Brasil', \n",
        "              'O Carnaval do Rio de Janeiro é um dos mais famosos do mundo', \n",
        "              'A Amazônia é uma região rica em biodiversidade', \n",
        "              'A música brasileira é conhecida internacionalmente'], \n",
        "    'idade': [20, 30, 25, None, 40, None]\n",
        "})\n",
        "\n",
        "df.dropna(subset=[\"idade\"], inplace=True)\n",
        "\n",
        "print(df)"
      ],
      "metadata": {
        "colab": {
          "base_uri": "https://localhost:8080/"
        },
        "id": "tRTUUSBCmnD2",
        "outputId": "9e00ba9c-e4d3-4238-e2c0-9c86d01ac3d3"
      },
      "execution_count": null,
      "outputs": [
        {
          "output_type": "stream",
          "name": "stdout",
          "text": [
            "                                               texto  idade\n",
            "0  O Brasil é um país tropical com muitas belezas...   20.0\n",
            "1  A economia brasileira é uma das maiores da Amé...   30.0\n",
            "2       O futebol é o esporte mais popular do Brasil   25.0\n",
            "4     A Amazônia é uma região rica em biodiversidade   40.0\n"
          ]
        }
      ]
    },
    {
      "cell_type": "markdown",
      "source": [
        "O parâmetro `inplace=True` é usado para aplicar a mudança no próprio dataframe, em vez de criar um novo. Note que isso removerá todas as linhas com valores nulos na coluna \"idade\". Se quisermos remover apenas as linhas com valores nulos em ambas as colunas \"texto\" e \"idade\", podemos especificar ambas as colunas no parâmetro `subset`:"
      ],
      "metadata": {
        "id": "9PMlGC0qnAo8"
      }
    },
    {
      "cell_type": "code",
      "source": [
        "df.dropna(subset=[\"texto\", \"idade\"], inplace=True)"
      ],
      "metadata": {
        "id": "XZvWX6RGnFQD"
      },
      "execution_count": null,
      "outputs": []
    },
    {
      "cell_type": "markdown",
      "source": [
        "Dessa forma, apenas as linhas que possuem valores nulos em ambas as colunas serão removidas do dataframe."
      ],
      "metadata": {
        "id": "nn2j7V_qnQKf"
      }
    },
    {
      "cell_type": "markdown",
      "source": [
        "Aqui vai um exemplo de análise da qualidade dos dados que verifica a presença de valores duplicados em uma coluna de um dataframe. É importante identificar e remover valores duplicados para evitar informações redundantes e vieses nos dados:"
      ],
      "metadata": {
        "id": "9Id1sucPn-ku"
      }
    },
    {
      "cell_type": "code",
      "source": [
        "import pandas as pd\n",
        "\n",
        "# Criando um dataframe de exemplo\n",
        "df = pd.DataFrame({\n",
        "    'Nome': ['João', 'Maria', 'Pedro', 'João', 'Carlos'],\n",
        "    'Idade': [25, 30, 28, 25, 35],\n",
        "    'Cidade': ['São Paulo', 'Rio de Janeiro', 'São Paulo', 'Belo Horizonte', 'Porto Alegre']\n",
        "})\n",
        "\n",
        "# Verificando se há valores duplicados na coluna 'Nome'\n",
        "duplicados = df['Nome'].duplicated()\n",
        "print(duplicados)\n",
        "\n",
        "# Removendo as linhas com valores duplicados na coluna 'Nome'\n",
        "df = df.drop_duplicates(subset=['Nome'])\n",
        "\n",
        "print('\\n', df)"
      ],
      "metadata": {
        "colab": {
          "base_uri": "https://localhost:8080/"
        },
        "id": "bjrMYdiWoB6V",
        "outputId": "5aad448a-7b09-4522-e038-640928281917"
      },
      "execution_count": null,
      "outputs": [
        {
          "output_type": "stream",
          "name": "stdout",
          "text": [
            "0    False\n",
            "1    False\n",
            "2    False\n",
            "3     True\n",
            "4    False\n",
            "Name: Nome, dtype: bool\n",
            "\n",
            "      Nome  Idade          Cidade\n",
            "0    João     25       São Paulo\n",
            "1   Maria     30  Rio de Janeiro\n",
            "2   Pedro     28       São Paulo\n",
            "4  Carlos     35    Porto Alegre\n"
          ]
        }
      ]
    },
    {
      "cell_type": "markdown",
      "source": [
        "Nesse exemplo, a função `duplicated()` é usada para verificar se há valores duplicados na coluna 'Nome' do dataframe. Em seguida, a função `drop_duplicates()` é usada para remover as linhas com valores duplicados na coluna 'Nome'. O resultado final é um dataframe sem valores duplicados na coluna 'Nome'."
      ],
      "metadata": {
        "id": "ay01l7n-oUGr"
      }
    },
    {
      "cell_type": "markdown",
      "source": [
        "Um exemplo interessante seria verificar a presença de palavras que possam ser consideradas sensíveis ou ofensivas no conjunto de dados de texto. Para isso, podemos utilizar uma lista de palavras-chave sensíveis e verificar se alguma delas está presente nos textos do dataframe.\n",
        "\n",
        "Vamos criar um exemplo de dataframe com dados de texto e verificar a presença de palavras sensíveis:"
      ],
      "metadata": {
        "id": "cm-xKu_vop1F"
      }
    },
    {
      "cell_type": "code",
      "source": [
        "import pandas as pd\n",
        "\n",
        "# Criando um dataframe com dados de texto\n",
        "df = pd.DataFrame({\n",
        "    'id': [1, 2, 3, 4],\n",
        "    'texto': [\n",
        "        'Esse é um texto sem palavras sensíveis.',\n",
        "        'Esse é um texto com a palavra sensível \"racismo\".',\n",
        "        'Esse é um texto com a palavra sensível \"discriminação\".',\n",
        "        'Esse é um texto sem palavras sensíveis.'\n",
        "    ]\n",
        "})\n",
        "\n",
        "# Lista de palavras sensíveis\n",
        "palavras_sensiveis = ['racismo', 'discriminação', 'preconceito']\n",
        "\n",
        "# Verificando a presença de palavras sensíveis nos textos\n",
        "for texto in df['texto']:\n",
        "    palavras_texto = texto.split()\n",
        "    palavras_sensiveis_texto = [p for p in palavras_texto if p.lower().replace(\".\", \"\").replace(\"\\\"\", \"\") in palavras_sensiveis]\n",
        "    if len(palavras_sensiveis_texto) > 0:\n",
        "        print(f'Texto com palavras sensíveis: {texto}')\n",
        "    else:\n",
        "        print(f'Texto sem palavras sensíveis: {texto}')"
      ],
      "metadata": {
        "colab": {
          "base_uri": "https://localhost:8080/"
        },
        "id": "juFofUpZotb_",
        "outputId": "6f7fc07f-9f6a-4cfb-d0a5-1cc292f8d0c2"
      },
      "execution_count": null,
      "outputs": [
        {
          "output_type": "stream",
          "name": "stdout",
          "text": [
            "Texto sem palavras sensíveis: Esse é um texto sem palavras sensíveis.\n",
            "Texto com palavras sensíveis: Esse é um texto com a palavra sensível \"racismo\".\n",
            "Texto com palavras sensíveis: Esse é um texto com a palavra sensível \"discriminação\".\n",
            "Texto sem palavras sensíveis: Esse é um texto sem palavras sensíveis.\n"
          ]
        }
      ]
    },
    {
      "cell_type": "markdown",
      "source": [
        "Em relação a detecção de palavras sensíveis, existem várias maneiras de fazer isso em Python. Uma delas é usar expressões regulares para procurar por padrões específicos de palavras em um texto e, em seguida, substituí-las ou marcá-las de alguma forma."
      ],
      "metadata": {
        "id": "aPApEcN1rkVm"
      }
    },
    {
      "cell_type": "code",
      "source": [
        "import re\n",
        "\n",
        "# Lista de palavras ofensivas\n",
        "offensive_words = ['idiota', 'imbecil', 'estúpido', 'burro', 'imoral']\n",
        "\n",
        "# Texto de exemplo\n",
        "text = 'Esse sujeito é um idiota e não merece atenção.'\n",
        "\n",
        "# Verifica se há palavras ofensivas no texto\n",
        "for word in offensive_words:\n",
        "    if re.search(word, text):\n",
        "        print(f'Palavra ofensiva \"{word}\" encontrada!')"
      ],
      "metadata": {
        "colab": {
          "base_uri": "https://localhost:8080/"
        },
        "id": "mB_H2NAxpPFH",
        "outputId": "d5741a1f-b7e8-4ec2-c678-dd3801411e5b"
      },
      "execution_count": null,
      "outputs": [
        {
          "output_type": "stream",
          "name": "stdout",
          "text": [
            "Palavra ofensiva \"idiota\" encontrada!\n"
          ]
        }
      ]
    },
    {
      "cell_type": "markdown",
      "source": [
        "Outro exemplo seria verificar se as datas em um conjunto de dados estão em um formato válido e consistente. Por exemplo, suponha que temos um conjunto de dados com uma coluna \"Data\" que contém datas no formato `\"dd/mm/yyyy\"`. Podemos usar Python para verificar se todas as datas estão nesse formato e se são válidas.\n",
        "\n",
        "Um exemplo de código para essa análise seria:"
      ],
      "metadata": {
        "id": "NkNUEI4tsCTf"
      }
    },
    {
      "cell_type": "code",
      "source": [
        "import pandas as pd\n",
        "from datetime import datetime\n",
        "\n",
        "# Criando o dataframe de exemplo\n",
        "data = {\n",
        "    'Data': ['01/01/2022', \n",
        "             '31/02/2022', \n",
        "             '03-04-2022', \n",
        "             '10/05/22', \n",
        "             '2022/06/15']}\n",
        "df = pd.DataFrame(data)\n",
        "\n",
        "# Verificando se as datas são válidas e estão no formato correto\n",
        "for i, row in df.iterrows():\n",
        "    try:\n",
        "        datetime.strptime(row['Data'], '%d/%m/%Y')\n",
        "    except ValueError:\n",
        "        print(f\"Data inválida na linha {i+1}: {row['Data']}\")"
      ],
      "metadata": {
        "colab": {
          "base_uri": "https://localhost:8080/"
        },
        "id": "x2YhXqm9r9Ul",
        "outputId": "441876af-6f25-4ddc-d0cd-77942074b318"
      },
      "execution_count": null,
      "outputs": [
        {
          "output_type": "stream",
          "name": "stdout",
          "text": [
            "Data inválida na linha 2: 31/02/2022\n",
            "Data inválida na linha 3: 03-04-2022\n",
            "Data inválida na linha 4: 10/05/22\n",
            "Data inválida na linha 5: 2022/06/15\n",
            "Data inválida na linha 6: 30/02/2022\n"
          ]
        }
      ]
    },
    {
      "cell_type": "markdown",
      "source": [
        "Suponha que você tenha um conjunto de dados de avaliações de produtos e deseja verificar se há avaliações que são consideradas extremas demais (ou seja, muito positivas ou muito negativas) em comparação com as outras avaliações. Uma possível forma de realizar essa análise seria calcular a média das avaliações e comparar cada avaliação com essa média. As avaliações que estiverem muito distantes da média poderiam ser consideradas extremas demais.\n",
        "\n",
        "Segue abaixo um exemplo de código para realizar essa análise:"
      ],
      "metadata": {
        "id": "pXlgALh4twTL"
      }
    },
    {
      "cell_type": "code",
      "source": [
        "import pandas as pd\n",
        "\n",
        "# Cria um dataframe com avaliações de produtos\n",
        "df = pd.DataFrame({\n",
        "    'produto': ['produto A', 'produto B', 'produto C', 'produto D', 'produto E'],\n",
        "    'avaliacao': [4.2, 3.8, 4.0, 2.1, 4.9]\n",
        "})\n",
        "\n",
        "# Calcula a média das avaliações\n",
        "media_avaliacoes = df['avaliacao'].mean()\n",
        "\n",
        "# Cria uma nova coluna indicando se a avaliação é extrema ou não\n",
        "df['avaliacao_extrema'] = df['avaliacao'].apply(lambda x: 'sim' if abs(x - media_avaliacoes) > 1 else 'não')\n",
        "\n",
        "# Exibe o dataframe\n",
        "print(df)"
      ],
      "metadata": {
        "colab": {
          "base_uri": "https://localhost:8080/"
        },
        "id": "Q0gjZ9u3tqrd",
        "outputId": "d597a22d-fbb6-4fe7-fdb4-fbe575c027f9"
      },
      "execution_count": null,
      "outputs": [
        {
          "output_type": "stream",
          "name": "stdout",
          "text": [
            "     produto  avaliacao avaliacao_extrema\n",
            "0  produto A        4.2               não\n",
            "1  produto B        3.8               não\n",
            "2  produto C        4.0               não\n",
            "3  produto D        2.1               sim\n",
            "4  produto E        4.9               sim\n"
          ]
        }
      ]
    },
    {
      "cell_type": "markdown",
      "source": [
        "Nesse exemplo, a análise considera que uma avaliação é extrema se estiver mais de 1 ponto de distância da média das avaliações. A coluna 'avaliacao_extrema' indica se cada avaliação é extrema ou não."
      ],
      "metadata": {
        "id": "-fabK2DEt2_m"
      }
    },
    {
      "cell_type": "markdown",
      "source": [
        "**Palavras no singular e no plural**"
      ],
      "metadata": {
        "id": "cIwrvmfrweE-"
      }
    },
    {
      "cell_type": "markdown",
      "source": [
        "Em PLN, é importante tratar as palavras escritas no singular ou plural porque elas têm diferentes formas, e essas diferenças podem afetar a análise e o processamento do texto.\n",
        "\n",
        "Por exemplo, ao procurar por ocorrências de uma determinada palavra em um texto, se a palavra aparecer no plural, pode ser necessário tratar tanto a palavra no singular quanto a palavra no plural como uma única palavra. O mesmo pode acontecer em tarefas de classificação de texto, onde as palavras no singular e plural podem ser consideradas como características diferentes. Além disso, ao realizar análises estatísticas ou de frequência de palavras, pode ser importante tratar as formas no singular e plural como iguais para obter resultados mais precisos.\n",
        "\n",
        "Por esses motivos, é comum aplicar técnicas de normalização de palavras, como lematização ou *stemming*, para transformar as palavras no singular ou plural em uma forma padrão. Assim, as palavras no singular e plural são tratadas como iguais, simplificando a análise e o processamento do texto.\n"
      ],
      "metadata": {
        "id": "gTmSlHESwqUX"
      }
    },
    {
      "cell_type": "code",
      "source": [
        "from textblob import TextBlob\n",
        "\n",
        "# Define o texto de exemplo\n",
        "texto = \"Os gatos estão brincando com os ratos no jardim.\"\n",
        "\n",
        "# Converte o texto em um objeto TextBlob\n",
        "blob = TextBlob(texto)\n",
        "\n",
        "# Lematiza cada palavra para o singular\n",
        "singular_palavras = [word.singularize() for word in blob.words]\n",
        "\n",
        "# Junta as palavras de volta em um texto\n",
        "texto_singular = \" \".join(singular_palavras)\n",
        "\n",
        "# Imprime o resultado\n",
        "print(texto_singular)"
      ],
      "metadata": {
        "colab": {
          "base_uri": "https://localhost:8080/"
        },
        "id": "PSWuh9dDwGFK",
        "outputId": "102b0f28-c35f-4e76-9643-796d4c2ddb1f"
      },
      "execution_count": null,
      "outputs": [
        {
          "output_type": "stream",
          "name": "stdout",
          "text": [
            "O gato estão brincando com o rato no jardim\n"
          ]
        }
      ]
    },
    {
      "cell_type": "markdown",
      "source": [
        "Este código utiliza o objeto `TextBlob` da biblioteca `TextBlob` para lematizar cada palavra para o singular. Ele também usa a função `singularize` do TextBlob para transformar cada palavra no singular. É importante ressaltar que a lematização nem sempre produzirá o singular correto para cada palavra."
      ],
      "metadata": {
        "id": "Ojcoj2FXxS1v"
      }
    },
    {
      "cell_type": "markdown",
      "source": [
        "Também é possível utilizar o método `pluralize()` para transformar cada palavra para o plural."
      ],
      "metadata": {
        "id": "GekdBhop2Xyw"
      }
    },
    {
      "cell_type": "code",
      "source": [
        "from textblob import TextBlob\n",
        "\n",
        "# Define o texto de exemplo\n",
        "texto = \"I have two cats and one dog.\"\n",
        "\n",
        "# Cria um objeto TextBlob com o texto\n",
        "blob = TextBlob(texto)\n",
        "\n",
        "# Itera sobre cada palavra do texto e as transforma no plural\n",
        "palavras_plurais = [word.pluralize() for word in blob.words]\n",
        "\n",
        "# Converte as palavras plurais em uma string\n",
        "texto_plural = \" \".join(palavras_plurais)\n",
        "\n",
        "# Imprime o resultado\n",
        "print(texto_plural)"
      ],
      "metadata": {
        "colab": {
          "base_uri": "https://localhost:8080/"
        },
        "id": "rYH6e1Wd3TyR",
        "outputId": "551cf6eb-2ac2-4986-880f-4759ca6656e3"
      },
      "execution_count": null,
      "outputs": [
        {
          "output_type": "stream",
          "name": "stdout",
          "text": [
            "we haves twoes catss ands ones dogs\n"
          ]
        }
      ]
    },
    {
      "cell_type": "markdown",
      "source": [
        "**Detecção de Idioma**"
      ],
      "metadata": {
        "id": "gkBIVx324IfN"
      }
    },
    {
      "cell_type": "markdown",
      "source": [
        "Aqui está um exemplo de como detectar se há mais de um idioma em avaliações de hotéis em português e inglês utilizando a biblioteca `langdetect` e um `DataFrame` do `Pandas`:"
      ],
      "metadata": {
        "id": "omyHhDaK5AJa"
      }
    },
    {
      "cell_type": "code",
      "source": [
        "!pip install langdetect"
      ],
      "metadata": {
        "colab": {
          "base_uri": "https://localhost:8080/"
        },
        "id": "lScOF-474n9K",
        "outputId": "f928fc85-f80d-4757-8392-d5078063529a"
      },
      "execution_count": null,
      "outputs": [
        {
          "output_type": "stream",
          "name": "stdout",
          "text": [
            "Looking in indexes: https://pypi.org/simple, https://us-python.pkg.dev/colab-wheels/public/simple/\n",
            "Collecting langdetect\n",
            "  Downloading langdetect-1.0.9.tar.gz (981 kB)\n",
            "\u001b[2K     \u001b[90m━━━━━━━━━━━━━━━━━━━━━━━━━━━━━━━━━━━━━━\u001b[0m \u001b[32m981.5/981.5 KB\u001b[0m \u001b[31m12.8 MB/s\u001b[0m eta \u001b[36m0:00:00\u001b[0m\n",
            "\u001b[?25h  Preparing metadata (setup.py) ... \u001b[?25l\u001b[?25hdone\n",
            "Requirement already satisfied: six in /usr/local/lib/python3.8/dist-packages (from langdetect) (1.15.0)\n",
            "Building wheels for collected packages: langdetect\n",
            "  Building wheel for langdetect (setup.py) ... \u001b[?25l\u001b[?25hdone\n",
            "  Created wheel for langdetect: filename=langdetect-1.0.9-py3-none-any.whl size=993242 sha256=1f2e42e70376afcdb8efbd2522953ccc7223910def4aa8d9f3b4041c112876dc\n",
            "  Stored in directory: /root/.cache/pip/wheels/13/c7/b0/79f66658626032e78fc1a83103690ef6797d551cb22e56e734\n",
            "Successfully built langdetect\n",
            "Installing collected packages: langdetect\n",
            "Successfully installed langdetect-1.0.9\n"
          ]
        }
      ]
    },
    {
      "cell_type": "code",
      "source": [
        "import pandas as pd\n",
        "from langdetect import detect_langs\n",
        "\n",
        "# Cria um DataFrame com avaliações em português e inglês\n",
        "df = pd.DataFrame({'avaliacao': ['O hotel foi incrível. As instalações eram modernas e confortáveis.',\n",
        "                                 'The hotel location is great. A equipe é muito prestativa e amigável.']})\n",
        "\n",
        "# Define uma função para detectar se há mais de um idioma em uma avaliação\n",
        "def detecta_mais_de_um_idioma(avaliacao):\n",
        "    # Detecta os idiomas presentes na avaliação e retorna True se houver mais de um idioma\n",
        "    return len(detect_langs(avaliacao)) > 1\n",
        "\n",
        "# Aplica a função ao DataFrame e adiciona uma coluna com o resultado\n",
        "df['mais_de_um_idioma'] = df['avaliacao'].apply(detecta_mais_de_um_idioma)\n",
        "\n",
        "# Imprime o resultado\n",
        "print(df)"
      ],
      "metadata": {
        "colab": {
          "base_uri": "https://localhost:8080/"
        },
        "id": "TpUoffHj4hNU",
        "outputId": "0d5e7bbb-5900-44c2-9f2e-c0012ac14fa5"
      },
      "execution_count": null,
      "outputs": [
        {
          "output_type": "stream",
          "name": "stdout",
          "text": [
            "                                           avaliacao  mais_de_um_idioma\n",
            "0  O hotel foi incrível. As instalações eram mode...              False\n",
            "1  The hotel location is great. A equipe é muito ...               True\n"
          ]
        }
      ]
    },
    {
      "cell_type": "markdown",
      "source": [
        "Suponha que você tenha um conjunto de dados com avaliações de produtos em diferentes idiomas e queira explorar como os usuários avaliam o produto em diferentes idiomas. Para isso, você pode usar a biblioteca `langdetect` para detectar o idioma de cada avaliação e, em seguida, segmentar os dados por idioma e calcular as estatísticas relevantes para cada grupo.\n",
        "\n",
        "Vamos criar um exemplo simples usando a biblioteca pandas para criar um DataFrame com avaliações de produtos em diferentes idiomas:"
      ],
      "metadata": {
        "id": "pkhU6HNS9JYB"
      }
    },
    {
      "cell_type": "code",
      "source": [
        "import pandas as pd\n",
        "from langdetect import detect\n",
        "\n",
        "# cria um DataFrame com avaliações em diferentes idiomas\n",
        "data = {'review': ['Great product!', 'Buen producto!', 'Très bon produit!', 'Produto excelente!', 'Excelente produto!']}\n",
        "df = pd.DataFrame(data)\n",
        "\n",
        "# adiciona uma coluna com o idioma detectado de cada avaliação\n",
        "df['language'] = df['review'].apply(lambda x: detect(x))\n",
        "\n",
        "print(df)"
      ],
      "metadata": {
        "colab": {
          "base_uri": "https://localhost:8080/"
        },
        "id": "JP5c1rE-8tCp",
        "outputId": "da817e50-4dfb-4268-82b0-7638bae28424"
      },
      "execution_count": null,
      "outputs": [
        {
          "output_type": "stream",
          "name": "stdout",
          "text": [
            "               review language\n",
            "0      Great product!       en\n",
            "1      Buen producto!       es\n",
            "2   Très bon produit!       fr\n",
            "3  Produto excelente!       pt\n",
            "4  Excelente produto!       pt\n"
          ]
        }
      ]
    },
    {
      "cell_type": "code",
      "source": [
        "# segmenta os dados por idioma e calcula o número de avaliações em cada grupo\n",
        "grouped = df.groupby('language').agg({'review': 'count',}).reset_index()\n",
        "grouped.rename(columns={'review': 'count'}, inplace=True)\n",
        "\n",
        "print(grouped)"
      ],
      "metadata": {
        "colab": {
          "base_uri": "https://localhost:8080/"
        },
        "id": "w7pW3utn80Dj",
        "outputId": "8202d8c6-f1a3-4b09-94f8-a46a2d5acbdc"
      },
      "execution_count": null,
      "outputs": [
        {
          "output_type": "stream",
          "name": "stdout",
          "text": [
            "  language  count\n",
            "0       en      1\n",
            "1       es      1\n",
            "2       fr      1\n",
            "3       pt      2\n"
          ]
        }
      ]
    },
    {
      "cell_type": "markdown",
      "source": [
        "A partir desses resultados, podemos ver que temos um número igual de avaliações em inglês, espanhol e francês, enquanto que temos duas avaliações em português. Com essas informações, podemos investigar mais a fundo as avaliações em português e comparar com as avaliações em outros idiomas para entender melhor as percepções dos usuários sobre o produto em diferentes idiomas."
      ],
      "metadata": {
        "id": "R8dZ9P3B9aqD"
      }
    },
    {
      "cell_type": "markdown",
      "source": [
        "Vamos supor que temos um conjunto de documentos que podem estar em português, inglês ou espanhol, e queremos separá-los em três conjuntos distintos, um para cada idioma. Podemos utilizar a biblioteca langdetect para realizar a detecção de idioma e separar os documentos.\n",
        "\n",
        "Aqui está um exemplo de código que mostra como podemos utilizar a detecção de idioma para separar um conjunto de documentos em português, inglês e espanhol:"
      ],
      "metadata": {
        "id": "oyM4ThW795JN"
      }
    },
    {
      "cell_type": "code",
      "source": [
        "from langdetect import detect\n",
        "\n",
        "# Lista de documentos\n",
        "docs = ['Este é um documento em português.',\n",
        "        'This is a document in English.',\n",
        "        'Este es un documento en español.',\n",
        "        'Outro documento em português.',\n",
        "        'Another document in English.',\n",
        "        'Otro documento en español.']\n",
        "\n",
        "# Dicionário para armazenar os documentos separados por idioma\n",
        "doc_dict = {'portuguese': [], 'english': [], 'spanish': []}\n",
        "\n",
        "# Loop para separar os documentos por idioma\n",
        "for doc in docs:\n",
        "    lang = detect(doc)\n",
        "    if lang == 'pt':\n",
        "        doc_dict['portuguese'].append(doc)\n",
        "    elif lang == 'en':\n",
        "        doc_dict['english'].append(doc)\n",
        "    elif lang == 'es':\n",
        "        doc_dict['spanish'].append(doc)\n",
        "        \n",
        "# Imprime os documentos separados por idioma\n",
        "print('Documentos em português:')\n",
        "print(doc_dict['portuguese'])\n",
        "print('')\n",
        "\n",
        "print('Documentos em inglês:')\n",
        "print(doc_dict['english'])\n",
        "print('')\n",
        "\n",
        "print('Documentos em espanhol:')\n",
        "print(doc_dict['spanish'])"
      ],
      "metadata": {
        "colab": {
          "base_uri": "https://localhost:8080/"
        },
        "id": "eQoysCs_9yC8",
        "outputId": "19b28e5e-0921-4f80-d420-c58a7ae46867"
      },
      "execution_count": null,
      "outputs": [
        {
          "output_type": "stream",
          "name": "stdout",
          "text": [
            "Documentos em português:\n",
            "['Este é um documento em português.', 'Outro documento em português.']\n",
            "\n",
            "Documentos em inglês:\n",
            "['This is a document in English.', 'Another document in English.']\n",
            "\n",
            "Documentos em espanhol:\n",
            "['Este es un documento en español.', 'Otro documento en español.']\n"
          ]
        }
      ]
    },
    {
      "cell_type": "markdown",
      "source": [
        "Vamos criar um exemplo que o resultado será um dataframe com a quantidade de avaliações em cada idioma e sua porcentagem correspondente, ordenado pela quantidade em ordem decrescente."
      ],
      "metadata": {
        "id": "Wyn6cAt_Bj6p"
      }
    },
    {
      "cell_type": "markdown",
      "source": [
        "Primeiramente, vamos criar um dataframe com mais avaliações em diferentes idiomas:"
      ],
      "metadata": {
        "id": "7OT_XeIJBXFQ"
      }
    },
    {
      "cell_type": "code",
      "source": [
        "import pandas as pd\n",
        "from langdetect import detect\n",
        "\n",
        "# Criando um DataFrame com mais avaliações\n",
        "data = {\n",
        "    'comentario': ['Ótimo hotel! Adorei a estadia',\n",
        "                   'Amazing hotel with great service', \n",
        "                   'A pior experiência da minha vida', \n",
        "                   'O hotel é incrível, recomendo',\n",
        "                   'Me encantó el hotel, definitivamente volvería', \n",
        "                   'Hotel maravilhoso, excelente atendimento']\n",
        "}\n",
        "\n",
        "df = pd.DataFrame(data)"
      ],
      "metadata": {
        "id": "p74FrtisAE24"
      },
      "execution_count": null,
      "outputs": []
    },
    {
      "cell_type": "markdown",
      "source": [
        "Agora, vamos adicionar a coluna de detecção de idioma:"
      ],
      "metadata": {
        "id": "ct7-cS28BvyL"
      }
    },
    {
      "cell_type": "code",
      "source": [
        "from langdetect import detect\n",
        "\n",
        "df['Idioma'] = df['comentario'].apply(detect)"
      ],
      "metadata": {
        "id": "14la0pKLBF_m"
      },
      "execution_count": null,
      "outputs": []
    },
    {
      "cell_type": "markdown",
      "source": [
        "Agora, vamos calcular a porcentagem de avaliações em cada idioma:"
      ],
      "metadata": {
        "id": "DNpUKrgSBub4"
      }
    },
    {
      "cell_type": "code",
      "source": [
        "idiomas = df['Idioma'].unique()\n",
        "quantidades = df['Idioma'].value_counts()\n",
        "total = quantidades.sum()\n",
        "\n",
        "porcentagens = []\n",
        "for idioma in idiomas:\n",
        "    quantidade = quantidades[idioma]\n",
        "    porcentagem = (quantidade / total) * 100\n",
        "    porcentagens.append(porcentagem)\n",
        "\n",
        "df_porcentagens = pd.DataFrame({'Idioma': idiomas, \n",
        "                                'Quantidade': quantidades, \n",
        "                                'Porcentagem': porcentagens})"
      ],
      "metadata": {
        "id": "_UeSdgyXBPDK"
      },
      "execution_count": null,
      "outputs": []
    },
    {
      "cell_type": "markdown",
      "source": [
        "Por fim, vamos ordenar o dataframe pela quantidade de avaliações em ordem decrescente:"
      ],
      "metadata": {
        "id": "3XJ69dZRB1ux"
      }
    },
    {
      "cell_type": "code",
      "source": [
        "df_porcentagens = df_porcentagens.sort_values(by='Quantidade', ascending=False)\n",
        "\n",
        "print(df_porcentagens)"
      ],
      "metadata": {
        "colab": {
          "base_uri": "https://localhost:8080/"
        },
        "id": "0ukTqh-DBTCi",
        "outputId": "6d68405c-2d93-481a-ac8c-c92f5adbc933"
      },
      "execution_count": null,
      "outputs": [
        {
          "output_type": "stream",
          "name": "stdout",
          "text": [
            "   Idioma  Quantidade  Porcentagem\n",
            "pt     pt           4    66.666667\n",
            "en     en           1    16.666667\n",
            "es     es           1    16.666667\n"
          ]
        }
      ]
    },
    {
      "cell_type": "markdown",
      "source": [
        "Um exemplo interessante de detecção de idioma para análise exploratória de dados é a identificação do idioma predominante em conversas de atendimento ao cliente em um call center. Isso pode ajudar a entender quais idiomas são mais comuns entre os clientes e alocar recursos para atender essas demandas.\n",
        "\n",
        "Para exemplificar, vamos supor que temos um conjunto de dados com transcrições de conversas de atendimento ao cliente em um call center. Cada registro contém o texto da conversa e uma variável indicando o identificador do cliente.\n",
        "\n",
        "Vamos criar um dataframe simulando esse cenário:"
      ],
      "metadata": {
        "id": "jCcmBV-xCV_6"
      }
    },
    {
      "cell_type": "code",
      "source": [
        "import pandas as pd\n",
        "\n",
        "# simulando os dados\n",
        "dados = {'cliente': [1, 2, 3, 4, 5, 6, 7, 8, 9, 10],\n",
        "         'conversa': ['Bom dia, em que posso ajudar?',\n",
        "                      'Hi, how can I assist you?',\n",
        "                      '¿En qué puedo ayudarlo?',\n",
        "                      'Salut, comment puis-je vous aider?',\n",
        "                      'Olá, em que posso ajudar?',\n",
        "                      'Hallo, wie kann ich helfen?',\n",
        "                      'Bonjour, comment puis-je vous aider?',\n",
        "                      'Hola, ¿en qué puedo ayudarte?',\n",
        "                      'Oi, como posso ajudar?',\n",
        "                      'Guten Tag, wie kann ich helfen?']}\n",
        "\n",
        "df = pd.DataFrame(dados)"
      ],
      "metadata": {
        "id": "cE5SuQT4CIxv"
      },
      "execution_count": null,
      "outputs": []
    },
    {
      "cell_type": "markdown",
      "source": [
        "Agora vamos utilizar a biblioteca `langdetect` para detectar o idioma predominante em cada registro:"
      ],
      "metadata": {
        "id": "ObI87pS2CcOZ"
      }
    },
    {
      "cell_type": "code",
      "source": [
        "from langdetect import detect\n",
        "\n",
        "# função para detectar o idioma\n",
        "def detectar_idioma(texto):\n",
        "    try:\n",
        "        return detect(texto)\n",
        "    except:\n",
        "        return 'desconhecido'\n",
        "\n",
        "# aplicando a função na coluna de conversas\n",
        "df['idioma'] = df['conversa'].apply(detectar_idioma)"
      ],
      "metadata": {
        "id": "YYCBR-zmCLwq"
      },
      "execution_count": null,
      "outputs": []
    },
    {
      "cell_type": "markdown",
      "source": [
        "Por fim, podemos calcular a porcentagem de conversas em cada idioma e ordenar o dataframe pela quantidade de conversas em ordem decrescente:"
      ],
      "metadata": {
        "id": "QRdP0J0ZCfnD"
      }
    },
    {
      "cell_type": "code",
      "source": [
        "# calculando a quantidade e a porcentagem de conversas em cada idioma\n",
        "idiomas = df.groupby('idioma').size().reset_index(name='quantidade')\n",
        "idiomas['percentual'] = idiomas['quantidade'] / len(df) * 100\n",
        "\n",
        "# ordenando o dataframe pela quantidade em ordem decrescente\n",
        "idiomas = idiomas.sort_values(by='quantidade', ascending=False)\n",
        "\n",
        "# exibindo os resultados\n",
        "print(idiomas)"
      ],
      "metadata": {
        "colab": {
          "base_uri": "https://localhost:8080/"
        },
        "id": "bQ7ns5T_COz6",
        "outputId": "22b66964-b485-46f5-d5d0-f270e38786e6"
      },
      "execution_count": null,
      "outputs": [
        {
          "output_type": "stream",
          "name": "stdout",
          "text": [
            "  idioma  quantidade  percentual\n",
            "4     pt           3        30.0\n",
            "0     de           2        20.0\n",
            "2     es           2        20.0\n",
            "3     fr           2        20.0\n",
            "1     en           1        10.0\n"
          ]
        }
      ]
    },
    {
      "cell_type": "markdown",
      "source": [
        "Com essas informações, podemos tomar decisões estratégicas para alocar recursos de atendimento e suporte a clientes em cada idioma."
      ],
      "metadata": {
        "id": "Q_xMtaJ7C0Ra"
      }
    },
    {
      "cell_type": "markdown",
      "source": [
        "**Tradução**"
      ],
      "metadata": {
        "id": "xAYe56vp-x9v"
      }
    },
    {
      "cell_type": "markdown",
      "source": [
        "A tradução pode ser importante na análise exploratória de dados, especialmente se o conjunto de dados contiver informações em idiomas diferentes ou se for necessário compartilhar os resultados da análise com pessoas que falam outros idiomas.\n",
        "\n",
        "Algumas razões pelas quais a tradução pode ser importante na análise exploratória de dados incluem:\n",
        "\n",
        "  * Compreensão dos dados: se os dados contiverem informações em um idioma que você não entende, você pode perder informações importantes ou ter dificuldade em interpretar corretamente os resultados da análise.\n",
        "\n",
        "  * Compartilhamento dos resultados: se você precisar compartilhar os resultados da análise com outras pessoas que falam diferentes idiomas, a tradução pode ser necessária para garantir que todos entendam as informações da mesma forma.\n",
        "\n",
        "  * Ampliação da base de usuários: se você estiver criando um aplicativo ou plataforma baseado em dados que terá usuários em diferentes países ou regiões, a tradução dos dados pode ser essencial para garantir que o aplicativo seja acessível e compreensível para todos.\n",
        "\n",
        "Em resumo, a tradução pode ser importante na análise exploratória de dados, pois pode ajudar a garantir que todas as informações sejam compreendidas corretamente e que a análise possa ser compartilhada com um público mais amplo."
      ],
      "metadata": {
        "id": "PQwc7dUP7SWO"
      }
    },
    {
      "cell_type": "markdown",
      "source": [
        "No próximo exemplo, estamos criando um `DataFrame` com uma coluna de textos em diferentes idiomas. Em seguida, estamos utilizando a biblioteca `googletrans` para traduzir os textos para o inglês e adicionando a tradução em uma nova coluna chamada `texto_en`. Por fim, estamos exibindo o `DataFrame` com os textos originais e suas respectivas traduções em inglês."
      ],
      "metadata": {
        "id": "crjleHj7Vsur"
      }
    },
    {
      "cell_type": "code",
      "source": [
        "#!pip uninstall googletrans\n",
        "!pip install googletrans==4.0.0rc1"
      ],
      "metadata": {
        "colab": {
          "base_uri": "https://localhost:8080/"
        },
        "id": "-sg1TKLU9UOv",
        "outputId": "5f90ac53-657b-4241-c340-230acf17b543"
      },
      "execution_count": 1,
      "outputs": [
        {
          "output_type": "stream",
          "name": "stdout",
          "text": [
            "Looking in indexes: https://pypi.org/simple, https://us-python.pkg.dev/colab-wheels/public/simple/\n",
            "Collecting googletrans==4.0.0rc1\n",
            "  Downloading googletrans-4.0.0rc1.tar.gz (20 kB)\n",
            "  Preparing metadata (setup.py) ... \u001b[?25l\u001b[?25hdone\n",
            "Collecting httpx==0.13.3\n",
            "  Downloading httpx-0.13.3-py3-none-any.whl (55 kB)\n",
            "\u001b[2K     \u001b[90m━━━━━━━━━━━━━━━━━━━━━━━━━━━━━━━━━━━━━━━━\u001b[0m \u001b[32m55.1/55.1 KB\u001b[0m \u001b[31m2.4 MB/s\u001b[0m eta \u001b[36m0:00:00\u001b[0m\n",
            "\u001b[?25hCollecting hstspreload\n",
            "  Downloading hstspreload-2023.1.1-py3-none-any.whl (1.5 MB)\n",
            "\u001b[2K     \u001b[90m━━━━━━━━━━━━━━━━━━━━━━━━━━━━━━━━━━━━━━━━\u001b[0m \u001b[32m1.5/1.5 MB\u001b[0m \u001b[31m22.4 MB/s\u001b[0m eta \u001b[36m0:00:00\u001b[0m\n",
            "\u001b[?25hRequirement already satisfied: certifi in /usr/local/lib/python3.8/dist-packages (from httpx==0.13.3->googletrans==4.0.0rc1) (2022.12.7)\n",
            "Collecting httpcore==0.9.*\n",
            "  Downloading httpcore-0.9.1-py3-none-any.whl (42 kB)\n",
            "\u001b[2K     \u001b[90m━━━━━━━━━━━━━━━━━━━━━━━━━━━━━━━━━━━━━━━━\u001b[0m \u001b[32m42.6/42.6 KB\u001b[0m \u001b[31m2.3 MB/s\u001b[0m eta \u001b[36m0:00:00\u001b[0m\n",
            "\u001b[?25hCollecting sniffio\n",
            "  Downloading sniffio-1.3.0-py3-none-any.whl (10 kB)\n",
            "Collecting chardet==3.*\n",
            "  Downloading chardet-3.0.4-py2.py3-none-any.whl (133 kB)\n",
            "\u001b[2K     \u001b[90m━━━━━━━━━━━━━━━━━━━━━━━━━━━━━━━━━━━━━━━\u001b[0m \u001b[32m133.4/133.4 KB\u001b[0m \u001b[31m9.9 MB/s\u001b[0m eta \u001b[36m0:00:00\u001b[0m\n",
            "\u001b[?25hRequirement already satisfied: idna==2.* in /usr/local/lib/python3.8/dist-packages (from httpx==0.13.3->googletrans==4.0.0rc1) (2.10)\n",
            "Collecting rfc3986<2,>=1.3\n",
            "  Downloading rfc3986-1.5.0-py2.py3-none-any.whl (31 kB)\n",
            "Collecting h2==3.*\n",
            "  Downloading h2-3.2.0-py2.py3-none-any.whl (65 kB)\n",
            "\u001b[2K     \u001b[90m━━━━━━━━━━━━━━━━━━━━━━━━━━━━━━━━━━━━━━━━\u001b[0m \u001b[32m65.0/65.0 KB\u001b[0m \u001b[31m5.1 MB/s\u001b[0m eta \u001b[36m0:00:00\u001b[0m\n",
            "\u001b[?25hCollecting h11<0.10,>=0.8\n",
            "  Downloading h11-0.9.0-py2.py3-none-any.whl (53 kB)\n",
            "\u001b[2K     \u001b[90m━━━━━━━━━━━━━━━━━━━━━━━━━━━━━━━━━━━━━━━━\u001b[0m \u001b[32m53.6/53.6 KB\u001b[0m \u001b[31m3.6 MB/s\u001b[0m eta \u001b[36m0:00:00\u001b[0m\n",
            "\u001b[?25hCollecting hpack<4,>=3.0\n",
            "  Downloading hpack-3.0.0-py2.py3-none-any.whl (38 kB)\n",
            "Collecting hyperframe<6,>=5.2.0\n",
            "  Downloading hyperframe-5.2.0-py2.py3-none-any.whl (12 kB)\n",
            "Building wheels for collected packages: googletrans\n",
            "  Building wheel for googletrans (setup.py) ... \u001b[?25l\u001b[?25hdone\n",
            "  Created wheel for googletrans: filename=googletrans-4.0.0rc1-py3-none-any.whl size=17414 sha256=ad45397c122a1b2b1a93e2b2ee2ac524db19b6a4a52b5a2a0d4fdcd08a07add3\n",
            "  Stored in directory: /root/.cache/pip/wheels/a9/25/af/715361fa79594524c89c75d293def652045f3fdce6ca398712\n",
            "Successfully built googletrans\n",
            "Installing collected packages: rfc3986, hyperframe, hpack, h11, chardet, sniffio, hstspreload, h2, httpcore, httpx, googletrans\n",
            "  Attempting uninstall: chardet\n",
            "    Found existing installation: chardet 4.0.0\n",
            "    Uninstalling chardet-4.0.0:\n",
            "      Successfully uninstalled chardet-4.0.0\n",
            "Successfully installed chardet-3.0.4 googletrans-4.0.0rc1 h11-0.9.0 h2-3.2.0 hpack-3.0.0 hstspreload-2023.1.1 httpcore-0.9.1 httpx-0.13.3 hyperframe-5.2.0 rfc3986-1.5.0 sniffio-1.3.0\n"
          ]
        }
      ]
    },
    {
      "cell_type": "code",
      "source": [
        "import pandas as pd\n",
        "from googletrans import Translator\n",
        "\n",
        "# criar o dataframe\n",
        "data = {'texto': ['The quick brown fox jumps over the lazy dog',\n",
        "                  'O rato roeu a roupa do rei de Roma',\n",
        "                  'La casa de papel es una serie muy buena',\n",
        "                  'Je ne parle pas français',\n",
        "                  'Ich bin ein Berliner']}\n",
        "df = pd.DataFrame(data)\n",
        "\n",
        "# traduzir os textos para o inglês\n",
        "def translate_text(text):\n",
        "    translator = Translator()\n",
        "    result = translator.translate(text)\n",
        "    return result.text\n",
        "\n",
        "df['texto_en'] = df['texto'].apply(translate_text)\n",
        "\n",
        "# imprimir o dataframe com os textos originais e traduzidos\n",
        "print(df)"
      ],
      "metadata": {
        "colab": {
          "base_uri": "https://localhost:8080/"
        },
        "id": "wT09lVQn9ZX9",
        "outputId": "e1698cba-8d4f-45db-ecd2-3e7475f19d8d"
      },
      "execution_count": null,
      "outputs": [
        {
          "output_type": "stream",
          "name": "stdout",
          "text": [
            "                                         texto  \\\n",
            "0  The quick brown fox jumps over the lazy dog   \n",
            "1           O rato roeu a roupa do rei de Roma   \n",
            "2      La casa de papel es una serie muy buena   \n",
            "3                     Je ne parle pas français   \n",
            "4                         Ich bin ein Berliner   \n",
            "\n",
            "                                          texto_en  \n",
            "0      The quick brown fox jumps over the lazy dog  \n",
            "1  The mouse gathered the king of the king of Rome  \n",
            "2            The paper house is a very good series  \n",
            "3                            I do not speak French  \n",
            "4                                  I am a Berliner  \n"
          ]
        }
      ]
    },
    {
      "cell_type": "markdown",
      "source": [
        "Este é apenas um exemplo básico e é importante lembrar que a qualidade da tradução pode variar dependendo do idioma e da complexidade do texto. Além disso, a API do Google Translate é uma opção paga e pode haver limitações de uso. Outras bibliotecas de tradução também podem ser usadas."
      ],
      "metadata": {
        "id": "O_17htJ2WHAk"
      }
    },
    {
      "cell_type": "markdown",
      "source": [
        "Aqui está um exemplo que usa outra biblioteca chamada `mtranslate` para traduzir o texto:"
      ],
      "metadata": {
        "id": "OEkGTbcYVfOS"
      }
    },
    {
      "cell_type": "code",
      "source": [
        "!pip install mtranslate"
      ],
      "metadata": {
        "colab": {
          "base_uri": "https://localhost:8080/"
        },
        "id": "XWnUKXff9pgQ",
        "outputId": "d193e977-acbc-4439-defa-39f9582ec5f8"
      },
      "execution_count": null,
      "outputs": [
        {
          "output_type": "stream",
          "name": "stdout",
          "text": [
            "Looking in indexes: https://pypi.org/simple, https://us-python.pkg.dev/colab-wheels/public/simple/\n",
            "Collecting mtranslate\n",
            "  Downloading mtranslate-1.8.tar.gz (2.4 kB)\n",
            "  Preparing metadata (setup.py) ... \u001b[?25l\u001b[?25hdone\n",
            "Building wheels for collected packages: mtranslate\n",
            "  Building wheel for mtranslate (setup.py) ... \u001b[?25l\u001b[?25hdone\n",
            "  Created wheel for mtranslate: filename=mtranslate-1.8-py3-none-any.whl size=3695 sha256=74840c022cca3dfbd7db761327433f71010696c8a3af92dbe11d82a850b985d4\n",
            "  Stored in directory: /root/.cache/pip/wheels/99/49/c3/b1e6cb0d8b908238238a086ad2d0f30d4a7c692957e6cea74b\n",
            "Successfully built mtranslate\n",
            "Installing collected packages: mtranslate\n",
            "Successfully installed mtranslate-1.8\n"
          ]
        }
      ]
    },
    {
      "cell_type": "code",
      "source": [
        "import pandas as pd\n",
        "import mtranslate as mt\n",
        "\n",
        "# criar o dataframe\n",
        "data = {'texto': ['The quick brown fox jumps over the lazy dog',\n",
        "                  'O rato roeu a roupa do rei de Roma',\n",
        "                  'La casa de papel es una serie muy buena',\n",
        "                  'Je ne parle pas français',\n",
        "                  'Ich bin ein Berliner']}\n",
        "df = pd.DataFrame(data)\n",
        "\n",
        "# traduzir os textos para o inglês\n",
        "def translate_text(text):\n",
        "    return mt.translate(text, \"en\")\n",
        "\n",
        "df['texto_en'] = df['texto'].apply(translate_text)\n",
        "\n",
        "# imprimir o dataframe com os textos originais e traduzidos\n",
        "print(df)\n"
      ],
      "metadata": {
        "colab": {
          "base_uri": "https://localhost:8080/"
        },
        "id": "7iMYN8x29mfI",
        "outputId": "60daea64-ee00-4981-9292-bf3889795eaa"
      },
      "execution_count": null,
      "outputs": [
        {
          "output_type": "stream",
          "name": "stdout",
          "text": [
            "                                         texto  \\\n",
            "0  The quick brown fox jumps over the lazy dog   \n",
            "1           O rato roeu a roupa do rei de Roma   \n",
            "2      La casa de papel es una serie muy buena   \n",
            "3                     Je ne parle pas français   \n",
            "4                         Ich bin ein Berliner   \n",
            "\n",
            "                                         texto_en  \n",
            "0     The quick brown fox jumps over the lazy dog  \n",
            "1  The rat gnawed the clothes of the king of Rome  \n",
            "2           The paper house is a very good series  \n",
            "3                           I do not speak French  \n",
            "4                                 I am a Berliner  \n"
          ]
        }
      ]
    }
  ]
}