{
  "nbformat": 4,
  "nbformat_minor": 0,
  "metadata": {
    "colab": {
      "provenance": [],
      "authorship_tag": "ABX9TyO3oYz/IaHd6egQWqpyW36w",
      "include_colab_link": true
    },
    "kernelspec": {
      "name": "python3",
      "display_name": "Python 3"
    }
  },
  "cells": [
    {
      "cell_type": "markdown",
      "metadata": {
        "id": "view-in-github",
        "colab_type": "text"
      },
      "source": [
        "<a href=\"https://colab.research.google.com/github/adalves-ufabc/2023.Q1-PLN/blob/main/2023_Q1_PLN_Notebook_03.ipynb\" target=\"_parent\"><img src=\"https://colab.research.google.com/assets/colab-badge.svg\" alt=\"Open In Colab\"/></a>"
      ]
    },
    {
      "cell_type": "markdown",
      "metadata": {
        "id": "Y6QILOdpOjwv"
      },
      "source": [
        "# **Processamento de Linguagem Natural [2023.Q1]**\n",
        "Prof. Alexandre Donizeti Alves"
      ]
    },
    {
      "cell_type": "markdown",
      "metadata": {
        "id": "nmK05FgcOzL2"
      },
      "source": [
        "## **Tokens e Vocabulário**\n",
        "---\n",
        "\n"
      ]
    },
    {
      "cell_type": "markdown",
      "source": [
        "No Processamento de Linguagem Natural (PLN), um **token** refere-se a uma unidade básica de processamento de texto. Geralmente, um token é definido como uma sequência contígua de caracteres que forma uma unidade significativa em um texto. Essa unidade pode ser uma palavra, um número, um símbolo de pontuação ou até mesmo um caractere individual, dependendo do objetivo do processamento.\n",
        "\n",
        "Por exemplo, em uma frase como \"O gato preto saltou sobre o muro\", os tokens seriam \"O\", \"gato\", \"preto\", \"saltou\", \"sobre\", \"o\" e \"muro\". "
      ],
      "metadata": {
        "id": "YKeqSx2qOxPW"
      }
    },
    {
      "cell_type": "markdown",
      "source": [
        "O **vocabulário**, por sua vez, refere-se ao conjunto de todos os tokens únicos que ocorrem em um determinado corpus de texto. Em outras palavras, o vocabulário é o conjunto de todas as palavras distintas em um determinado conjunto de textos. Por exemplo, o vocabulário de um corpus pode incluir palavras como \"gato\", \"preto\", \"saltou\", \"sobre\" e \"muro\", entre outras. O vocabulário é frequentemente usado em PLN para construir modelos estatísticos de linguagem, como modelos de linguagem de n-gramas, que podem ser usados ​​para tarefas como predição de palavras e geração de texto."
      ],
      "metadata": {
        "id": "BG-0lrj1PjrQ"
      }
    },
    {
      "cell_type": "markdown",
      "source": [
        "Por exemplo, se tivermos um conjunto de documentos que contenha as seguintes frases:\n",
        "\n",
        "    O gato preto saltou sobre o muro.\n",
        "    O cão correu no parque.\n",
        "    O gato e o cão são animais de estimação populares.\n",
        "\n",
        "O vocabulário desses documentos seria composto pelas seguintes palavras:\n",
        "\n",
        "\"O\", \"gato\", \"preto\", \"saltou\", \"sobre\", \"o\", \"muro\", \"cão\", \"correu\", \"no\", \"parque\", \"e\", \"são\", \"animais\", \"de\", \"estimação\", \"populares\"."
      ],
      "metadata": {
        "id": "Xy6XIhyDPwq2"
      }
    },
    {
      "cell_type": "markdown",
      "source": [
        "Note que algumas palavras aparecem em mais de uma frase, como \"O\" e \"gato\", mas o vocabulário inclui apenas uma única ocorrência de cada palavra."
      ],
      "metadata": {
        "id": "GXgvu2DTQEWb"
      }
    },
    {
      "cell_type": "markdown",
      "source": [
        "Aqui está um exemplo de código em Python que usa a biblioteca `NLTK` para tokenizar uma frase em palavras:"
      ],
      "metadata": {
        "id": "lNRetsXkQl4z"
      }
    },
    {
      "cell_type": "code",
      "source": [
        "import nltk\n",
        "\n",
        "# Faz o download do tokenizer punkt da biblioteca nltk\n",
        "nltk.download('punkt')"
      ],
      "metadata": {
        "colab": {
          "base_uri": "https://localhost:8080/"
        },
        "id": "iQe36eIlQzWi",
        "outputId": "32f06899-f031-41cf-c882-a0a9c8b5745d"
      },
      "execution_count": null,
      "outputs": [
        {
          "output_type": "stream",
          "name": "stderr",
          "text": [
            "[nltk_data] Downloading package punkt to /root/nltk_data...\n",
            "[nltk_data]   Unzipping tokenizers/punkt.zip.\n"
          ]
        },
        {
          "output_type": "execute_result",
          "data": {
            "text/plain": [
              "True"
            ]
          },
          "metadata": {},
          "execution_count": 1
        }
      ]
    },
    {
      "cell_type": "markdown",
      "source": [
        "O código `nltk.download('punkt')` é usado para fazer o download do tokenizer `punkt` da biblioteca `NLTK` (Natural Language Toolkit).\n",
        "\n",
        "O tokenizer `punkt` é um algoritmo de tokenização pré-treinado para separar um texto em unidades menores, geralmente palavras ou sentenças, considerando regras específicas para diferentes idiomas."
      ],
      "metadata": {
        "id": "NPrTwgQIRGQc"
      }
    },
    {
      "cell_type": "code",
      "source": [
        "import nltk\n",
        "from nltk.tokenize import word_tokenize\n",
        "\n",
        "# Define a frase a ser tokenizada\n",
        "frase = \"Eu gosto de pizza de mussarela.\"\n",
        "\n",
        "# Usa a função word_tokenize() para tokenizar a frase\n",
        "tokens = word_tokenize(frase)\n",
        "\n",
        "# Imprime os tokens gerados\n",
        "print(tokens)"
      ],
      "metadata": {
        "colab": {
          "base_uri": "https://localhost:8080/"
        },
        "id": "USSErUfTQLCx",
        "outputId": "c64002fd-b6ba-4b2a-bfab-7460c4d9adfd"
      },
      "execution_count": null,
      "outputs": [
        {
          "output_type": "stream",
          "name": "stdout",
          "text": [
            "['Eu', 'gosto', 'de', 'pizza', 'de', 'mussarela', '.']\n"
          ]
        }
      ]
    },
    {
      "cell_type": "markdown",
      "source": [
        "Note que a função `word_tokenize` separou a frase em uma lista de tokens (palavras), considerando pontuações e espaços em branco."
      ],
      "metadata": {
        "id": "u5RLBlhKRa3-"
      }
    },
    {
      "cell_type": "markdown",
      "source": [
        "Aqui está um exemplo de código em Python que usa o conceito de vocabulário para contar a frequência de cada palavra em um corpus de texto:"
      ],
      "metadata": {
        "id": "4OfSfGFvRdIY"
      }
    },
    {
      "cell_type": "code",
      "source": [
        "# importa biblioteca para processamento de linguagem natural\n",
        "import nltk\n",
        "from nltk.tokenize import word_tokenize\n",
        "\n",
        "# define corpus de texto\n",
        "text_corpus = \"O gato preto saltou sobre o muro. O cão correu no parque. O gato e o cão são animais de estimação populares.\"\n",
        "\n",
        "# tokeniza o corpus em palavras\n",
        "tokens = word_tokenize(text_corpus)\n",
        "\n",
        "# cria vocabulário a partir dos tokens\n",
        "vocabulary = set(tokens)\n",
        "\n",
        "# cria dicionário para contar frequência de cada palavra\n",
        "word_frequency = {}\n",
        "for word in tokens:\n",
        "    if word not in word_frequency:\n",
        "        word_frequency[word] = 1\n",
        "    else:\n",
        "        word_frequency[word] += 1\n",
        "\n",
        "# imprime vocabulário e frequência de cada palavra\n",
        "print(\"Vocabulário:\", vocabulary)\n",
        "print(\"Frequência de cada palavra:\", word_frequency)"
      ],
      "metadata": {
        "colab": {
          "base_uri": "https://localhost:8080/"
        },
        "id": "kp4LqNEnRtFm",
        "outputId": "15dc492a-748e-4269-9319-96967484f88d"
      },
      "execution_count": null,
      "outputs": [
        {
          "output_type": "stream",
          "name": "stdout",
          "text": [
            "Vocabulário: {'gato', 'no', 'são', 'populares', 'muro', 'cão', 'sobre', 'de', 'animais', 'O', 'saltou', 'preto', 'o', 'correu', 'parque', 'e', 'estimação', '.'}\n",
            "Frequência de cada palavra: {'O': 3, 'gato': 2, 'preto': 1, 'saltou': 1, 'sobre': 1, 'o': 2, 'muro': 1, '.': 3, 'cão': 2, 'correu': 1, 'no': 1, 'parque': 1, 'e': 1, 'são': 1, 'animais': 1, 'de': 1, 'estimação': 1, 'populares': 1}\n"
          ]
        }
      ]
    },
    {
      "cell_type": "markdown",
      "source": [
        "Neste exemplo, primeiro importamos a biblioteca `NLTK` para processamento de linguagem natural e usamos a função `word_tokenize` para tokenizar o corpus em palavras. Em seguida, criamos o vocabulário a partir dos tokens usando o tipo de dado `set` do Python, que remove duplicatas. Depois, criamos um dicionário para contar a frequência de cada palavra no corpus, iterando sobre os tokens e atualizando a contagem para cada palavra encontrada. Por fim, imprimimos o vocabulário e a frequência de cada palavra."
      ],
      "metadata": {
        "id": "HOpGN8wFR9Mz"
      }
    },
    {
      "cell_type": "markdown",
      "source": [
        "Aqui está um exemplo que usa a biblioteca `NLTK` para tokenizar um texto em palavras e calcular a frequência de cada palavra no texto."
      ],
      "metadata": {
        "id": "XMn5y5gyS6sP"
      }
    },
    {
      "cell_type": "code",
      "source": [
        "import nltk\n",
        "from nltk.tokenize import word_tokenize\n",
        "from collections import Counter\n",
        "\n",
        "# Define o texto a ser processado\n",
        "texto = \"O Brasil é o país do futebol. O futebol é um esporte popular em todo o mundo.\"\n",
        "\n",
        "# Tokeniza o texto em palavras\n",
        "palavras = word_tokenize(texto)\n",
        "\n",
        "# Calcula a frequência de cada palavra no texto\n",
        "frequencia = Counter(palavras)\n",
        "\n",
        "# Imprime as 5 palavras mais frequentes no texto\n",
        "print(frequencia.most_common(5))"
      ],
      "metadata": {
        "colab": {
          "base_uri": "https://localhost:8080/"
        },
        "id": "QjChZit4SlPG",
        "outputId": "ed263e17-b147-435b-b23c-02869d70541b"
      },
      "execution_count": null,
      "outputs": [
        {
          "output_type": "stream",
          "name": "stdout",
          "text": [
            "[('O', 2), ('é', 2), ('o', 2), ('futebol', 2), ('.', 2)]\n"
          ]
        }
      ]
    },
    {
      "cell_type": "markdown",
      "source": [
        "Neste exemplo, importamos a biblioteca `NLTK` e as funções `word_tokenize` e `Counter`. Em seguida, definimos o texto a ser processado.\n",
        "\n",
        "Depois, usamos a função `word_tokenize` para tokenizar o texto em palavras.\n",
        "\n",
        "Finalmente, usamos a classe `Counter` para calcular a frequência de cada palavra no texto e a função `most_common()` para imprimir as 5 palavras mais frequentes no texto."
      ],
      "metadata": {
        "id": "2EAJUAOtTCQA"
      }
    },
    {
      "cell_type": "markdown",
      "source": [
        "Aqui está outro exemplo usando a biblioteca `NLTK`, que é similar ao exemplo anterior, mas utiliza a função `nltk.FreqDist()` para calcular as frequências de cada palavra:"
      ],
      "metadata": {
        "id": "fhtJ--GzUMjF"
      }
    },
    {
      "cell_type": "code",
      "source": [
        "import nltk\n",
        "from nltk.tokenize import word_tokenize\n",
        "from nltk.probability import FreqDist\n",
        "\n",
        "# Define o texto a ser processado\n",
        "texto = \"O Brasil é o país do futebol. O futebol é um esporte popular em todo o mundo.\"\n",
        "\n",
        "# Tokeniza o texto em palavras\n",
        "palavras = word_tokenize(texto, language='portuguese')\n",
        "\n",
        "# Calcula a frequência de cada palavra no texto\n",
        "frequencia = FreqDist(palavras)\n",
        "\n",
        "# Imprime as 5 palavras mais frequentes no texto\n",
        "print(frequencia.most_common(5))"
      ],
      "metadata": {
        "colab": {
          "base_uri": "https://localhost:8080/"
        },
        "id": "ZQOgroVwUHzi",
        "outputId": "0c83e7b8-782f-4aa6-d8b0-ff65beae612f"
      },
      "execution_count": null,
      "outputs": [
        {
          "output_type": "stream",
          "name": "stdout",
          "text": [
            "[('O', 2), ('é', 2), ('o', 2), ('futebol', 2), ('.', 2)]\n"
          ]
        }
      ]
    },
    {
      "cell_type": "markdown",
      "source": [
        "Neste exemplo, importamos as bibliotecas `NLTK` e `FreqDist` e usamos a função `word_tokenize()` da biblioteca `nltk.tokenize` para tokenizar o texto em palavras.\n",
        "\n",
        "Em seguida, usamos a função `FreqDist()` da biblioteca `nltk.probability` para calcular a frequência de cada palavra no texto e a função `most_common()` para imprimir as 5 palavras mais frequentes no texto."
      ],
      "metadata": {
        "id": "c7WuPMFNUcza"
      }
    },
    {
      "cell_type": "markdown",
      "source": [
        "### **NLTK**"
      ],
      "metadata": {
        "id": "tHnlSBeDUzbc"
      }
    },
    {
      "cell_type": "markdown",
      "source": [
        "A biblioteca *Natural Language Toolkit* (`NLTK`) é uma biblioteca de PLN em Python. Ela é amplamente utilizada em pesquisas acadêmicas e industriais em PLN, e também é uma das bibliotecas mais populares em PLN para a linguagem Python.\n",
        "\n",
        "A biblioteca `NLTK` contém um grande conjunto de ferramentas e recursos para processar e analisar textos em linguagem natural. Alguns dos recursos mais importantes da biblioteca são:\n",
        "\n",
        "   * Tokenização: a biblioteca fornece várias opções para tokenizar textos em palavras e sentenças. A tokenização é a primeira etapa do processamento de textos em PLN.\n",
        "\n",
        "   * Part-of-Speech (POS) tagging: a biblioteca possui algoritmos para marcar as palavras em um texto com sua classe gramatical, como substantivos, verbos, adjetivos etc.\n",
        "\n",
        "   * Análise sintática: a biblioteca pode ser usada para analisar a estrutura sintática de uma frase, como a identificação do sujeito, objeto, verbo principal etc.\n",
        "\n",
        "   * Análise de sentimentos: a biblioteca pode ser usada para analisar a polaridade de um texto, determinando se ele é positivo, negativo ou neutro.\n",
        "\n",
        "   * Dicionários e corpora: a biblioteca fornece acesso a vários dicionários e corpora de textos em linguagem natural, que podem ser usados para treinar modelos de PLN ou como referência em pesquisas."
      ],
      "metadata": {
        "id": "e7N9w27eWOca"
      }
    },
    {
      "cell_type": "markdown",
      "source": [
        "Uma das primeiras coisas a se testar é se o NLTK está disponível no Google Colab. Para isso, execute a seguinte instrução:"
      ],
      "metadata": {
        "id": "x_Y_AxstU0Hp"
      }
    },
    {
      "cell_type": "code",
      "source": [
        "import nltk"
      ],
      "metadata": {
        "id": "aEkOK0scVA2Q"
      },
      "execution_count": null,
      "outputs": []
    },
    {
      "cell_type": "markdown",
      "source": [
        "`NLTK` possui uma série de pacotes adicionais ou [corpora](#myfootnote1)  que podem ser facilmente adicionados à instalação básica da biblioteca.\n",
        "\n",
        "Para ter acesso ao download destes pacotes adicionais, basta utilizar o comando: \n",
        "\n",
        "`nltk.download()`\n",
        "\n",
        "<a name=\"myfootnote1\">Corpora</a>: plural de \"corpus\", que em latim significa um conjunto de uma obra. Termo que serve para designar um conjunto de textos, ou registros orais de uma língua para fins de análise."
      ],
      "metadata": {
        "id": "jzNlBBKLVHOO"
      }
    },
    {
      "cell_type": "code",
      "source": [
        "nltk.download()"
      ],
      "metadata": {
        "colab": {
          "base_uri": "https://localhost:8080/"
        },
        "id": "MhQHxzd0VTUi",
        "outputId": "3107ee7f-adbd-4cea-e881-b5e69bf177ba"
      },
      "execution_count": null,
      "outputs": [
        {
          "name": "stdout",
          "output_type": "stream",
          "text": [
            "NLTK Downloader\n",
            "---------------------------------------------------------------------------\n",
            "    d) Download   l) List    u) Update   c) Config   h) Help   q) Quit\n",
            "---------------------------------------------------------------------------\n",
            "Downloader> l\n",
            "\n",
            "Packages:\n",
            "  [ ] abc................. Australian Broadcasting Commission 2006\n",
            "  [ ] alpino.............. Alpino Dutch Treebank\n",
            "  [ ] averaged_perceptron_tagger Averaged Perceptron Tagger\n",
            "  [ ] averaged_perceptron_tagger_ru Averaged Perceptron Tagger (Russian)\n",
            "  [ ] basque_grammars..... Grammars for Basque\n",
            "  [ ] bcp47............... BCP-47 Language Tags\n",
            "  [ ] biocreative_ppi..... BioCreAtIvE (Critical Assessment of Information\n",
            "                           Extraction Systems in Biology)\n",
            "  [ ] bllip_wsj_no_aux.... BLLIP Parser: WSJ Model\n",
            "  [ ] book_grammars....... Grammars from NLTK Book\n",
            "  [ ] brown............... Brown Corpus\n",
            "  [ ] brown_tei........... Brown Corpus (TEI XML Version)\n",
            "  [ ] cess_cat............ CESS-CAT Treebank\n",
            "  [ ] cess_esp............ CESS-ESP Treebank\n",
            "  [ ] chat80.............. Chat-80 Data Files\n",
            "  [ ] city_database....... City Database\n",
            "  [ ] cmudict............. The Carnegie Mellon Pronouncing Dictionary (0.6)\n",
            "  [ ] comparative_sentences Comparative Sentence Dataset\n",
            "  [ ] comtrans............ ComTrans Corpus Sample\n",
            "  [ ] conll2000........... CONLL 2000 Chunking Corpus\n",
            "Hit Enter to continue: \n",
            "  [ ] conll2002........... CONLL 2002 Named Entity Recognition Corpus\n",
            "  [ ] conll2007........... Dependency Treebanks from CoNLL 2007 (Catalan\n",
            "                           and Basque Subset)\n",
            "  [ ] crubadan............ Crubadan Corpus\n",
            "  [ ] dependency_treebank. Dependency Parsed Treebank\n",
            "  [ ] dolch............... Dolch Word List\n",
            "  [ ] europarl_raw........ Sample European Parliament Proceedings Parallel\n",
            "                           Corpus\n",
            "  [ ] extended_omw........ Extended Open Multilingual WordNet\n",
            "  [ ] floresta............ Portuguese Treebank\n",
            "  [ ] framenet_v15........ FrameNet 1.5\n",
            "  [ ] framenet_v17........ FrameNet 1.7\n",
            "  [ ] gazetteers.......... Gazeteer Lists\n",
            "  [ ] genesis............. Genesis Corpus\n",
            "  [ ] gutenberg........... Project Gutenberg Selections\n",
            "  [ ] ieer................ NIST IE-ER DATA SAMPLE\n",
            "  [ ] inaugural........... C-Span Inaugural Address Corpus\n",
            "  [ ] indian.............. Indian Language POS-Tagged Corpus\n",
            "  [ ] jeita............... JEITA Public Morphologically Tagged Corpus (in\n",
            "                           ChaSen format)\n",
            "  [ ] kimmo............... PC-KIMMO Data Files\n",
            "Hit Enter to continue: q\n",
            "\n",
            "---------------------------------------------------------------------------\n",
            "    d) Download   l) List    u) Update   c) Config   h) Help   q) Quit\n",
            "---------------------------------------------------------------------------\n",
            "Downloader> q\n"
          ]
        },
        {
          "output_type": "execute_result",
          "data": {
            "text/plain": [
              "True"
            ]
          },
          "metadata": {},
          "execution_count": 6
        }
      ]
    },
    {
      "cell_type": "markdown",
      "source": [
        "Um dos corpora disponibilizados pela biblioteca `NLTK` é a obra completa de **Machado de Assis**. O nome desse pacote é \"machado\"."
      ],
      "metadata": {
        "id": "8xcWLpvvVsbO"
      }
    },
    {
      "cell_type": "code",
      "source": [
        "from nltk.corpus import machado"
      ],
      "metadata": {
        "id": "NFMTH6B8Vz2-"
      },
      "execution_count": null,
      "outputs": []
    },
    {
      "cell_type": "markdown",
      "source": [
        "Aparentemente está disponível, mas caso não estivesse, bastaria realizar o download."
      ],
      "metadata": {
        "id": "25cayLuOV4EJ"
      }
    },
    {
      "cell_type": "code",
      "source": [
        "nltk.download(\"machado\")"
      ],
      "metadata": {
        "colab": {
          "base_uri": "https://localhost:8080/"
        },
        "id": "KnKGePnOV5Zg",
        "outputId": "b1806029-f650-4430-a793-f18b020a16b0"
      },
      "execution_count": null,
      "outputs": [
        {
          "output_type": "stream",
          "name": "stderr",
          "text": [
            "[nltk_data] Downloading package machado to /root/nltk_data...\n"
          ]
        },
        {
          "output_type": "execute_result",
          "data": {
            "text/plain": [
              "True"
            ]
          },
          "metadata": {},
          "execution_count": 8
        }
      ]
    },
    {
      "cell_type": "markdown",
      "source": [
        "Agora é possível, por exemplo, obter algumas informações sobre o corpus:"
      ],
      "metadata": {
        "id": "ctnGkFroV_iJ"
      }
    },
    {
      "cell_type": "code",
      "source": [
        "print (\"Número de arquivos no corpus:\", len(machado.fileids()))\n",
        "print (\"Primeiros três textos do corpus\", machado.fileids()[0:3])\n",
        "print (\"Quantas palavras existem nesse corpus?\", len(machado.words()))"
      ],
      "metadata": {
        "colab": {
          "base_uri": "https://localhost:8080/"
        },
        "id": "l99xK4PTV_6k",
        "outputId": "edef4b96-df4b-45b4-b59a-bd6d35fbe3d9"
      },
      "execution_count": null,
      "outputs": [
        {
          "output_type": "stream",
          "name": "stdout",
          "text": [
            "Número de arquivos no corpus: 246\n",
            "Primeiros três textos do corpus ['contos/macn001.txt', 'contos/macn002.txt', 'contos/macn003.txt']\n",
            "Quantas palavras existem nesse corpus? 3121944\n"
          ]
        }
      ]
    },
    {
      "cell_type": "markdown",
      "source": [
        "**Outras bibliotecas**"
      ],
      "metadata": {
        "id": "i6a9JXvjX13V"
      }
    },
    {
      "cell_type": "markdown",
      "source": [
        "Aqui está um exemplo de como realizar a tokenização e criação do vocabulário usando a biblioteca `spaCy`:"
      ],
      "metadata": {
        "id": "4b5f5hAJX4Yf"
      }
    },
    {
      "cell_type": "code",
      "source": [
        "# as vezes é necessário reiniciar o ambiente\n",
        "!pip install -U spacy download pt_core_news_sm\n",
        "#!python -m spacy download pt_core_news_sm"
      ],
      "metadata": {
        "id": "Gff8lCvTZ7EG"
      },
      "execution_count": null,
      "outputs": []
    },
    {
      "cell_type": "markdown",
      "source": [
        "Aqui está um exemplo de como realizar a tokenização e criação do vocabulário usando a biblioteca `spaCy`:"
      ],
      "metadata": {
        "id": "9lEnWTZMaH1q"
      }
    },
    {
      "cell_type": "code",
      "source": [
        "import spacy\n",
        "\n",
        "# Carregando modelo do spaCy para a língua portuguesa\n",
        "nlp = spacy.load(\"pt_core_news_sm\")\n",
        "\n",
        "# Definindo texto para ser processado\n",
        "texto = \"O Brasil é o país do futebol. O futebol é um esporte popular em todo o mundo.\"\n",
        "\n",
        "# Criando um objeto Doc para o texto\n",
        "doc = nlp(texto)\n",
        "\n",
        "# Imprimindo tokens e seus índices\n",
        "for token in doc:\n",
        "    print(token.text, token.idx)\n",
        "\n",
        "# Criando o vocabulário a partir do objeto Doc\n",
        "vocabulario = set(token.text for token in doc)\n",
        "\n",
        "# Imprimindo o vocabulário\n",
        "print(vocabulario)"
      ],
      "metadata": {
        "colab": {
          "base_uri": "https://localhost:8080/"
        },
        "id": "9qwQ4yexYCJ9",
        "outputId": "35610648-f2fb-48cd-82b6-2f8a31348fd0"
      },
      "execution_count": null,
      "outputs": [
        {
          "output_type": "stream",
          "name": "stderr",
          "text": [
            "/usr/local/lib/python3.8/dist-packages/torch/cuda/__init__.py:497: UserWarning: Can't initialize NVML\n",
            "  warnings.warn(\"Can't initialize NVML\")\n"
          ]
        },
        {
          "output_type": "stream",
          "name": "stdout",
          "text": [
            "O 0\n",
            "Brasil 2\n",
            "é 9\n",
            "o 11\n",
            "país 13\n",
            "do 18\n",
            "futebol 21\n",
            ". 28\n",
            "O 30\n",
            "futebol 32\n",
            "é 40\n",
            "um 42\n",
            "esporte 45\n",
            "popular 53\n",
            "em 61\n",
            "todo 64\n",
            "o 69\n",
            "mundo 71\n",
            ". 76\n",
            "{'popular', 'é', 'Brasil', 'um', 'em', 'todo', 'o', 'do', 'mundo', 'país', 'esporte', '.', 'futebol', 'O'}\n"
          ]
        }
      ]
    },
    {
      "cell_type": "markdown",
      "source": [
        "Neste exemplo, utilizamos a biblioteca `spaCy` para realizar a tokenização e a criação do vocabulário a partir do objeto `Doc`.\n",
        "\n",
        "Em primeiro lugar, carregamos o modelo do `spaCy` para a língua portuguesa e definimos o texto que será processado. Em seguida, criamos um objeto `Doc` para o texto, utilizando o modelo carregado anteriormente.\n",
        "\n",
        "Depois, imprimimos os tokens e seus índices no texto. Para isso, percorremos todos os tokens do objeto `Doc` utilizando um laço de repetição for, e para cada token, imprimimos seu texto e seu índice.\n",
        "\n",
        "Por fim, criamos o vocabulário a partir do objeto `Doc`, utilizando um conjunto para armazenar os textos dos tokens únicos. Em seguida, imprimimos o vocabulário."
      ],
      "metadata": {
        "id": "sgRuWDt1aQBJ"
      }
    },
    {
      "cell_type": "markdown",
      "source": [
        "Aqui está um exemplo de tokenização e criação de vocabulário usando a biblioteca `TextBlob`:"
      ],
      "metadata": {
        "id": "acM8w0eaali7"
      }
    },
    {
      "cell_type": "code",
      "source": [
        "from textblob import TextBlob\n",
        "\n",
        "# Definindo o texto de exemplo\n",
        "texto = \"O cachorro correu no parque. O gato dormiu na cozinha.\"\n",
        "\n",
        "# Criando um objeto TextBlob\n",
        "blob = TextBlob(texto)\n",
        "\n",
        "# Tokenização\n",
        "tokens = blob.words\n",
        "\n",
        "# Construindo o vocabulário\n",
        "vocabulario = set(tokens)\n",
        "\n",
        "# Imprimindo o resultado\n",
        "print(\"Tokens:\", tokens)\n",
        "print(\"Vocabulário:\", vocabulario)"
      ],
      "metadata": {
        "colab": {
          "base_uri": "https://localhost:8080/"
        },
        "id": "cfOipFm0bfxf",
        "outputId": "df568649-e66c-454d-d69e-61353e416d06"
      },
      "execution_count": null,
      "outputs": [
        {
          "output_type": "stream",
          "name": "stdout",
          "text": [
            "Tokens: ['O', 'cachorro', 'correu', 'no', 'parque', 'O', 'gato', 'dormiu', 'na', 'cozinha']\n",
            "Vocabulário: {'no', 'gato', 'na', 'cachorro', 'O', 'dormiu', 'correu', 'parque', 'cozinha'}\n"
          ]
        }
      ]
    },
    {
      "cell_type": "markdown",
      "source": [
        "Aqui está um exemplo simples de tokenização de sentenças utilizando a biblioteca `TextBlob`:"
      ],
      "metadata": {
        "id": "XuSi1FDdbzFg"
      }
    },
    {
      "cell_type": "code",
      "source": [
        "from textblob import TextBlob\n",
        "\n",
        "# Definindo o texto de exemplo\n",
        "texto = \"O cachorro correu no parque. O gato dormiu na cozinha.\"\n",
        "\n",
        "# Criando um objeto TextBlob\n",
        "blob = TextBlob(texto)\n",
        "\n",
        "# Tokenização de sentenças\n",
        "sentencas = blob.sentences\n",
        "\n",
        "# Imprimindo o resultado\n",
        "print(\"Sentenças:\", sentencas)"
      ],
      "metadata": {
        "colab": {
          "base_uri": "https://localhost:8080/"
        },
        "id": "QHki7Zrzb0RP",
        "outputId": "369b00c8-c915-4c9e-b714-bbc624cfaf79"
      },
      "execution_count": null,
      "outputs": [
        {
          "output_type": "stream",
          "name": "stdout",
          "text": [
            "Sentenças: [Sentence(\"O cachorro correu no parque.\"), Sentence(\"O gato dormiu na cozinha.\")]\n"
          ]
        }
      ]
    },
    {
      "cell_type": "markdown",
      "source": [
        "Criamos um objeto `TextBlob` a partir do texto de exemplo e, em seguida, utilizamos a propriedade `sentences` do objeto blob para realizar a tokenização de sentenças, que nos retorna uma lista de objetos `Sentence`.\n",
        "\n",
        "Por fim, imprimimos as sentenças."
      ],
      "metadata": {
        "id": "Hq4VQO4ccG3y"
      }
    },
    {
      "cell_type": "markdown",
      "source": [
        "`Transformers` é um pacote do Python que fornece uma API para trabalhar com modelos de linguagem baseados em redes neurais, especialmente modelos de linguagem pré-treinados. Ele foi desenvolvido pela **Hugging Face** e é construído em cima da biblioteca `PyTorch`."
      ],
      "metadata": {
        "id": "5wLO5j0rNc5k"
      }
    },
    {
      "cell_type": "markdown",
      "source": [
        "**Hugging Face** é uma empresa de tecnologia sediada em Nova York que se concentra em tecnologias de PLN. Eles são mais conhecidos por seus pacotes `Transformers` e `Datasets`, que se tornaram muito populares na comunidade de PLN.\n",
        "\n",
        "O **Hugging Face** se concentra em criar ferramentas e tecnologias para tornar o PLN mais acessível a todos. Eles oferecem uma ampla gama de modelos de linguagem pré-treinados em várias línguas e especializados em várias tarefas, como tradução, resumo de texto, classificação de texto e geração de texto. Eles também desenvolveram uma API fácil de usar e amigável para desenvolvedores para trabalhar com esses modelos, incluindo o pacote `Transformers`."
      ],
      "metadata": {
        "id": "_quW2ZcNOPyN"
      }
    },
    {
      "cell_type": "markdown",
      "source": [
        "Aqui está um exemplo de como usar o `Transformers` para tokenizar um corpus de texto:"
      ],
      "metadata": {
        "id": "Nt_4GdF9H0Ci"
      }
    },
    {
      "cell_type": "code",
      "source": [
        "!pip install transformers"
      ],
      "metadata": {
        "id": "vfm8MXNtGXmS"
      },
      "execution_count": null,
      "outputs": []
    },
    {
      "cell_type": "code",
      "source": [
        "from transformers import BertTokenizer\n",
        "\n",
        "# Crie um novo tokenizador\n",
        "tokenizer = BertTokenizer.from_pretrained('bert-base-cased')\n",
        "\n",
        "# Treine o tokenizador em um corpus de texto\n",
        "corpus = [\"Esta é a primeira frase.\", \"Esta é a segunda frase.\"]\n",
        "tokenizer.add_tokens(corpus)\n",
        "\n",
        "# Codificar uma string de texto\n",
        "text = \"Esta é a terceira frase.\"\n",
        "encoded = tokenizer.encode(text, add_special_tokens=False)\n",
        "tokens = tokenizer.convert_ids_to_tokens(encoded)\n",
        "print(f\"Texto: {text}\")\n",
        "print(f\"Tokens: {tokens}\")\n",
        "\n",
        "# Decodificar a string de texto codificada\n",
        "decoded = tokenizer.decode(encoded)\n",
        "print(decoded)"
      ],
      "metadata": {
        "colab": {
          "base_uri": "https://localhost:8080/"
        },
        "id": "SdgYsF1HG_5G",
        "outputId": "2a5b8363-2044-4903-83f8-cedc2485305f"
      },
      "execution_count": null,
      "outputs": [
        {
          "output_type": "stream",
          "name": "stdout",
          "text": [
            "Texto: Esta é a terceira frase.\n",
            "Tokens: ['E', '##sta', 'é', 'a', 'te', '##rc', '##eira', 'f', '##rase', '.']\n",
            "Esta é a terceira frase.\n"
          ]
        }
      ]
    },
    {
      "cell_type": "markdown",
      "source": [
        "Neste exemplo, usamos o método \"`encode`\" com o argumento \"a`dd_special_tokens=False`\" para não incluir os tokens especiais adicionados pelo tokenizador (como [`CLS`] e [`SEP`]) na lista de tokens. Em seguida, usamos o método \"`convert_ids_to_tokens`\" para converter os IDs de token codificados de volta em sua forma textual. Finalmente, imprimimos a lista de tokens e a string de texto decodificada."
      ],
      "metadata": {
        "id": "nMfUF9MKMNLG"
      }
    },
    {
      "cell_type": "markdown",
      "source": [
        "O caractere \"#\" que você está vendo nos tokens representa o início de uma nova subpalavra (subword) que foi dividida a partir de uma palavra original durante a tokenização. Isso ocorre porque muitos modelos de linguagem, incluindo BERT, usam uma técnica chamada \"tokenização por subpalavra\" (*subword tokenization*) para lidar com palavras desconhecidas ou raras que não aparecem no vocabulário do modelo.\n",
        "\n",
        "A tokenização por subpalavra divide palavras em subpalavras menores (*subwords*) que são mais comuns no corpus de treinamento. Por exemplo, a palavra \"gatos\" pode ser dividida em duas subpalavras, \"gat\" e \"##os\", onde \"##\" indica que a subpalavra faz parte de uma palavra maior.\n",
        "\n",
        "Essa técnica permite que o modelo de linguagem lide com palavras que não estão presentes em seu vocabulário e capture melhor a semântica das palavras. No entanto, o resultado é que as subpalavras podem aparecer com o caractere \"#\" na frente para indicar que são partes de uma palavra maior."
      ],
      "metadata": {
        "id": "1wyl8E-GMUzZ"
      }
    },
    {
      "cell_type": "code",
      "source": [
        "from transformers import BertTokenizer\n",
        "\n",
        "# Crie um tokenizer do modelo BERT pré-treinado\n",
        "tokenizer = BertTokenizer.from_pretrained('bert-base-uncased')\n",
        "\n",
        "# Texto de exemplo para tokenizar\n",
        "texto = \"O cachorro correu feliz no parque.\"\n",
        "\n",
        "# Tokenize o texto\n",
        "tokens = tokenizer.tokenize(texto)\n",
        "\n",
        "# Saída: ['o', 'cach', '##orro', 'correu', 'feliz', 'no', 'parque', '.']\n",
        "print(\"Tokens:\", tokens)\n",
        "\n",
        "# Crie um vocabulário usando o tokenizer\n",
        "vocab = tokenizer.get_vocab()\n",
        "\n",
        "# Saída: {'[PAD]': 0, '[UNK]': 1, '[CLS]': 2, '[SEP]': 3, '[MASK]': 4, 'the': 5, 'a': 6, 'of': 7, 'and': 8, ...}\n",
        "print(\"Vocabulário:\", vocab)\n"
      ],
      "metadata": {
        "id": "my6spvoFJQ8Q"
      },
      "execution_count": null,
      "outputs": []
    },
    {
      "cell_type": "markdown",
      "source": [
        "Neste exemplo, estamos usando o modelo BERT pré-treinado `bert-base-uncased` da biblioteca `transformers` do `Hugging Face`. Primeiro, criamos um tokenizer a partir do modelo usando a classe `BertTokenizer`. Em seguida, usamos o método `tokenize` do tokenizer para tokenizar o texto de exemplo.\n",
        "\n",
        "Finalmente, criamos um vocabulário usando o método `get_vocab` do tokenizer. O vocabulário é um dicionário que mapeia cada token para um índice numérico. Observe que o vocabulário contém alguns tokens especiais, como [`PAD`], [`UNK`], [`CLS`], [`SEP`] e [`MASK`]. Esses tokens são usados pelo modelo BERT para tarefas como preenchimento de sequência, classificação de texto e modelagem de linguagem."
      ],
      "metadata": {
        "id": "Wm7_u98-LY2c"
      }
    },
    {
      "cell_type": "markdown",
      "source": [
        "Aqui está um exemplo mais interessante de como usar o tokenizador do pacote `transformers` para codificar um conjunto de frases e construir um vocabulário:"
      ],
      "metadata": {
        "id": "STv6WeuxOv9T"
      }
    },
    {
      "cell_type": "code",
      "source": [
        "from transformers import AutoTokenizer\n",
        "\n",
        "# Carregue um modelo pré-treinado com seu tokenizador\n",
        "model_name = \"bert-base-uncased\"\n",
        "tokenizer = AutoTokenizer.from_pretrained(model_name)\n",
        "\n",
        "# Defina um conjunto de frases de exemplo\n",
        "sentences = [\n",
        "    \"Esta é uma frase de exemplo.\",\n",
        "    \"Isso é um teste.\",\n",
        "    \"Você já experimentou isso antes?\",\n",
        "    \"Estou ansioso para o final de semana.\",\n",
        "    \"Não consigo parar de pensar nisso.\",\n",
        "    \"Que tempo maravilhoso hoje!\",\n",
        "]\n",
        "\n",
        "# Codifique todas as frases do conjunto\n",
        "encoded_sentences = [tokenizer.encode(sent, add_special_tokens=True) for sent in sentences]\n",
        "\n",
        "# Construa o vocabulário a partir do conjunto de frases codificadas\n",
        "vocab = set(tokenizer.convert_ids_to_tokens([tok for sent in encoded_sentences for tok in sent]))\n",
        "\n",
        "# Imprima os tokens de todas as frases do conjunto\n",
        "print(\"Tokens das frases:\")\n",
        "for i, sent in enumerate(sentences):\n",
        "    print(f\"Frases {i+1}: {tokenizer.tokenize(sent)}\")\n",
        "\n",
        "# Imprima o vocabulário\n",
        "print(\"Vocabulário:\")\n",
        "print(vocab)"
      ],
      "metadata": {
        "colab": {
          "base_uri": "https://localhost:8080/"
        },
        "id": "82EMIqoqNwZm",
        "outputId": "a26aa983-bd5c-49b7-98e4-bf5426a32a22"
      },
      "execution_count": null,
      "outputs": [
        {
          "output_type": "stream",
          "name": "stdout",
          "text": [
            "Tokens das frases:\n",
            "Frases 1: ['est', '##a', 'e', 'um', '##a', 'fra', '##se', 'de', 'ex', '##em', '##pl', '##o', '.']\n",
            "Frases 2: ['iss', '##o', 'e', 'um', 'test', '##e', '.']\n",
            "Frases 3: ['vo', '##ce', 'ja', 'experiment', '##ou', 'iss', '##o', 'ant', '##es', '?']\n",
            "Frases 4: ['est', '##ou', 'an', '##sio', '##so', 'para', 'o', 'final', 'de', 'se', '##mana', '.']\n",
            "Frases 5: ['na', '##o', 'con', '##si', '##go', 'para', '##r', 'de', 'pens', '##ar', 'ni', '##sso', '.']\n",
            "Frases 6: ['que', 'tempo', 'mara', '##vil', '##hos', '##o', 'ho', '##je', '!']\n",
            "Vocabulário:\n",
            "{'mara', 'test', 'na', '[SEP]', '##e', '##si', 'tempo', 'o', '##je', 'ja', 'an', 'ho', 'um', '##a', '##so', '##hos', '##es', '##se', '##mana', '##ar', '!', '?', 'para', '[CLS]', '##r', '##vil', 'experiment', 'ant', 'pens', '##sso', '##em', 'ex', '##sio', '##ce', 'de', 'vo', 'iss', 'est', 'ni', 'que', 'se', 'fra', 'final', '##ou', '##go', 'e', '##pl', '.', '##o', 'con'}\n"
          ]
        }
      ]
    },
    {
      "cell_type": "markdown",
      "source": [
        "Neste exemplo, estamos usando o tokenizador do modelo pré-treinado `bert-base-uncased`, que é carregado com o pacote `transformers`. O tokenizador já foi treinado em um corpus de texto durante o processo de pré-treinamento do modelo e, portanto, não precisa de treinamento adicional.\n",
        "\n",
        "Definimos um conjunto de frases de exemplo e usamos o método encode do tokenizador para codificar cada uma das frases. Em seguida, construímos o vocabulário a partir do conjunto de frases codificadas, usando o método `convert_ids_to_tokens` para converter os IDs de token de volta em seus valores de texto correspondentes e o conjunto para remover tokens duplicados.\n",
        "\n",
        "Por fim, imprimimos o vocabulário resultante. Observe que, neste exemplo, estamos mostrando o vocabulário como um conjunto de tokens únicos, em vez de seus IDs correspondentes ou suas contagens de frequência. Para fazer isso, basta converter os IDs de volta em seus valores de texto correspondentes, como mostrado neste exemplo."
      ],
      "metadata": {
        "id": "F3p9zIFUPCRT"
      }
    },
    {
      "cell_type": "markdown",
      "source": [
        "## **Stop words**\n",
        "---"
      ],
      "metadata": {
        "id": "bxllvVx4PVIe"
      }
    },
    {
      "cell_type": "markdown",
      "source": [
        "***Stop words*** (palavras de parada, em português) são palavras comuns em um idioma que geralmente são removidas do texto durante o processamento de linguagem natural, pois elas não fornecem muita informação sobre o significado do texto. Essas palavras geralmente incluem artigos, preposições, conjunções e outras palavras comuns, como \"o\", \"a\", \"de\", \"para\", \"com\", \"em\", entre outras."
      ],
      "metadata": {
        "id": "5Ah3yyY5PkP9"
      }
    },
    {
      "cell_type": "markdown",
      "source": [
        "Aqui está um exemplo de *stop words* em português usando a biblioteca `NLTK`:"
      ],
      "metadata": {
        "id": "0QJBb-PJP4qZ"
      }
    },
    {
      "cell_type": "code",
      "source": [
        "import nltk\n",
        "nltk.download('stopwords')"
      ],
      "metadata": {
        "colab": {
          "base_uri": "https://localhost:8080/"
        },
        "id": "cfZ-cgu3QIWS",
        "outputId": "e7cde045-c5e1-44ce-b70c-7cc088cff3f2"
      },
      "execution_count": 1,
      "outputs": [
        {
          "output_type": "stream",
          "name": "stderr",
          "text": [
            "[nltk_data] Downloading package stopwords to /root/nltk_data...\n",
            "[nltk_data]   Unzipping corpora/stopwords.zip.\n"
          ]
        },
        {
          "output_type": "execute_result",
          "data": {
            "text/plain": [
              "True"
            ]
          },
          "metadata": {},
          "execution_count": 1
        }
      ]
    },
    {
      "cell_type": "code",
      "source": [
        "from nltk.corpus import stopwords\n",
        "stopwords = stopwords.words('portuguese')\n",
        "\n",
        "print(len(stopwords))\n",
        "print(stopwords)"
      ],
      "metadata": {
        "colab": {
          "base_uri": "https://localhost:8080/"
        },
        "id": "6-xY6FNgQRsg",
        "outputId": "22df0311-29b3-45ff-c622-a0bdc9976183"
      },
      "execution_count": null,
      "outputs": [
        {
          "output_type": "stream",
          "name": "stdout",
          "text": [
            "207\n",
            "['a', 'à', 'ao', 'aos', 'aquela', 'aquelas', 'aquele', 'aqueles', 'aquilo', 'as', 'às', 'até', 'com', 'como', 'da', 'das', 'de', 'dela', 'delas', 'dele', 'deles', 'depois', 'do', 'dos', 'e', 'é', 'ela', 'elas', 'ele', 'eles', 'em', 'entre', 'era', 'eram', 'éramos', 'essa', 'essas', 'esse', 'esses', 'esta', 'está', 'estamos', 'estão', 'estar', 'estas', 'estava', 'estavam', 'estávamos', 'este', 'esteja', 'estejam', 'estejamos', 'estes', 'esteve', 'estive', 'estivemos', 'estiver', 'estivera', 'estiveram', 'estivéramos', 'estiverem', 'estivermos', 'estivesse', 'estivessem', 'estivéssemos', 'estou', 'eu', 'foi', 'fomos', 'for', 'fora', 'foram', 'fôramos', 'forem', 'formos', 'fosse', 'fossem', 'fôssemos', 'fui', 'há', 'haja', 'hajam', 'hajamos', 'hão', 'havemos', 'haver', 'hei', 'houve', 'houvemos', 'houver', 'houvera', 'houverá', 'houveram', 'houvéramos', 'houverão', 'houverei', 'houverem', 'houveremos', 'houveria', 'houveriam', 'houveríamos', 'houvermos', 'houvesse', 'houvessem', 'houvéssemos', 'isso', 'isto', 'já', 'lhe', 'lhes', 'mais', 'mas', 'me', 'mesmo', 'meu', 'meus', 'minha', 'minhas', 'muito', 'na', 'não', 'nas', 'nem', 'no', 'nos', 'nós', 'nossa', 'nossas', 'nosso', 'nossos', 'num', 'numa', 'o', 'os', 'ou', 'para', 'pela', 'pelas', 'pelo', 'pelos', 'por', 'qual', 'quando', 'que', 'quem', 'são', 'se', 'seja', 'sejam', 'sejamos', 'sem', 'ser', 'será', 'serão', 'serei', 'seremos', 'seria', 'seriam', 'seríamos', 'seu', 'seus', 'só', 'somos', 'sou', 'sua', 'suas', 'também', 'te', 'tem', 'tém', 'temos', 'tenha', 'tenham', 'tenhamos', 'tenho', 'terá', 'terão', 'terei', 'teremos', 'teria', 'teriam', 'teríamos', 'teu', 'teus', 'teve', 'tinha', 'tinham', 'tínhamos', 'tive', 'tivemos', 'tiver', 'tivera', 'tiveram', 'tivéramos', 'tiverem', 'tivermos', 'tivesse', 'tivessem', 'tivéssemos', 'tu', 'tua', 'tuas', 'um', 'uma', 'você', 'vocês', 'vos']\n"
          ]
        }
      ]
    },
    {
      "cell_type": "markdown",
      "source": [
        "Aqui está um exemplo de remoção de *stop words* usando a biblioteca `NLTK`:"
      ],
      "metadata": {
        "id": "SfZlY0-yRjID"
      }
    },
    {
      "cell_type": "code",
      "source": [
        "from nltk.corpus import stopwords\n",
        "\n",
        "stop_words = set(stopwords.words('portuguese'))\n",
        "\n",
        "text = \"Eu gosto muito de estudar e aprender novos conhecimentos.\"\n",
        "\n",
        "# Remove stop words e transforma para lowercase\n",
        "tokens = [token.lower() for token in text.split() if token.lower() not in stop_words]\n",
        "\n",
        "print(tokens)"
      ],
      "metadata": {
        "colab": {
          "base_uri": "https://localhost:8080/"
        },
        "id": "3uBbyrSLSHYu",
        "outputId": "a93d3673-db03-435b-ed46-c9f580e4f92e"
      },
      "execution_count": null,
      "outputs": [
        {
          "output_type": "stream",
          "name": "stdout",
          "text": [
            "['gosto', 'estudar', 'aprender', 'novos', 'conhecimentos.']\n"
          ]
        }
      ]
    },
    {
      "cell_type": "markdown",
      "source": [
        "Observe que as *stop words* \"Eu\", \"muito\", \"de\", \"e\" foram removidas da frase."
      ],
      "metadata": {
        "id": "awgCFw4aSc4R"
      }
    },
    {
      "cell_type": "markdown",
      "source": [
        "Aqui está uma exemplo de como adicionar novas *stop words*:"
      ],
      "metadata": {
        "id": "b1CZ003G9yBp"
      }
    },
    {
      "cell_type": "code",
      "source": [
        "from nltk.corpus import stopwords\n",
        "\n",
        "# Cria uma lista com as stop words em português\n",
        "stop_words = stopwords.words('portuguese')\n",
        "\n",
        "def remove_stopwords(text, stop_words):\n",
        "    # Divide o texto em palavras\n",
        "    words = text.split()\n",
        "\n",
        "    # Remove as stop words\n",
        "    words_clean = [word for word in words if word.lower() not in stop_words]\n",
        "\n",
        "    # Junta as palavras novamente em uma string\n",
        "    text_clean = ' '.join(words_clean)\n",
        "\n",
        "    return text_clean\n",
        "\n",
        "# Exemplo de uso\n",
        "text = \"O rato roeu a roupa do rei de Roma\"\n",
        "print(\"Texto original:\", text)\n",
        "\n",
        "text_clean = remove_stopwords(text, stop_words)\n",
        "print(\"Texto sem stop words:\", text_clean)\n",
        "\n",
        "# Adiciona novas stop words\n",
        "new_stop_words = [\"rei\", \"de\"]\n",
        "stop_words.extend(new_stop_words)\n",
        "\n",
        "text_clean = remove_stopwords(text, stop_words)\n",
        "print(\"Texto sem stop words e novas stop words:\", text_clean)\n",
        "\n",
        "# Remove as novas stop words\n",
        "stop_words = [word for word in stop_words if word not in new_stop_words]\n",
        "\n",
        "text_clean = remove_stopwords(text, stop_words)\n",
        "print(\"Texto sem as novas stop words:\", text_clean)"
      ],
      "metadata": {
        "colab": {
          "base_uri": "https://localhost:8080/"
        },
        "id": "-AKzvABQ8Qgb",
        "outputId": "1a30dd95-d81c-4057-85f6-c6a93f452007"
      },
      "execution_count": 2,
      "outputs": [
        {
          "output_type": "stream",
          "name": "stdout",
          "text": [
            "Texto original: O rato roeu a roupa do rei de Roma\n",
            "Texto sem stop words: rato roeu roupa rei Roma\n",
            "Texto sem stop words e novas stop words: rato roeu roupa Roma\n",
            "Texto sem as novas stop words: rato roeu roupa rei de Roma\n"
          ]
        }
      ]
    },
    {
      "cell_type": "markdown",
      "source": [
        "O código acima começa importando a biblioteca `NLTK` e baixando a lista de *stop words* em português. Em seguida, definimos uma função `remove_stopwords` que recebe um texto e uma lista de *stop words* como entrada. A função divide o texto em palavras, remove as *stop words* da lista e junta as palavras novamente em uma string.\n",
        "\n",
        "Depois, definimos um exemplo de texto e usamos a função `remove_stopwords` para removê-las. Em seguida, adicionamos algumas novas *stop words* à lista de *stop words* e usamos a função novamente para remover as *stop words* originais e as novas. Por fim, removemos as novas *stop words* da lista e usamos a função novamente para remover apenas as *stop words* originais.\n",
        "\n",
        "Note que, ao adicionar novas *stop words*, estamos atualizando a lista original de *stop words* em vez de criar uma nova lista. Além disso, para remover as novas *stop words* da lista, usamos uma lista por compreensão para criar uma nova lista sem as palavras que queremos remover."
      ],
      "metadata": {
        "id": "_cDi5aHN-F7K"
      }
    },
    {
      "cell_type": "markdown",
      "source": [
        "Agora vamos usar a biblioteca `spaCy` para remover *stop words* em português e exibir as palavras restantes em uma nuvem de palavras."
      ],
      "metadata": {
        "id": "cNUGhHZcTXSl"
      }
    },
    {
      "cell_type": "markdown",
      "source": [
        "Para isso, primeiro precisamos instalar o pacote `spaCy` e o modelo em português. Você pode fazer isso executando os seguintes comandos em seu terminal ou prompt de comando:"
      ],
      "metadata": {
        "id": "uJ0IzkrBTd_4"
      }
    },
    {
      "cell_type": "code",
      "source": [
        "!pip install spacy\n",
        "!python -m spacy download pt_core_news_sm"
      ],
      "metadata": {
        "id": "PgCvsQZaSf_i"
      },
      "execution_count": null,
      "outputs": []
    },
    {
      "cell_type": "markdown",
      "source": [
        "Depois disso, podemos usar o seguinte código Python:"
      ],
      "metadata": {
        "id": "DKh9lcfNTo-I"
      }
    },
    {
      "cell_type": "code",
      "source": [
        "import spacy\n",
        "from spacy.lang.pt.stop_words import STOP_WORDS\n",
        "from wordcloud import WordCloud\n",
        "import matplotlib.pyplot as plt\n",
        "\n",
        "# Exemplo de texto para remoção de stop words\n",
        "texto = \"\"\"Em um lugar de destaque na Serra da Mantiqueira, cercado por montanhas e belas paisagens, \n",
        "o Hotel Parador Casa da Montanha oferece conforto, tranquilidade e lazer para toda a família. \n",
        "Com arquitetura inspirada nas montanhas, o hotel oferece suítes aconchegantes, restaurante com \n",
        "gastronomia de qualidade e diversas opções de lazer para crianças e adultos.\"\"\"\n",
        "\n",
        "# Carrega o modelo em português\n",
        "nlp = spacy.load(\"pt_core_news_sm\")\n",
        "\n",
        "# Remove as stop words do texto\n",
        "tokens = nlp(texto)\n",
        "resultado = [token.text for token in tokens if not token.is_stop]\n",
        "\n",
        "# Cria a nuvem de palavras\n",
        "nuvem_palavras = WordCloud(width=800, height=500, \n",
        "                           background_color='white',\n",
        "                           random_state=42).generate(\" \".join(resultado))\n",
        "\n",
        "# Exibe a nuvem de palavras\n",
        "plt.figure(figsize=(10,8))\n",
        "plt.imshow(nuvem_palavras)\n",
        "plt.axis(\"off\")\n",
        "plt.show()"
      ],
      "metadata": {
        "colab": {
          "base_uri": "https://localhost:8080/",
          "height": 380
        },
        "id": "tNkstcp0THmA",
        "outputId": "12fadfa1-9cfe-43eb-8b15-5ec7f5c2b5e5"
      },
      "execution_count": null,
      "outputs": [
        {
          "output_type": "display_data",
          "data": {
            "text/plain": [
              "<Figure size 720x576 with 1 Axes>"
            ],
            "image/png": "[encoded data removed]"
          },
          "metadata": {
            "needs_background": "light"
          }
        }
      ]
    },
    {
      "cell_type": "markdown",
      "source": [
        "Aqui está outro exemplo em que usaremos a biblioteca `NLTK` para remover `stop words` de um conjunto de tweets em português e criar um gráfico de barras com as palavras mais frequentes:"
      ],
      "metadata": {
        "id": "PkofMAOaURUL"
      }
    },
    {
      "cell_type": "code",
      "source": [
        "import nltk\n",
        "nltk.download('punkt')"
      ],
      "metadata": {
        "colab": {
          "base_uri": "https://localhost:8080/"
        },
        "id": "FhJWSmI4UGa_",
        "outputId": "3c145a1e-37b4-4428-b3b3-402a98744e26"
      },
      "execution_count": null,
      "outputs": [
        {
          "output_type": "stream",
          "name": "stderr",
          "text": [
            "[nltk_data] Downloading package punkt to /root/nltk_data...\n",
            "[nltk_data]   Package punkt is already up-to-date!\n"
          ]
        },
        {
          "output_type": "execute_result",
          "data": {
            "text/plain": [
              "True"
            ]
          },
          "metadata": {},
          "execution_count": 14
        }
      ]
    },
    {
      "cell_type": "code",
      "source": [
        "import nltk\n",
        "from nltk.corpus import stopwords\n",
        "from collections import Counter\n",
        "import matplotlib.pyplot as plt\n",
        "\n",
        "# Exemplo de conjunto de tweets\n",
        "tweets = [\n",
        "    \"Acabei de assistir um filme incrível no cinema!\",\n",
        "    \"Hoje é um dia muito especial para mim. Estou muito feliz!\",\n",
        "    \"Preciso estudar para a prova de matemática que será amanhã.\",\n",
        "    \"Comprei um livro novo que estou ansioso para ler.\",\n",
        "    \"Estou cansado de ficar em casa o tempo todo. Preciso sair um pouco.\"\n",
        "]\n",
        "\n",
        "# Carrega as stop words em português\n",
        "stop_words = set(stopwords.words('portuguese'))\n",
        "\n",
        "# Tokeniza e remove as stop words dos tweets\n",
        "palavras = []\n",
        "for tweet in tweets:\n",
        "    tokens = nltk.word_tokenize(tweet.lower())\n",
        "    palavras.extend([token for token in tokens if not token in stop_words])\n",
        "\n",
        "# Conta a frequência das palavras\n",
        "frequencia = Counter(palavras)\n",
        "\n",
        "# Seleciona as 10 palavras mais frequentes\n",
        "mais_frequentes = frequencia.most_common(10)\n",
        "\n",
        "# Cria um gráfico de barras com as palavras mais frequentes\n",
        "plt.figure(figsize=(10, 5))\n",
        "plt.bar([palavra[0] for palavra in mais_frequentes], [palavra[1] for palavra in mais_frequentes], \n",
        "        width=0.4)\n",
        "plt.title(\"Palavras mais frequentes nos tweets\")\n",
        "plt.xlabel(\"Palavras\")\n",
        "plt.ylabel(\"Frequência\")\n",
        "plt.show()"
      ],
      "metadata": {
        "colab": {
          "base_uri": "https://localhost:8080/",
          "height": 350
        },
        "id": "M1cCbxf9T_PW",
        "outputId": "aa1085ce-2b65-4465-cafe-8e46dcddcd92"
      },
      "execution_count": null,
      "outputs": [
        {
          "output_type": "display_data",
          "data": {
            "text/plain": [
              "<Figure size 720x360 with 1 Axes>"
            ],
            "image/png": "[encoded data removed]"
          },
          "metadata": {
            "needs_background": "light"
          }
        }
      ]
    },
    {
      "cell_type": "markdown",
      "source": [
        "Aqui está um exemplo de como remover *stop words* em inglês usando a biblioteca `NLTK` em Python."
      ],
      "metadata": {
        "id": "_8i72AuuWXrV"
      }
    },
    {
      "cell_type": "code",
      "source": [
        "from nltk.corpus import stopwords\n",
        "\n",
        "text = \"The quick brown fox jumps over the lazy dog\"\n",
        "words = text.lower().split()\n",
        "\n",
        "stop_words = set(stopwords.words('english'))\n",
        "words_without_stopwords = [word for word in words if word not in stop_words]\n",
        "\n",
        "print(words_without_stopwords)\n"
      ],
      "metadata": {
        "colab": {
          "base_uri": "https://localhost:8080/"
        },
        "id": "VhTlq23VWF1-",
        "outputId": "e9ca98ec-b138-43d4-fcbc-e35d464782a3"
      },
      "execution_count": null,
      "outputs": [
        {
          "output_type": "stream",
          "name": "stdout",
          "text": [
            "['quick', 'brown', 'fox', 'jumps', 'lazy', 'dog']\n"
          ]
        }
      ]
    },
    {
      "cell_type": "markdown",
      "source": [
        "Observe que as `stop words`, como \"the\", \"over\" e \"a\", foram removidas da lista, mantendo apenas as palavras-chave que fornecem informações relevantes sobre o texto."
      ],
      "metadata": {
        "id": "svy-V58DWQdc"
      }
    },
    {
      "cell_type": "markdown",
      "source": [
        "Aqui está um exemplo de como remover as *stop words* em português e em inglês usando o `NLTK`:"
      ],
      "metadata": {
        "id": "PmzVC-27-qGS"
      }
    },
    {
      "cell_type": "code",
      "source": [
        "import nltk\n",
        "from nltk.corpus import stopwords\n",
        "\n",
        "# Define as stop words em português\n",
        "stopwords_pt = set(stopwords.words('portuguese'))\n",
        "\n",
        "# Define as stop words em inglês\n",
        "stopwords_en = set(stopwords.words('english'))\n",
        "\n",
        "# Exemplo de texto em dois idiomas\n",
        "texto = \"\"\"The hotel room was great, but the breakfast could have been better.\n",
        "           O quarto do hotel era ótimo, mas o café da manhã poderia ter sido melhor.\"\"\"\n",
        "\n",
        "# Remove as stop words correspondentes aos dois idiomas\n",
        "palavras = [palavra for palavra in texto.split() if palavra.lower() not in stopwords_pt and palavra.lower() not in stopwords_en]\n",
        "\n",
        "# Exibe as palavras sem as stop words\n",
        "print(\"Texto sem stop words:\", \" \".join(palavras))"
      ],
      "metadata": {
        "colab": {
          "base_uri": "https://localhost:8080/"
        },
        "id": "ST0mT4jQAP9g",
        "outputId": "111f095c-1746-4df3-8966-412941a2ebe5"
      },
      "execution_count": 9,
      "outputs": [
        {
          "output_type": "stream",
          "name": "stdout",
          "text": [
            "Texto sem stop words: hotel room great, breakfast could better. quarto hotel ótimo, café manhã poderia ter sido melhor.\n"
          ]
        }
      ]
    },
    {
      "cell_type": "markdown",
      "source": [
        "Podemos utilizar a biblioteca `langdetect` para identificar o idioma do texto e em seguida remover as *stop words* correspondentes ao idioma. Aqui está um exemplo de como fazer isso:"
      ],
      "metadata": {
        "id": "uJnZQB0W_1t5"
      }
    },
    {
      "cell_type": "code",
      "source": [
        "!pip install langdetect"
      ],
      "metadata": {
        "colab": {
          "base_uri": "https://localhost:8080/"
        },
        "id": "0R8KMRir--xK",
        "outputId": "8b919853-8a78-43b0-d09b-a386026eb6a7"
      },
      "execution_count": 4,
      "outputs": [
        {
          "output_type": "stream",
          "name": "stdout",
          "text": [
            "Looking in indexes: https://pypi.org/simple, https://us-python.pkg.dev/colab-wheels/public/simple/\n",
            "Collecting langdetect\n",
            "  Downloading langdetect-1.0.9.tar.gz (981 kB)\n",
            "\u001b[2K     \u001b[90m━━━━━━━━━━━━━━━━━━━━━━━━━━━━━━━━━━━━━━\u001b[0m \u001b[32m981.5/981.5 KB\u001b[0m \u001b[31m19.5 MB/s\u001b[0m eta \u001b[36m0:00:00\u001b[0m\n",
            "\u001b[?25h  Preparing metadata (setup.py) ... \u001b[?25l\u001b[?25hdone\n",
            "Requirement already satisfied: six in /usr/local/lib/python3.8/dist-packages (from langdetect) (1.15.0)\n",
            "Building wheels for collected packages: langdetect\n",
            "  Building wheel for langdetect (setup.py) ... \u001b[?25l\u001b[?25hdone\n",
            "  Created wheel for langdetect: filename=langdetect-1.0.9-py3-none-any.whl size=993242 sha256=dd84871e516621f4d88b761ec61cdd39b46577c6f7a933a207d05efdba6ae054\n",
            "  Stored in directory: /root/.cache/pip/wheels/13/c7/b0/79f66658626032e78fc1a83103690ef6797d551cb22e56e734\n",
            "Successfully built langdetect\n",
            "Installing collected packages: langdetect\n",
            "Successfully installed langdetect-1.0.9\n"
          ]
        }
      ]
    },
    {
      "cell_type": "code",
      "source": [
        "import nltk\n",
        "from nltk.corpus import stopwords\n",
        "from langdetect import detect\n",
        "\n",
        "# Define as stop words em português\n",
        "stopwords_pt = set(stopwords.words('portuguese'))\n",
        "\n",
        "# Define as stop words em inglês\n",
        "stopwords_en = set(stopwords.words('english'))\n",
        "\n",
        "# Exemplo de texto em dois idiomas\n",
        "texto = \"\"\"The hotel room was great, but the breakfast could have been better. \n",
        "           O quarto do hotel era ótimo, mas o café da manhã poderia ter sido melhor.\"\"\"\n",
        "\n",
        "# Identifica o idioma do texto\n",
        "idioma = detect(texto)\n",
        "\n",
        "# Remove as stop words correspondentes ao idioma\n",
        "if idioma == 'pt':\n",
        "    palavras = [palavra for palavra in texto.split() if palavra.lower() not in stopwords_pt]\n",
        "elif idioma == 'en':\n",
        "    palavras = [word for word in texto.split() if word.lower() not in stopwords_en]\n",
        "else:\n",
        "    print(\"Idioma não suportado.\")\n",
        "\n",
        "# Exibe as palavras sem as stop words\n",
        "print(\"Texto sem stop words:\", \" \".join(palavras))\n"
      ],
      "metadata": {
        "colab": {
          "base_uri": "https://localhost:8080/"
        },
        "id": "lDDrQt0Z-s7m",
        "outputId": "91ab117f-3a6a-43ab-fdbe-5d9cef534aee"
      },
      "execution_count": 6,
      "outputs": [
        {
          "output_type": "stream",
          "name": "stdout",
          "text": [
            "Texto sem stop words: hotel room great, breakfast could better. quarto hotel era ótimo, mas café da manhã poderia ter sido melhor.\n"
          ]
        }
      ]
    },
    {
      "cell_type": "markdown",
      "source": [
        "Nesse exemplo, definimos as listas de *stop words* em português e em inglês. Em seguida, definimos um exemplo de texto que contém palavras em ambos os idiomas. Utilizamos a função `detect` do `langdetect` para identificar o idioma do texto. A partir do resultado da identificação, removemos as *stop words *correspondentes ao idioma. Por fim, exibimos o texto sem as *stop words* correspondentes ao idioma identificado.\n",
        "\n",
        "Note que esse exemplo só considera textos em português e inglês. Caso o texto esteja em outro idioma, a mensagem \"Idioma não suportado.\" será exibida."
      ],
      "metadata": {
        "id": "NZtx6QnQ_X2Z"
      }
    },
    {
      "cell_type": "markdown",
      "source": [
        "## **Correção Ortogográfica**\n",
        "---"
      ],
      "metadata": {
        "id": "cXNV4odoXftj"
      }
    },
    {
      "cell_type": "markdown",
      "source": [
        "A correção ortográfica em PLN é importante por vários motivos:\n",
        "\n",
        "  * Melhorar a precisão da análise de texto: a correção ortográfica ajuda a evitar erros de interpretação causados por palavras escritas incorretamente. Isso é especialmente importante para tarefas de análise de texto, como reconhecimento de entidades nomeadas, análise de sentimento e classificação de texto.\n",
        "\n",
        "   * Aumentar a eficiência da análise: a correção ortográfica permite que os algoritmos de PLN processem o texto com mais eficiência, reduzindo o número de variações de palavras que precisam ser consideradas.\n",
        "\n",
        "   * Melhorar a experiência do usuário: corrigir erros de ortografia em texto pode melhorar a compreensão do leitor e a credibilidade do autor. Isso é especialmente importante em aplicações de PLN voltadas para usuários finais, como assistentes virtuais e aplicativos de mensagens.\n",
        "\n",
        "   * Padronizar os dados de texto: a correção ortográfica pode ajudar a padronizar a ortografia de palavras em um conjunto de dados de texto, tornando-o mais fácil de analisar e comparar.\n",
        "\n",
        "Portanto, a correção ortográfica é uma etapa importante no pré-processamento de texto em PLN, ajudando a melhorar a precisão da análise de texto, aumentar a eficiência de processamento, melhorar a experiência do usuário e padronizar os dados de texto."
      ],
      "metadata": {
        "id": "p4hlX1pbYs-K"
      }
    },
    {
      "cell_type": "markdown",
      "source": [
        "Aqui está um exemplo de correção ortográfica em português usando a biblioteca `pyspellchecker` em Python:"
      ],
      "metadata": {
        "id": "pRPrtVYUXupO"
      }
    },
    {
      "cell_type": "code",
      "source": [
        "!pip install pyspellchecker"
      ],
      "metadata": {
        "colab": {
          "base_uri": "https://localhost:8080/"
        },
        "id": "GT4dPlLhXDox",
        "outputId": "774d853f-3497-4e7b-8477-e09859ab0c66"
      },
      "execution_count": null,
      "outputs": [
        {
          "output_type": "stream",
          "name": "stdout",
          "text": [
            "Looking in indexes: https://pypi.org/simple, https://us-python.pkg.dev/colab-wheels/public/simple/\n",
            "Collecting pyspellchecker\n",
            "  Downloading pyspellchecker-0.7.1-py3-none-any.whl (2.5 MB)\n",
            "\u001b[2K     \u001b[90m━━━━━━━━━━━━━━━━━━━━━━━━━━━━━━━━━━━━━━━━\u001b[0m \u001b[32m2.5/2.5 MB\u001b[0m \u001b[31m24.6 MB/s\u001b[0m eta \u001b[36m0:00:00\u001b[0m\n",
            "\u001b[?25hInstalling collected packages: pyspellchecker\n",
            "Successfully installed pyspellchecker-0.7.1\n"
          ]
        }
      ]
    },
    {
      "cell_type": "code",
      "source": [
        "from spellchecker import SpellChecker\n",
        "\n",
        "texto = \"Eu gosto de caminhar pela praja\"\n",
        "\n",
        "corretor = SpellChecker(language='pt')\n",
        "palavras = texto.split()\n",
        "\n",
        "palavras_corrigidas = []\n",
        "for palavra in palavras:\n",
        "    palavra_corrigida = corretor.correction(palavra)\n",
        "    palavras_corrigidas.append(palavra_corrigida)\n",
        "\n",
        "texto_corrigido = \" \".join(palavras_corrigidas)\n",
        "\n",
        "print(texto_corrigido)"
      ],
      "metadata": {
        "colab": {
          "base_uri": "https://localhost:8080/"
        },
        "id": "HS3hc3AmXAop",
        "outputId": "b1f94561-2500-440d-f854-a5214bca6cd1"
      },
      "execution_count": null,
      "outputs": [
        {
          "output_type": "stream",
          "name": "stdout",
          "text": [
            "Eu gosto de caminhar pela praia\n"
          ]
        }
      ]
    },
    {
      "cell_type": "markdown",
      "source": [
        "Nesse exemplo, definimos uma frase com uma palavra escrita incorretamente (\"praja\" em vez de \"praia\"). Em seguida, usamos a biblioteca `pyspellchecker` para corrigir a ortografia da palavra.\n",
        "\n",
        "Para isso, criamos um objeto `SpellChecker` e o usamos para verificar a ortografia de cada palavra na frase usando o método `correction()`. Em seguida, adicionamos as palavras corrigidas a uma nova lista e, por fim, unimos as palavras em uma nova frase corrigida usando a função `join`."
      ],
      "metadata": {
        "id": "noOiTUXNX55O"
      }
    },
    {
      "cell_type": "markdown",
      "source": [
        "Aqui está um exemplo simples de correção ortográfica em Python usando a biblioteca `autocorrect`:"
      ],
      "metadata": {
        "id": "vDoo3YsDZ156"
      }
    },
    {
      "cell_type": "code",
      "source": [
        "# instala a biblioteca autocorrect\n",
        "!pip install autocorrect  "
      ],
      "metadata": {
        "colab": {
          "base_uri": "https://localhost:8080/"
        },
        "id": "efTvA0gtZR4D",
        "outputId": "88c7012b-5e3d-4e2e-8430-5ef1dcb4e054"
      },
      "execution_count": null,
      "outputs": [
        {
          "output_type": "stream",
          "name": "stdout",
          "text": [
            "Looking in indexes: https://pypi.org/simple, https://us-python.pkg.dev/colab-wheels/public/simple/\n",
            "Collecting autocorrect\n",
            "  Downloading autocorrect-2.6.1.tar.gz (622 kB)\n",
            "\u001b[2K     \u001b[90m━━━━━━━━━━━━━━━━━━━━━━━━━━━━━━━━━━━━━━\u001b[0m \u001b[32m622.8/622.8 KB\u001b[0m \u001b[31m10.5 MB/s\u001b[0m eta \u001b[36m0:00:00\u001b[0m\n",
            "\u001b[?25h  Preparing metadata (setup.py) ... \u001b[?25l\u001b[?25hdone\n",
            "Building wheels for collected packages: autocorrect\n",
            "  Building wheel for autocorrect (setup.py) ... \u001b[?25l\u001b[?25hdone\n",
            "  Created wheel for autocorrect: filename=autocorrect-2.6.1-py3-none-any.whl size=622381 sha256=5f4095aafc5216db8bd8447869b1aec4dba45ac55d1fefeeb4c7b9d4f5df46e8\n",
            "  Stored in directory: /root/.cache/pip/wheels/72/b8/3b/a90246d13090e85394a8a44b78c8abf577c0766f29d6543c75\n",
            "Successfully built autocorrect\n",
            "Installing collected packages: autocorrect\n",
            "Successfully installed autocorrect-2.6.1\n"
          ]
        }
      ]
    },
    {
      "cell_type": "code",
      "source": [
        "from autocorrect import Speller\n",
        "\n",
        "# Cria um objeto Speller com o idioma \"Portuguese\"\n",
        "corrector = Speller(lang='pt')\n",
        "\n",
        "# Texto com um erro de ortografia\n",
        "texto = \"Este é um exempel de frasi com errro de ortografia.\"\n",
        "\n",
        "# Corrige o erro de ortografia no texto\n",
        "texto_corrigido = corrector(texto)\n",
        "\n",
        "# Exibe o texto corrigido na tela\n",
        "print(texto_corrigido)"
      ],
      "metadata": {
        "colab": {
          "base_uri": "https://localhost:8080/"
        },
        "id": "G8Nt6RvDZPeV",
        "outputId": "2ef883c9-d649-4142-850f-28c437d4f15d"
      },
      "execution_count": null,
      "outputs": [
        {
          "output_type": "stream",
          "name": "stdout",
          "text": [
            "Este é um exemplo de frase com erro de ortografia.\n"
          ]
        }
      ]
    },
    {
      "cell_type": "markdown",
      "source": [
        "## **Stemização**\n",
        "---"
      ],
      "metadata": {
        "id": "IRDS3RxoapDM"
      }
    },
    {
      "cell_type": "markdown",
      "source": [
        "A **stemização** (*stemming*) é um processo de normalização de palavras em linguística computacional e processamento de linguagem natural. O objetivo da **stemização** é reduzir as palavras em sua forma raiz ou *stem*, de modo que palavras semelhantes possam ser agrupadas juntas. Isso é útil em aplicações como análise de sentimentos, recuperação de informações e classificação de documentos.\n",
        "\n",
        "O processo de **stemização** envolve a remoção de sufixos e prefixos das palavras, deixando apenas o núcleo ou raiz da palavra. Por exemplo, a palavra \"corrida\" pode ser reduzida ao seu *stem* \"corrid\", que pode ser usado para agrupar palavras relacionadas, como \"correr\", \"corredor\" e \"corredora\".\n",
        "\n",
        "Existem diferentes algoritmos e técnicas para realizar a **stemização**, como o algoritmo de Porter, o Snowball e o algoritmo de Lancaster. Cada um desses algoritmos tem suas próprias regras e heurísticas para reduzir as palavras à sua forma raiz. A escolha do algoritmo depende da língua em que o processamento será feito e da aplicação específica em questão."
      ],
      "metadata": {
        "id": "TUT1d7_3kDed"
      }
    },
    {
      "cell_type": "markdown",
      "source": [
        "Aqui está um exemplo de código em Python usando a biblioteca `NLTK` para realizar a stemização de palavras em português:"
      ],
      "metadata": {
        "id": "TnMBuq5TlS49"
      }
    },
    {
      "cell_type": "code",
      "source": [
        "import nltk\n",
        "from nltk.stem.snowball import SnowballStemmer\n",
        "\n",
        "stemmer = SnowballStemmer(\"portuguese\")\n",
        "\n",
        "def stem_text(text):\n",
        "    words = nltk.word_tokenize(text, language='portuguese')\n",
        "    stems = [stemmer.stem(word) for word in words]\n",
        "    stemmed_text = \" \".join(stems)\n",
        "    return stemmed_text\n",
        "\n",
        "text = \"Estou correndo no parque e vi um corredor correndo mais rápido do que eu.\"\n",
        "stemmed_text = stem_text(text)\n",
        "print(stemmed_text)"
      ],
      "metadata": {
        "colab": {
          "base_uri": "https://localhost:8080/"
        },
        "id": "C2urXssXlMRk",
        "outputId": "68e9a954-cdad-4a30-b573-694ce216e693"
      },
      "execution_count": null,
      "outputs": [
        {
          "output_type": "stream",
          "name": "stdout",
          "text": [
            "estou corr no parqu e vi um corredor corr mais ráp do que eu .\n"
          ]
        }
      ]
    },
    {
      "cell_type": "markdown",
      "source": [
        "Aqui está outro exemplo em Python usando a biblioteca `NLTK` para realizar a stemização em português:"
      ],
      "metadata": {
        "id": "N9PwonqMmt0s"
      }
    },
    {
      "cell_type": "code",
      "source": [
        "import nltk\n",
        "nltk.download('rslp')"
      ],
      "metadata": {
        "colab": {
          "base_uri": "https://localhost:8080/"
        },
        "id": "0ekmTbgHmg1x",
        "outputId": "aede0dc1-8494-4431-fe5f-9cf960d2b3bd"
      },
      "execution_count": null,
      "outputs": [
        {
          "output_type": "stream",
          "name": "stderr",
          "text": [
            "[nltk_data] Downloading package rslp to /root/nltk_data...\n",
            "[nltk_data]   Unzipping stemmers/rslp.zip.\n"
          ]
        },
        {
          "output_type": "execute_result",
          "data": {
            "text/plain": [
              "True"
            ]
          },
          "metadata": {},
          "execution_count": 27
        }
      ]
    },
    {
      "cell_type": "code",
      "source": [
        "from nltk.stem import RSLPStemmer\n",
        "\n",
        "stemmer = RSLPStemmer()\n",
        "\n",
        "def stem_text(text):\n",
        "    words = nltk.word_tokenize(text)\n",
        "    stems = [stemmer.stem(word) for word in words]\n",
        "    stemmed_text = \" \".join(stems)\n",
        "    return stemmed_text\n",
        "\n",
        "text = \"Eu estou correndo no parque e vi um corredor correndo mais rápido do que eu.\"\n",
        "stemmed_text = stem_text(text)\n",
        "print(stemmed_text)\n"
      ],
      "metadata": {
        "colab": {
          "base_uri": "https://localhost:8080/"
        },
        "id": "qtI86nlmmeEX",
        "outputId": "bee6b4ef-51f8-473c-bb88-93568843cc41"
      },
      "execution_count": null,
      "outputs": [
        {
          "output_type": "stream",
          "name": "stdout",
          "text": [
            "eu est corr no parqu e vi um corr corr mais rápid do que eu .\n"
          ]
        }
      ]
    },
    {
      "cell_type": "markdown",
      "source": [
        "Neste exemplo, instalamos a biblioteca `NLTK`, que contém vários recursos úteis para processamento de texto, incluindo stemmers para várias línguas, incluindo o português. Em seguida, importamos o stemmer `RSLPStemmer` e definimos a função `stem_text` que tokeniza o texto em palavras, aplica o stemmer a cada palavra e, em seguida, junta as palavras novamente em uma string."
      ],
      "metadata": {
        "id": "jPkrzDW2myVI"
      }
    },
    {
      "cell_type": "markdown",
      "source": [
        "Observe que a stemização não é perfeita e, às vezes, pode levar a resultados imprecisos. Além disso, a stemização é uma forma de pré-processamento de texto e, portanto, deve ser aplicada antes de outras etapas.\n"
      ],
      "metadata": {
        "id": "D4yHflh6nADK"
      }
    },
    {
      "cell_type": "markdown",
      "source": [
        "Aqui está um exemplo mais simples de stemização em português utilizando a biblioteca `TextBlob`:"
      ],
      "metadata": {
        "id": "Ot5Bufit9Hkv"
      }
    },
    {
      "cell_type": "code",
      "source": [
        "from textblob import TextBlob\n",
        "\n",
        "# Define um texto de exemplo em português\n",
        "text = \"O rápido cão marrom saltou sobre o preguiçoso cachorro\"\n",
        "\n",
        "# Instancia um objeto TextBlob com o texto de exemplo\n",
        "blob = TextBlob(text)\n",
        "\n",
        "# Realiza a stemização do texto\n",
        "stemmed_text = ' '.join([word.stem() for word in blob.words])\n",
        "\n",
        "# Imprime o texto stemizado\n",
        "print(stemmed_text)"
      ],
      "metadata": {
        "colab": {
          "base_uri": "https://localhost:8080/"
        },
        "id": "xkiKuUXc9CGl",
        "outputId": "dbc750b4-854b-4ad8-bc44-0e0e61856a59"
      },
      "execution_count": null,
      "outputs": [
        {
          "output_type": "stream",
          "name": "stdout",
          "text": [
            "o rápido cão marrom saltou sobr o preguiçoso cachorro\n"
          ]
        }
      ]
    },
    {
      "cell_type": "markdown",
      "source": [
        "Aqui está um exemplo de código em Python usando a biblioteca `NLTK` para realizar a stemização de palavras em inglês:"
      ],
      "metadata": {
        "id": "2-ySihr3lcVB"
      }
    },
    {
      "cell_type": "code",
      "source": [
        "import nltk\n",
        "from nltk.stem import PorterStemmer\n",
        "\n",
        "stemmer = PorterStemmer()\n",
        "\n",
        "def stem_text(text):\n",
        "    words = nltk.word_tokenize(text)\n",
        "    stems = [stemmer.stem(word) for word in words]\n",
        "    stemmed_text = \" \".join(stems)\n",
        "    return stemmed_text\n",
        "\n",
        "text = \"I am running in the park and saw a runner running faster than me.\"\n",
        "stemmed_text = stem_text(text)\n",
        "print(stemmed_text)"
      ],
      "metadata": {
        "colab": {
          "base_uri": "https://localhost:8080/"
        },
        "id": "sxfFKM4KlYER",
        "outputId": "c1b133d8-de84-460b-eac1-0c69732d1d55"
      },
      "execution_count": null,
      "outputs": [
        {
          "output_type": "stream",
          "name": "stdout",
          "text": [
            "i am run in the park and saw a runner run faster than me .\n"
          ]
        }
      ]
    },
    {
      "cell_type": "markdown",
      "source": [
        "Aqui está outro exemplo:"
      ],
      "metadata": {
        "id": "Y32Pry14rMIT"
      }
    },
    {
      "cell_type": "code",
      "source": [
        "from nltk.stem.snowball import SnowballStemmer\n",
        "\n",
        "stemmer = SnowballStemmer(language='english')\n",
        "\n",
        "tokens = ['compute', 'computer', 'computed', 'computing']\n",
        "\n",
        "for token in tokens:\n",
        "    print(token + ' --> ' + stemmer.stem(token))"
      ],
      "metadata": {
        "colab": {
          "base_uri": "https://localhost:8080/"
        },
        "id": "SjVqJKVZrJGA",
        "outputId": "15bba528-a183-4c27-ba5d-8f1788498f6a"
      },
      "execution_count": null,
      "outputs": [
        {
          "output_type": "stream",
          "name": "stdout",
          "text": [
            "compute --> comput\n",
            "computer --> comput\n",
            "computed --> comput\n",
            "computing --> comput\n"
          ]
        }
      ]
    },
    {
      "cell_type": "markdown",
      "source": [
        "## **Lematização**\n",
        "---"
      ],
      "metadata": {
        "id": "LK4dHF4JawmS"
      }
    },
    {
      "cell_type": "markdown",
      "source": [
        "A **lematização** (*lemmatization*) é um processo de normalização de palavras em linguística computacional e processamento de linguagem natural. O objetivo da **lematização** é reduzir palavras em sua forma canônica ou base, conhecida como *lemma*, de modo que palavras com significados semelhantes possam ser agrupadas juntas. Isso é útil em aplicações como análise de sentimentos, recuperação de informações e classificação de documentos.\n",
        "\n",
        "Ao contrário da stemização, a **lematização** não apenas remove os sufixos e prefixos das palavras, mas também leva em consideração a classe gramatical da palavra e sua flexão. Por exemplo, a palavra \"correndo\" pode ser reduzida ao seu *lemma* \"correr\", enquanto a palavra \"corrida\" pode ser reduzida ao seu *lemma* \"corrida\".\n",
        "\n",
        "Existem diferentes algoritmos e técnicas para realizar a **lematização**, como o algoritmo WordNet e o algoritmo de **lematização** baseado em regras. Cada algoritmo tem suas próprias regras e heurísticas para reduzir as palavras ao seu lemma. A escolha do algoritmo também depende da língua em que o processamento será feito e da aplicação específica em questão."
      ],
      "metadata": {
        "id": "tkLsonzskbwI"
      }
    },
    {
      "cell_type": "markdown",
      "source": [
        "Aqui está um exemplo de código em Python usando a biblioteca `NLTK` para realizar a lematização:"
      ],
      "metadata": {
        "id": "Y41CLp9orgk9"
      }
    },
    {
      "cell_type": "code",
      "source": [
        "import nltk\n",
        "\n",
        "# Baixa o corpus do WordNet, se ainda não foi baixado\n",
        "nltk.download('wordnet')  \n",
        "nltk.download('omw-1.4')"
      ],
      "metadata": {
        "colab": {
          "base_uri": "https://localhost:8080/"
        },
        "id": "742czm8BrnJF",
        "outputId": "d64d02f7-cf65-43d9-957e-84da97a8ee03"
      },
      "execution_count": null,
      "outputs": [
        {
          "output_type": "stream",
          "name": "stderr",
          "text": [
            "[nltk_data] Downloading package wordnet to /root/nltk_data...\n",
            "[nltk_data] Downloading package omw-1.4 to /root/nltk_data...\n"
          ]
        },
        {
          "output_type": "execute_result",
          "data": {
            "text/plain": [
              "True"
            ]
          },
          "metadata": {},
          "execution_count": 31
        }
      ]
    },
    {
      "cell_type": "markdown",
      "source": [
        "O código `nltk.download('wordnet')` faz o download do corpus do `WordNet`, que é um dicionário léxico online usado para a lematização, a consulta de sinônimos e outras tarefas relacionadas ao PLN."
      ],
      "metadata": {
        "id": "HQO7Okh9r4pF"
      }
    },
    {
      "cell_type": "markdown",
      "source": [
        "O código `nltk.download('omw-1.4')` faz o download do corpus do *Open Multilingual WordNet* (OMW), que é um recurso linguístico que oferece sinônimos em vários idiomas. O OMW é baseado no WordNet, mas em vez de se concentrar exclusivamente no inglês, ele inclui sinônimos em várias línguas, como francês, italiano, espanhol e outros."
      ],
      "metadata": {
        "id": "YpGiymtvsJEB"
      }
    },
    {
      "cell_type": "code",
      "source": [
        "from nltk.stem import WordNetLemmatizer\n",
        "\n",
        "lemmatizer = WordNetLemmatizer()\n",
        "\n",
        "text = \"Os gatos estão correndo e brincando juntos\"\n",
        "\n",
        "tokens = nltk.word_tokenize(text)\n",
        "\n",
        "lemmas = []\n",
        "for token in tokens:\n",
        "    lemma = lemmatizer.lemmatize(token)\n",
        "    lemmas.append(lemma)\n",
        "\n",
        "print(lemmas)"
      ],
      "metadata": {
        "colab": {
          "base_uri": "https://localhost:8080/"
        },
        "id": "K48DRnqariYU",
        "outputId": "b4f63104-0362-4a12-c907-ca6de1a5b00d"
      },
      "execution_count": null,
      "outputs": [
        {
          "output_type": "stream",
          "name": "stdout",
          "text": [
            "['Os', 'gatos', 'estão', 'correndo', 'e', 'brincando', 'junto']\n"
          ]
        }
      ]
    },
    {
      "cell_type": "markdown",
      "source": [
        "Aqui está um exemplo de como realizar a lematização usando a biblioteca `spaCy` em Python:"
      ],
      "metadata": {
        "id": "lsS7Btof6Nbh"
      }
    },
    {
      "cell_type": "code",
      "source": [
        "import spacy\n",
        "\n",
        "# Carrega o modelo de linguagem em português\n",
        "nlp = spacy.load('pt_core_news_sm')\n",
        "\n",
        "# Texto de exemplo\n",
        "texto = \"Eu estava correndo no parque quando vi um bando de pássaros.\"\n",
        "\n",
        "# Processa o texto com o modelo de linguagem\n",
        "doc = nlp(texto)\n",
        "\n",
        "# Imprime as palavras e seus lemas\n",
        "for token in doc:\n",
        "    print(token.text, token.lemma_)"
      ],
      "metadata": {
        "colab": {
          "base_uri": "https://localhost:8080/"
        },
        "id": "cSP0SwyG6BpS",
        "outputId": "d6d77e2e-2258-4489-86be-3741c18dc810"
      },
      "execution_count": null,
      "outputs": [
        {
          "output_type": "stream",
          "name": "stdout",
          "text": [
            "Eu eu\n",
            "estava estar\n",
            "correndo correr\n",
            "no em o\n",
            "parque parque\n",
            "quando quando\n",
            "vi ver\n",
            "um um\n",
            "bando bando\n",
            "de de\n",
            "pássaros pássaro\n",
            ". .\n"
          ]
        }
      ]
    },
    {
      "cell_type": "markdown",
      "source": [
        "Observe que as palavras \"estava\" e \"correndo\" foram reduzidas ao seu lema \"estar\" e \"correr\", respectivamente."
      ],
      "metadata": {
        "id": "RvL8fq6f6rUJ"
      }
    },
    {
      "cell_type": "markdown",
      "source": [
        "Aqui está um exemplo de como realizar a lematização usando a biblioteca `TextBlob` em Python:"
      ],
      "metadata": {
        "id": "4Ujd0W1q6fJB"
      }
    },
    {
      "cell_type": "code",
      "source": [
        "from textblob import TextBlob\n",
        "\n",
        "# Texto de exemplo\n",
        "texto = \"Eu estava correndo no parque quando vi um bando de pássaros.\"\n",
        "\n",
        "# Cria um objeto TextBlob a partir do texto\n",
        "blob = TextBlob(texto)\n",
        "\n",
        "# Imprime as palavras e seus lemas\n",
        "for palavra in blob.words:\n",
        "    print(palavra, palavra.lemmatize())"
      ],
      "metadata": {
        "colab": {
          "base_uri": "https://localhost:8080/"
        },
        "id": "WRZ36dK16Q4u",
        "outputId": "992dc2d2-372a-435a-a588-2ec23ca5f694"
      },
      "execution_count": null,
      "outputs": [
        {
          "output_type": "stream",
          "name": "stdout",
          "text": [
            "Eu Eu\n",
            "estava estava\n",
            "correndo correndo\n",
            "no no\n",
            "parque parque\n",
            "quando quando\n",
            "vi vi\n",
            "um um\n",
            "bando bando\n",
            "de de\n",
            "pássaros pássaros\n"
          ]
        }
      ]
    },
    {
      "cell_type": "markdown",
      "source": [
        "Observe que a palavra \"correndo\" não foi reduzida ao seu lema \"correr\" porque a biblioteca `TextBlob` utiliza uma estratégia mais simples de lematização que se baseia apenas na remoção de sufixos e prefixos, sem levar em conta o contexto das palavras. No entanto, a biblioteca pode ser útil em alguns casos em que se deseja uma solução mais simples e rápida para a lematização."
      ],
      "metadata": {
        "id": "Y0cMFfDD6hRk"
      }
    },
    {
      "cell_type": "markdown",
      "source": [
        "Aqui está um exemplo de código criativo para a lematização e stemização de palavras usando a biblioteca `NLTK` em Python:"
      ],
      "metadata": {
        "id": "3Xi9KXYE7oSj"
      }
    },
    {
      "cell_type": "code",
      "source": [
        "import nltk\n",
        "from nltk.stem import SnowballStemmer, WordNetLemmatizer\n",
        "\n",
        "# Instancia um objeto lematizador do WordNet\n",
        "lemmatizer = WordNetLemmatizer()\n",
        "\n",
        "# Instancia um objeto stemizador para o idioma português\n",
        "stemmer = SnowballStemmer(\"portuguese\")\n",
        "\n",
        "# Texto de exemplo\n",
        "texto = \"Os cachorros correm no parque enquanto os pássaros cantam.\"\n",
        "\n",
        "# Realiza a tokenização do texto\n",
        "tokens = nltk.word_tokenize(texto)\n",
        "\n",
        "# Inicializa listas para armazenar as palavras lematizadas e stemizadas\n",
        "lemas = []\n",
        "stems = []\n",
        "\n",
        "# Percorre cada token e realiza a lematização e a stemização\n",
        "for token in tokens:\n",
        "    # Lematização\n",
        "    lemma = lemmatizer.lemmatize(token)\n",
        "    lemas.append(lemma)\n",
        "\n",
        "    # Stemização\n",
        "    stem = stemmer.stem(token)\n",
        "    stems.append(stem)\n",
        "\n",
        "# Imprime o texto lematizado e stemizado\n",
        "print(\"Texto original: \", texto)\n",
        "print(\"Lematizado: \", \" \".join(lemas))\n",
        "print(\"Stemizado: \", \" \".join(stems))"
      ],
      "metadata": {
        "colab": {
          "base_uri": "https://localhost:8080/"
        },
        "id": "efAZzc3v7jSz",
        "outputId": "32d929fb-a1d9-4c9a-877f-82f6f41259c2"
      },
      "execution_count": null,
      "outputs": [
        {
          "output_type": "stream",
          "name": "stdout",
          "text": [
            "Texto original:  Os cachorros correm no parque enquanto os pássaros cantam.\n",
            "Lematizado:  Os cachorros correm no parque enquanto o pássaros cantam .\n",
            "Stemizado:  os cachorr corr no parqu enquant os pássar cant .\n"
          ]
        }
      ]
    },
    {
      "cell_type": "code",
      "source": [
        "import nltk\n",
        "from nltk.corpus import stopwords\n",
        "from nltk.tokenize import word_tokenize\n",
        "from nltk.stem import SnowballStemmer, WordNetLemmatizer\n",
        "from collections import Counter\n",
        "\n",
        "# Instancia um objeto lematizador do WordNet\n",
        "lemmatizer = WordNetLemmatizer()\n",
        "\n",
        "# Instancia um objeto stemizador para o idioma inglês\n",
        "stemmer = SnowballStemmer(\"english\")\n",
        "\n",
        "# Define o texto de exemplo\n",
        "texto = \"The quick brown fox jumped over the lazy dog. The dog was not amused.\"\n",
        "\n",
        "# Realiza a tokenização do texto e remove as stop words\n",
        "tokens = [token.lower() for token in word_tokenize(texto) if token.isalpha() and token.lower() not in stopwords.words(\"english\")]\n",
        "\n",
        "# Inicializa listas para armazenar as palavras lematizadas e stemizadas\n",
        "lemas = []\n",
        "stems = []\n",
        "\n",
        "# Percorre cada token e realiza a lematização e a stemização\n",
        "for token in tokens:\n",
        "    # Lematização\n",
        "    lemma = lemmatizer.lemmatize(token)\n",
        "    lemas.append(lemma)\n",
        "\n",
        "    # Stemização\n",
        "    stem = stemmer.stem(token)\n",
        "    stems.append(stem)\n",
        "\n",
        "# Cria um contador para contar a frequência de cada palavra\n",
        "frequencias = Counter(tokens)\n",
        "\n",
        "# Imprime os resultados\n",
        "print(\"Texto original: \", texto)\n",
        "print(\"Tokens: \", tokens)\n",
        "print(\"Palavras únicas: \", set(tokens))\n",
        "print(\"Frequências: \", frequencias)\n",
        "print(\"Lemas: \", lemas)\n",
        "print(\"Stems: \", stems)"
      ],
      "metadata": {
        "colab": {
          "base_uri": "https://localhost:8080/"
        },
        "id": "SONf_cO074uH",
        "outputId": "f3dbea0f-f35d-48f6-a8d8-500df4d254e1"
      },
      "execution_count": null,
      "outputs": [
        {
          "output_type": "stream",
          "name": "stdout",
          "text": [
            "Texto original:  The quick brown fox jumped over the lazy dog. The dog was not amused.\n",
            "Tokens:  ['quick', 'brown', 'fox', 'jumped', 'lazy', 'dog', 'dog', 'amused']\n",
            "Palavras únicas:  {'fox', 'jumped', 'dog', 'lazy', 'brown', 'amused', 'quick'}\n",
            "Frequências:  Counter({'dog': 2, 'quick': 1, 'brown': 1, 'fox': 1, 'jumped': 1, 'lazy': 1, 'amused': 1})\n",
            "Lemas:  ['quick', 'brown', 'fox', 'jumped', 'lazy', 'dog', 'dog', 'amused']\n",
            "Stems:  ['quick', 'brown', 'fox', 'jump', 'lazi', 'dog', 'dog', 'amus']\n"
          ]
        }
      ]
    },
    {
      "cell_type": "markdown",
      "source": [
        "Observe que a função remove as *stop words* (palavras comuns que não agregam muito significado ao texto, como \"the\" e \"was\") antes de realizar a lematização e a stemização. Além disso, o código utiliza um objeto `Counter` do Python para contar a frequência de cada palavra no texto."
      ],
      "metadata": {
        "id": "DrCI4xx38GqP"
      }
    },
    {
      "cell_type": "markdown",
      "source": [
        "## **Normalização de Textos**\n",
        "---"
      ],
      "metadata": {
        "id": "Pb-grWGcBsBx"
      }
    },
    {
      "cell_type": "markdown",
      "source": [
        "**Normalização de textos** é o processo de transformar textos em uma forma mais consistente e uniforme. O objetivo da normalização é tornar o texto mais fácil de ser processado por algoritmos, melhorar a qualidade da análise de texto e tornar as comparações de palavras e frases mais precisas. A normalização pode incluir a remoção de caracteres especiais, a correção ortográfica, a padronização de maiúsculas e minúsculas, a remoção de pontuação, a remoção de stopwords (palavras comuns que não possuem significado específico) e a lematização (transformação de palavras em sua forma base).\n",
        "\n",
        "A normalização de texto é uma tarefa importante em várias aplicações de PLN, incluindo análise de sentimento, classificação de texto, tradução automática, reconhecimento de fala etc."
      ],
      "metadata": {
        "id": "n-0b48jvES78"
      }
    },
    {
      "cell_type": "markdown",
      "source": [
        "Aqui está um exemplo mais interessante de normalização de texto que combina o uso do módulo `unicodedata` do Python com expressões regulares:"
      ],
      "metadata": {
        "id": "CbODIN9dCD54"
      }
    },
    {
      "cell_type": "code",
      "source": [
        "import re\n",
        "import unicodedata\n",
        "\n",
        "# Definindo um texto com caracteres acentuados, espaços extras e caracteres especiais\n",
        "texto = \"    Olá! Tudo bem? Eu gostaria de pedir um café expresso, por favor.   ☕️ \"\n",
        "\n",
        "# Removendo caracteres especiais e acentos utilizando o módulo unicodedata\n",
        "texto_sem_acentos = unicodedata.normalize('NFKD', texto).encode('ASCII', 'ignore').decode('ASCII')\n",
        "\n",
        "# Removendo espaços extras utilizando expressões regulares\n",
        "texto_normalizado = re.sub(r'\\s+', ' ', texto_sem_acentos).strip()\n",
        "\n",
        "# Exibindo o resultado\n",
        "print(texto_normalizado)\n"
      ],
      "metadata": {
        "colab": {
          "base_uri": "https://localhost:8080/"
        },
        "id": "NIdGL9JBBZwb",
        "outputId": "9bf2adb0-9d57-41cf-8be9-747fe9aed080"
      },
      "execution_count": null,
      "outputs": [
        {
          "output_type": "stream",
          "name": "stdout",
          "text": [
            "Ola! Tudo bem? Eu gostaria de pedir um cafe expresso, por favor.\n"
          ]
        }
      ]
    },
    {
      "cell_type": "markdown",
      "source": [
        "Nesse exemplo, utilizamos a função `unidecode` da biblioteca `unidecode` para converter caracteres acentuados e especiais em caracteres ASCII. Esse processo de normalização pode ser útil para padronizar o texto e reduzir a variação de caracteres em diferentes fontes de dados. Ele também pode ajudar a simplificar a análise de texto, especialmente quando há diferenças de codificação entre as fontes de dados."
      ],
      "metadata": {
        "id": "HKKoSC3dCN9U"
      }
    },
    {
      "cell_type": "markdown",
      "source": [
        "Aqui está um exemplo de normalização de texto que utiliza expressões regulares para substituir padrões específicos de caracteres:"
      ],
      "metadata": {
        "id": "GUbNIGbeCVKQ"
      }
    },
    {
      "cell_type": "code",
      "source": [
        "import re\n",
        "\n",
        "# Definindo um texto com abreviações e gírias\n",
        "texto = \"Eu n sei se vc vai cmg, mas acho q a galera vai. Vou t mandar um zap dps\"\n",
        "\n",
        "# Definindo um dicionário de substituição\n",
        "substituicoes = {\n",
        "    r'n sei': 'não sei',\n",
        "    r'vc': 'você',\n",
        "    r'cmg': 'comigo',\n",
        "    r'q': 'que',\n",
        "    r'galera': 'turma',\n",
        "    r't ': 'te ',\n",
        "    r'zap': 'mensagem',\n",
        "    r'dps': 'depois'\n",
        "}\n",
        "\n",
        "# Iterando sobre as chaves do dicionário e aplicando as substituições com expressões regulares\n",
        "for padrao, substituicao in substituicoes.items():\n",
        "    texto = re.sub(padrao, substituicao, texto)\n",
        "\n",
        "# Exibindo o resultado\n",
        "print(texto)"
      ],
      "metadata": {
        "colab": {
          "base_uri": "https://localhost:8080/"
        },
        "id": "HQQ_pWM0Bxzp",
        "outputId": "d66f2f9b-a2c1-47c0-fd0d-52536d550441"
      },
      "execution_count": null,
      "outputs": [
        {
          "output_type": "stream",
          "name": "stdout",
          "text": [
            "Eu não sei se você vai comigo, mas acho que a turma vai. Vou te mandar um mensagem depois\n"
          ]
        }
      ]
    },
    {
      "cell_type": "markdown",
      "source": [
        "Nesse exemplo, utilizamos expressões regulares para substituir abreviações e gírias por palavras completas. O dicionário `substituicoes` contém as chaves que representam os padrões de caracteres que serão substituídos e os valores que representam as palavras completas que serão utilizadas como substituição. Em seguida, iteramos sobre as chaves do dicionário e aplicamos as substituições com a função `re.sub()` da biblioteca `re`. O resultado é um texto normalizado que utiliza palavras completas em vez de abreviações e gírias."
      ],
      "metadata": {
        "id": "MzPxKyUgCbOJ"
      }
    },
    {
      "cell_type": "markdown",
      "source": [
        "Aqui está outro exemplo de normalização de texto em Python, usando a biblioteca `re` e a técnica de remoção de caracteres especiais:"
      ],
      "metadata": {
        "id": "1MpRQ8x0HVrc"
      }
    },
    {
      "cell_type": "code",
      "source": [
        "import re\n",
        "\n",
        "# definir uma string com caracteres especiais\n",
        "texto = \"Hello, world! 😃🎉🔥🎂👋🏼👨🏻‍💻\"\n",
        "\n",
        "# remover caracteres especiais\n",
        "texto_sem_caracteres_especiais = re.sub(r'[^\\w\\s]', '', texto)\n",
        "\n",
        "# imprimir o texto normalizado\n",
        "print(texto_sem_caracteres_especiais)"
      ],
      "metadata": {
        "colab": {
          "base_uri": "https://localhost:8080/"
        },
        "id": "jv9JfuxCHRpA",
        "outputId": "48e11e07-fd29-4126-9716-f9137aaa8feb"
      },
      "execution_count": null,
      "outputs": [
        {
          "output_type": "stream",
          "name": "stdout",
          "text": [
            "Hello world \n"
          ]
        }
      ]
    },
    {
      "cell_type": "code",
      "source": [
        "import re\n",
        "\n",
        "# Definir um tweet para normalizar\n",
        "tweet = \"Acabei de assistir um filme incrível! @Netflix, vocês arrasaram! 🎥🍿 http://netflix.com/filme\"\n",
        "\n",
        "# Remover URLs e menções\n",
        "tweet_sem_url = re.sub(r\"http\\S+\", \"\", tweet) # remover URLs\n",
        "tweet_sem_mencao = re.sub(r\"@\\S+\", \"\", tweet_sem_url) # remover menções\n",
        "\n",
        "# Imprimir o tweet normalizado\n",
        "print(tweet_sem_mencao)"
      ],
      "metadata": {
        "colab": {
          "base_uri": "https://localhost:8080/"
        },
        "id": "-4s7B64bIYHk",
        "outputId": "5dc8e18a-9551-4894-9981-ba67f8eb2059"
      },
      "execution_count": null,
      "outputs": [
        {
          "output_type": "stream",
          "name": "stdout",
          "text": [
            "Acabei de assistir um filme incrível!  vocês arrasaram! 🎥🍿 \n"
          ]
        }
      ]
    },
    {
      "cell_type": "code",
      "source": [
        "import string\n",
        "\n",
        "# Definir um texto para normalizar\n",
        "texto = \"Esta frase tem! muita pontuação, certo? Mas vamos normalizar.\"\n",
        "\n",
        "# Transformar todas as letras em minúsculas\n",
        "texto = texto.lower()\n",
        "\n",
        "# Tokenizar o texto e remover a pontuação\n",
        "tokens = texto.split()\n",
        "tokens_sem_pontuacao = [token.translate(str.maketrans('', '', string.punctuation)) for token in tokens]\n",
        "\n",
        "# Imprimir os tokens normalizados\n",
        "print(tokens_sem_pontuacao)"
      ],
      "metadata": {
        "colab": {
          "base_uri": "https://localhost:8080/"
        },
        "id": "tqNnqLgBIpel",
        "outputId": "9f344eba-8dce-4916-cde4-7f9252afea7f"
      },
      "execution_count": null,
      "outputs": [
        {
          "output_type": "stream",
          "name": "stdout",
          "text": [
            "['esta', 'frase', 'tem', 'muita', 'pontuação', 'certo', 'mas', 'vamos', 'normalizar']\n"
          ]
        }
      ]
    },
    {
      "cell_type": "code",
      "source": [
        "import re\n",
        "\n",
        "# Definir um texto em português com uma data\n",
        "texto = \"A reunião está marcada para o dia 15/03/2022.\"\n",
        "\n",
        "# Normalizar a data para o formato 'YYYY-MM-DD'\n",
        "padrao_data = r'(\\d{2})/(\\d{2})/(\\d{4})'\n",
        "texto_normalizado = re.sub(padrao_data, r'\\3-\\2-\\1', texto)\n",
        "\n",
        "# Imprimir o texto normalizado\n",
        "print(texto_normalizado)"
      ],
      "metadata": {
        "colab": {
          "base_uri": "https://localhost:8080/"
        },
        "id": "SDSQWPNiJkDH",
        "outputId": "3b8c1b5b-1e36-4f46-cbdf-aeb19396a27d"
      },
      "execution_count": null,
      "outputs": [
        {
          "output_type": "stream",
          "name": "stdout",
          "text": [
            "A reunião está marcada para o dia 2022-03-15.\n"
          ]
        }
      ]
    },
    {
      "cell_type": "code",
      "source": [
        "import re\n",
        "\n",
        "# Definir um texto em português com uma URL\n",
        "texto = \"Visite meu site em https://www.meusite.com.br/.\"\n",
        "\n",
        "# Normalizar a URL para o formato 'meusite.com.br'\n",
        "padrao_url = r'(https?://)?(www\\.)?([a-zA-Z0-9-]+)\\.[a-z]{2,}(\\.[a-z]{2,})?'\n",
        "texto_normalizado = re.sub(padrao_url, r'\\3', texto)\n",
        "\n",
        "# Imprimir o texto normalizado\n",
        "print(texto_normalizado)"
      ],
      "metadata": {
        "colab": {
          "base_uri": "https://localhost:8080/"
        },
        "id": "sSZijM1pJzN4",
        "outputId": "dfb19727-9313-45d3-e924-c82285c939fd"
      },
      "execution_count": null,
      "outputs": [
        {
          "output_type": "stream",
          "name": "stdout",
          "text": [
            "Visite meu site em meusite/.\n"
          ]
        }
      ]
    },
    {
      "cell_type": "code",
      "source": [
        "import re\n",
        "\n",
        "# Definir um texto em português com um número de telefone\n",
        "texto = \"Meu número de telefone é (11) 99999-9999.\"\n",
        "\n",
        "# Normalizar o número de telefone para o formato '11999999999'\n",
        "padrao_telefone = r'\\((\\d{2})\\)\\s+(\\d{5})-(\\d{4})'\n",
        "texto_normalizado = re.sub(padrao_telefone, r'\\1\\2\\3', texto)\n",
        "\n",
        "# Imprimir o texto normalizado\n",
        "print(texto_normalizado)"
      ],
      "metadata": {
        "colab": {
          "base_uri": "https://localhost:8080/"
        },
        "id": "iBVhgPZlJ78H",
        "outputId": "2253e9f9-22e3-4adf-e2a8-2cb80d4a663c"
      },
      "execution_count": null,
      "outputs": [
        {
          "output_type": "stream",
          "name": "stdout",
          "text": [
            "Meu número de telefone é 11999999999.\n"
          ]
        }
      ]
    }
  ]
}